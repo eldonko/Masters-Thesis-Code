{
  "cells": [
    {
      "cell_type": "markdown",
      "source": [
        "# Imports & private packages"
      ],
      "metadata": {
        "id": "xTREUMD46H1g"
      },
      "id": "xTREUMD46H1g"
    },
    {
      "cell_type": "code",
      "source": [
        "from google.colab import drive\n",
        "drive.mount('/content/drive')"
      ],
      "metadata": {
        "colab": {
          "base_uri": "https://localhost:8080/",
          "height": 0
        },
        "id": "5bLNQbzk5x-p",
        "outputId": "e4330924-c0d5-4dd2-f1d8-8b457c746465"
      },
      "id": "5bLNQbzk5x-p",
      "execution_count": 1,
      "outputs": [
        {
          "output_type": "stream",
          "name": "stdout",
          "text": [
            "Mounted at /content/drive\n"
          ]
        }
      ]
    },
    {
      "cell_type": "markdown",
      "source": [
        "## Private packages via Google Drive"
      ],
      "metadata": {
        "id": "LQ3O3hua6WR6"
      },
      "id": "LQ3O3hua6WR6"
    },
    {
      "cell_type": "code",
      "source": [
        "cd \"/content/drive/Othercomputers/PC/Masterarbeit/5 Programmcodes/packages/sgte\""
      ],
      "metadata": {
        "colab": {
          "base_uri": "https://localhost:8080/",
          "height": 0
        },
        "id": "bIrlhU596EKh",
        "outputId": "d653c488-b5f3-48e0-f5d7-1b4d897bf6ca"
      },
      "id": "bIrlhU596EKh",
      "execution_count": 7,
      "outputs": [
        {
          "output_type": "stream",
          "name": "stdout",
          "text": [
            "/content/drive/Othercomputers/PC/Masterarbeit/5 Programmcodes/packages/sgte\n"
          ]
        }
      ]
    },
    {
      "cell_type": "code",
      "source": [
        "!pip install -e ."
      ],
      "metadata": {
        "colab": {
          "base_uri": "https://localhost:8080/",
          "height": 0
        },
        "id": "rGEu5SCa6abZ",
        "outputId": "df2eef7f-6653-4a7b-c472-0aa98a293431"
      },
      "id": "rGEu5SCa6abZ",
      "execution_count": 8,
      "outputs": [
        {
          "output_type": "stream",
          "name": "stdout",
          "text": [
            "Obtaining file:///content/drive/Othercomputers/PC/Masterarbeit/5%20Programmcodes/packages/sgte\n",
            "Requirement already satisfied: numpy in /usr/local/lib/python3.7/dist-packages (from sgte==0.1.0) (1.21.5)\n",
            "Requirement already satisfied: pandas in /usr/local/lib/python3.7/dist-packages (from sgte==0.1.0) (1.3.5)\n",
            "Requirement already satisfied: python-dateutil>=2.7.3 in /usr/local/lib/python3.7/dist-packages (from pandas->sgte==0.1.0) (2.8.2)\n",
            "Requirement already satisfied: pytz>=2017.3 in /usr/local/lib/python3.7/dist-packages (from pandas->sgte==0.1.0) (2018.9)\n",
            "Requirement already satisfied: six>=1.5 in /usr/local/lib/python3.7/dist-packages (from python-dateutil>=2.7.3->pandas->sgte==0.1.0) (1.15.0)\n",
            "Installing collected packages: sgte\n",
            "  Attempting uninstall: sgte\n",
            "    Found existing installation: SGTE 0.1.0\n",
            "    Can't uninstall 'SGTE'. No files were found to uninstall.\n",
            "  Running setup.py develop for sgte\n",
            "Successfully installed sgte-0.1.0\n"
          ]
        }
      ]
    },
    {
      "cell_type": "code",
      "source": [
        "cd \"/content/drive/Othercomputers/PC/Masterarbeit/5 Programmcodes/packages/thermoclassifier\""
      ],
      "metadata": {
        "colab": {
          "base_uri": "https://localhost:8080/",
          "height": 0
        },
        "id": "EU__hk0y6j9c",
        "outputId": "cfb1ea06-4b1c-4149-ed4c-f123ec52eaa6"
      },
      "id": "EU__hk0y6j9c",
      "execution_count": 4,
      "outputs": [
        {
          "output_type": "stream",
          "name": "stdout",
          "text": [
            "/content/drive/Othercomputers/PC/Masterarbeit/5 Programmcodes/packages/thermoclassifier\n"
          ]
        }
      ]
    },
    {
      "cell_type": "code",
      "source": [
        "!pip install -e ."
      ],
      "metadata": {
        "colab": {
          "base_uri": "https://localhost:8080/",
          "height": 0
        },
        "id": "252969Uj6nx7",
        "outputId": "eb879ff0-569a-4678-e014-1f1a1d934469"
      },
      "id": "252969Uj6nx7",
      "execution_count": 5,
      "outputs": [
        {
          "output_type": "stream",
          "name": "stdout",
          "text": [
            "Obtaining file:///content/drive/Othercomputers/PC/Masterarbeit/5%20Programmcodes/packages/thermoclassifier\n",
            "Requirement already satisfied: numpy in /usr/local/lib/python3.7/dist-packages (from thermoclassifier==0.1.0) (1.21.5)\n",
            "Requirement already satisfied: pandas in /usr/local/lib/python3.7/dist-packages (from thermoclassifier==0.1.0) (1.3.5)\n",
            "Requirement already satisfied: torch in /usr/local/lib/python3.7/dist-packages (from thermoclassifier==0.1.0) (1.10.0+cu111)\n",
            "Requirement already satisfied: sgte in /content/drive/Othercomputers/PC/Masterarbeit/5 Programmcodes/packages/sgte (from thermoclassifier==0.1.0) (0.1.0)\n",
            "Requirement already satisfied: pytz>=2017.3 in /usr/local/lib/python3.7/dist-packages (from pandas->thermoclassifier==0.1.0) (2018.9)\n",
            "Requirement already satisfied: python-dateutil>=2.7.3 in /usr/local/lib/python3.7/dist-packages (from pandas->thermoclassifier==0.1.0) (2.8.2)\n",
            "Requirement already satisfied: six>=1.5 in /usr/local/lib/python3.7/dist-packages (from python-dateutil>=2.7.3->pandas->thermoclassifier==0.1.0) (1.15.0)\n",
            "Requirement already satisfied: typing-extensions in /usr/local/lib/python3.7/dist-packages (from torch->thermoclassifier==0.1.0) (3.10.0.2)\n",
            "Installing collected packages: thermoclassifier\n",
            "  Running setup.py develop for thermoclassifier\n",
            "Successfully installed thermoclassifier-0.1.0\n"
          ]
        }
      ]
    },
    {
      "cell_type": "markdown",
      "source": [
        "## Imports"
      ],
      "metadata": {
        "id": "vKyPOJT86ub8"
      },
      "id": "vKyPOJT86ub8"
    },
    {
      "cell_type": "code",
      "execution_count": 9,
      "id": "86f48880",
      "metadata": {
        "id": "86f48880"
      },
      "outputs": [],
      "source": [
        "from torch.utils.data import DataLoader\n",
        "import torch\n",
        "import torch.nn as nn\n",
        "from torch.optim import Adam\n",
        "import numpy as np\n",
        "import matplotlib.pyplot as plt\n",
        "from thermoclassifier.dataset.dataset_creator import DatasetCreator\n",
        "from thermoclassifier.elements.net import ElementClassifier\n",
        "from thermoclassifier.dataset.encoding import Encoder"
      ]
    },
    {
      "cell_type": "markdown",
      "source": [
        "# Training routine"
      ],
      "metadata": {
        "id": "f-NnRSzj7znw"
      },
      "id": "f-NnRSzj7znw"
    },
    {
      "cell_type": "code",
      "execution_count": 11,
      "id": "cdbe3d46",
      "metadata": {
        "id": "cdbe3d46"
      },
      "outputs": [],
      "source": [
        "def epoch(net, train_loader, loss_func, optimizer, batch_size, seq_len, measurement='G'):\n",
        "    epoch_losses = np.zeros([len(train_loader), ])\n",
        "    correct = 0\n",
        "    incorrect = 0\n",
        "    \n",
        "    for i, d in enumerate(train_loader):\n",
        "        # Scale inputs and get predictions\n",
        "        inp = d[:, :, :-1]#.squeeze(1)\n",
        "        inp[:, :, 0] /= 1000\n",
        "\n",
        "        # Add random noise to heat capacity values to simulate real measurements\n",
        "        #d[:, :, 1] += torch.normal(mean=0, std=1.25, size=(d.shape[0], d.shape[1], ))\n",
        "\n",
        "        predictions = net(inp.float().to(device))\n",
        "        \n",
        "        # Each batch consists of measurement batches, where seq_len measurements are put into one batch. In such a \n",
        "        # measurement batch, every measurement has the same label as it needs to be from the same element an phase. \n",
        "        # This leads to a target array where the target class is contained for each measurement in the measurement \n",
        "        # batch. With this, CrossEntropyLoss would not work as the predictions are made for the whole measurement \n",
        "        # batch and CEL therefore expects only on class label per measurement batch. Therefore, only the first \n",
        "        # element of the last dimension of d is considered as target (all the entries in the last dimension are the \n",
        "        # same anyways so it could be any entry)\n",
        "        targets = d[:, :, -1][:, 0].long().to(device)\n",
        "\n",
        "        correct += (predictions.argmax(dim=-1) == targets).sum().item()\n",
        "        incorrect += len(targets) - (predictions.argmax(dim=-1) == targets).sum().item()\n",
        "        \n",
        "        # Calculate the loss\n",
        "        loss = loss_func(predictions, targets)\n",
        "        epoch_losses[i] = loss\n",
        "        \n",
        "        # Backward step\n",
        "        net.zero_grad()\n",
        "        loss.backward()\n",
        "        optimizer.step()\n",
        "    \n",
        "    accuracy = correct/(correct + incorrect)\n",
        "    return epoch_losses.mean(), accuracy"
      ]
    },
    {
      "cell_type": "code",
      "execution_count": 12,
      "id": "723de0db",
      "metadata": {
        "id": "723de0db"
      },
      "outputs": [],
      "source": [
        "from torch.nn.modules.activation import Softmax\n",
        "# Training and testing routines\n",
        "\n",
        "def train(net, optimizer, train_loader, test_loader, batch_size, seq_len, measurement='G', nr_epochs=10000):\n",
        "    loss_func = nn.CrossEntropyLoss()\n",
        "    \n",
        "    losses = np.zeros([nr_epochs, ])\n",
        "    accuracies = np.zeros([nr_epochs, ])\n",
        "\n",
        "    best_loss, _ = epoch(net, train_loader, loss_func, optimizer, batch_size, seq_len, measurement=measurement)\n",
        "    best_net = net\n",
        "    \n",
        "    for i in range(nr_epochs):\n",
        "        losses[i], accuracies[i] = epoch(net, train_loader, loss_func, optimizer, batch_size, seq_len, measurement=measurement)\n",
        "        if losses[i] < best_loss:\n",
        "            best_net = net\n",
        "            best_loss = losses[i]\n",
        "\n",
        "        if i % 10 == 0:\n",
        "            print('Epoch ', i)\n",
        "            print('Loss: ', losses[i])\n",
        "            print('Training accuracy: ', accuracies[i])\n",
        "            #test(best_net, test_loader)\n",
        "    \n",
        "    return best_net, losses, accuracies\n",
        "\n",
        "def test(net, test_loader): \n",
        "    correct = 0\n",
        "    incorrect = 0\n",
        "    \n",
        "    for d in test_loader:\n",
        "        inp = d[:, :, :-1]#.squeeze(1)\n",
        "        inp[:, :, 0] /= 1000\n",
        "        predictions = net(inp.float().to(device)).squeeze()#.argmax()\n",
        "        targets = d[:, :, -1][:, 0].long().to(device)\n",
        "        \n",
        "        correct += (predictions.argmax(dim=-1) == targets).sum().item()\n",
        "        incorrect += len(targets) - (predictions.argmax(dim=-1) == targets).sum().item()  \n",
        "        #print(predictions.argmax(dim=-1), targets, Softmax()(predictions).amax(dim=-1))\n",
        "\n",
        "    accuracy = correct/(correct + incorrect)\n",
        "    print('Test accuracy: ', accuracy)\n",
        "    \n",
        "    return accuracy"
      ]
    },
    {
      "cell_type": "markdown",
      "source": [
        "# Run"
      ],
      "metadata": {
        "id": "oMPUIPek75Hd"
      },
      "id": "oMPUIPek75Hd"
    },
    {
      "cell_type": "markdown",
      "source": [
        "## Network definition"
      ],
      "metadata": {
        "id": "E7LvhLr2JTgK"
      },
      "id": "E7LvhLr2JTgK"
    },
    {
      "cell_type": "code",
      "execution_count": 19,
      "id": "fdc0e8c3",
      "metadata": {
        "id": "fdc0e8c3"
      },
      "outputs": [],
      "source": [
        "# Hyperparameters\n",
        "seq_len = 10\n",
        "measurement = 'C'\n",
        "batch_size = 256\n",
        "nr_epochs = 250\n",
        "lr = 0.001\n",
        "hidden_size_linear = 128\n",
        "hidden_layers = 2\n",
        "step = 0.05"
      ]
    },
    {
      "cell_type": "code",
      "source": [
        "def create_data_loaders(elements, splits, seq_len, validation=False, measurement='G', user='element', batch_size=128, shuffle=True, step=1.):\n",
        "    dc = DatasetCreator(elements=elements,  splits=splits, validation=validation, seq_len=seq_len, measurement=measurement, user=user, step=step)\n",
        "    train_dataset, test_dataset, val_dataset = dc.get_datasets()\n",
        "\n",
        "    # Create the DataLoaders\n",
        "    train_loader = DataLoader(train_dataset, batch_size=batch_size, shuffle=shuffle)\n",
        "    test_loader = DataLoader(test_dataset, batch_size=1, shuffle=shuffle)\n",
        "    if val_dataset:\n",
        "        val_loader = DataLoader(val_dataset)\n",
        "    else:\n",
        "        val_loader = None\n",
        "\n",
        "    return train_loader, test_loader, val_loader"
      ],
      "metadata": {
        "id": "HhxxJFBx_vAS"
      },
      "id": "HhxxJFBx_vAS",
      "execution_count": 15,
      "outputs": []
    },
    {
      "cell_type": "code",
      "execution_count": 21,
      "id": "bbbb81dd",
      "metadata": {
        "scrolled": false,
        "id": "bbbb81dd"
      },
      "outputs": [],
      "source": [
        "# Create the network\n",
        "t = True\n",
        "net = ElementClassifier(train, in_features=seq_len * 2, hidden_size_linear=hidden_size_linear, hidden_layers=hidden_layers)\n",
        "\n",
        "# Check if cuda is available and send net to device\n",
        "device = torch.device(\"cuda:0\" if torch.cuda.is_available() else \"cpu\")\n",
        "\n",
        "net = net.to(device)\n",
        "\n",
        "optimizer = Adam(net.parameters(), lr=lr)"
      ]
    },
    {
      "cell_type": "markdown",
      "source": [
        "## Train"
      ],
      "metadata": {
        "id": "xfxw19p8JWMj"
      },
      "id": "xfxw19p8JWMj"
    },
    {
      "cell_type": "code",
      "source": [
        "elements = None\n",
        "\n",
        "train_loader, test_loader, val_loader = create_data_loaders(elements, (0.8, 0.2), seq_len=seq_len, measurement=measurement, step=step)"
      ],
      "metadata": {
        "colab": {
          "base_uri": "https://localhost:8080/",
          "height": 0
        },
        "id": "eL6JLgYyiUy1",
        "outputId": "af4037a2-94b5-4d9d-bfa0-c005710fc41a"
      },
      "id": "eL6JLgYyiUy1",
      "execution_count": 17,
      "outputs": [
        {
          "output_type": "stream",
          "name": "stdout",
          "text": [
            "Dataset shape:  (205584, 10, 3)\n"
          ]
        }
      ]
    },
    {
      "cell_type": "code",
      "execution_count": 22,
      "id": "d4d69008",
      "metadata": {
        "scrolled": false,
        "id": "d4d69008",
        "colab": {
          "base_uri": "https://localhost:8080/",
          "height": 0
        },
        "outputId": "8be4207b-dee7-4599-f8ca-fc41bb377f97"
      },
      "outputs": [
        {
          "output_type": "stream",
          "name": "stdout",
          "text": [
            "Epoch  0\n",
            "Loss:  1.0402303920373757\n",
            "Training accuracy:  0.6638113861000856\n",
            "Epoch  10\n",
            "Loss:  0.25112168046262745\n",
            "Training accuracy:  0.9100221807144525\n",
            "Epoch  20\n",
            "Loss:  0.1794321071020401\n",
            "Training accuracy:  0.9398153552805666\n",
            "Epoch  30\n",
            "Loss:  0.13487410503969885\n",
            "Training accuracy:  0.9546851895089112\n",
            "Epoch  40\n",
            "Loss:  0.11451096690648746\n",
            "Training accuracy:  0.95839656782629\n",
            "Epoch  50\n",
            "Loss:  0.11131925152802484\n",
            "Training accuracy:  0.9634358704957584\n",
            "Epoch  60\n",
            "Loss:  0.09413892498579486\n",
            "Training accuracy:  0.9656198925986458\n",
            "Epoch  70\n",
            "Loss:  0.08894135977440602\n",
            "Training accuracy:  0.9687670246711806\n",
            "Epoch  80\n",
            "Loss:  0.07645864214014444\n",
            "Training accuracy:  0.9721914156743715\n",
            "Epoch  90\n",
            "Loss:  0.07235778130848232\n",
            "Training accuracy:  0.9734123278076114\n",
            "Epoch  100\n",
            "Loss:  0.07310931078739599\n",
            "Training accuracy:  0.973529068409993\n",
            "Epoch  110\n",
            "Loss:  0.06916697218135584\n",
            "Training accuracy:  0.9753288193633746\n",
            "Epoch  120\n",
            "Loss:  0.06475094252416091\n",
            "Training accuracy:  0.9766518795236984\n",
            "Epoch  130\n",
            "Loss:  0.06306611697752244\n",
            "Training accuracy:  0.9768318546190365\n",
            "Epoch  140\n",
            "Loss:  0.047187146112278186\n",
            "Training accuracy:  0.9827807611487275\n",
            "Epoch  150\n",
            "Loss:  0.056403295289335034\n",
            "Training accuracy:  0.9797844190209355\n",
            "Epoch  160\n",
            "Loss:  0.05802413404088435\n",
            "Training accuracy:  0.9802367888551639\n",
            "Epoch  170\n",
            "Loss:  0.05823907273998003\n",
            "Training accuracy:  0.9828342672581524\n",
            "Epoch  180\n",
            "Loss:  0.0567828185855473\n",
            "Training accuracy:  0.979998443458635\n",
            "Epoch  190\n",
            "Loss:  0.053901590229192886\n",
            "Training accuracy:  0.9808934547435598\n",
            "Epoch  200\n",
            "Loss:  0.060412026237199164\n",
            "Training accuracy:  0.978490544011207\n",
            "Epoch  210\n",
            "Loss:  0.049866712421489455\n",
            "Training accuracy:  0.9820608607673749\n",
            "Epoch  220\n",
            "Loss:  0.05946626950996536\n",
            "Training accuracy:  0.9788894077360106\n",
            "Epoch  230\n",
            "Loss:  0.05092071947955818\n",
            "Training accuracy:  0.9831115261888085\n",
            "Epoch  240\n",
            "Loss:  0.07191513026737877\n",
            "Training accuracy:  0.9853539185928866\n",
            "Test accuracy:  0.9501263362487852\n"
          ]
        },
        {
          "output_type": "execute_result",
          "data": {
            "text/plain": [
              "0.9501263362487852"
            ]
          },
          "metadata": {},
          "execution_count": 22
        }
      ],
      "source": [
        "best_net, losses, accuracies = train(net, optimizer, train_loader, test_loader, batch_size, seq_len, measurement, nr_epochs)\n",
        "test(best_net, test_loader)"
      ]
    },
    {
      "cell_type": "code",
      "execution_count": null,
      "id": "caf76456",
      "metadata": {
        "id": "caf76456"
      },
      "outputs": [],
      "source": [
        "test(best_net, test_loader)"
      ]
    },
    {
      "cell_type": "code",
      "source": [
        "torch.save(best_net, 'ElementClassifier_9806.pth')\n",
        "# PLOTS!!!"
      ],
      "metadata": {
        "id": "ZjcJnugmbiCm"
      },
      "id": "ZjcJnugmbiCm",
      "execution_count": null,
      "outputs": []
    },
    {
      "cell_type": "code",
      "source": [
        "print(type(losses))\n",
        "fig, ax = plt.subplots(1, 2, figsize=(14,7))\n",
        "ax[0].plot(losses)\n",
        "ax[0].set_xlabel('Epochs'), ax[0].set_ylabel('Loss')\n",
        "ax[0].set_title('Losses over time')\n",
        "ax[0].grid()\n",
        "ax[1].plot(accuracies)\n",
        "ax[1].set_xlabel('Epochs'), ax[1].set_ylabel('Training accuracy')\n",
        "ax[1].set_title('Training accuracy over time')\n",
        "ax[1].grid()\n",
        "plt.show()"
      ],
      "metadata": {
        "colab": {
          "base_uri": "https://localhost:8080/",
          "height": 475
        },
        "id": "6ucxO1h7ndBz",
        "outputId": "3408be39-b16a-43bd-8d9b-065f27b95998"
      },
      "id": "6ucxO1h7ndBz",
      "execution_count": null,
      "outputs": [
        {
          "output_type": "stream",
          "name": "stdout",
          "text": [
            "<class 'numpy.ndarray'>\n"
          ]
        },
        {
          "output_type": "display_data",
          "data": {
            "image/png": "[encoded data removed]",
            "text/plain": [
              "<Figure size 1008x504 with 2 Axes>"
            ]
          },
          "metadata": {
            "needs_background": "light"
          }
        }
      ]
    },
    {
      "cell_type": "markdown",
      "source": [
        "# Test on Barin data"
      ],
      "metadata": {
        "id": "N7kylEESHB1l"
      },
      "id": "N7kylEESHB1l"
    },
    {
      "cell_type": "code",
      "source": [
        "net = torch.load('/content/ElementClassifier_9782_3.pth').to(device)"
      ],
      "metadata": {
        "id": "LtYwm2q-5ImW"
      },
      "id": "LtYwm2q-5ImW",
      "execution_count": null,
      "outputs": []
    },
    {
      "cell_type": "code",
      "source": [
        "inp = torch.tensor([[[ .3,   11.403],\n",
        "                    [ .7,   22.25],\n",
        "                    [ .8,   23.364],\n",
        "                    [.9,   24.248],\n",
        "                    [1.0,   24.979]]]).to(device)"
      ],
      "metadata": {
        "id": "Mw6QSkWQHQvp"
      },
      "id": "Mw6QSkWQHQvp",
      "execution_count": null,
      "outputs": []
    },
    {
      "cell_type": "code",
      "source": [
        "out = net(inp)"
      ],
      "metadata": {
        "id": "pNyGEvnEH4X7"
      },
      "id": "pNyGEvnEH4X7",
      "execution_count": null,
      "outputs": []
    },
    {
      "cell_type": "code",
      "source": [
        "print(Encoder()(out.argmax(dim=-1).item()))\n",
        "print(Softmax(dim=-1)(out).amax(dim=-1))"
      ],
      "metadata": {
        "colab": {
          "base_uri": "https://localhost:8080/"
        },
        "id": "ZQb8WQxbH5u_",
        "outputId": "7345fa75-3bb2-44fd-a8ae-b957c8be582d"
      },
      "id": "ZQb8WQxbH5u_",
      "execution_count": null,
      "outputs": [
        {
          "output_type": "stream",
          "name": "stdout",
          "text": [
            "B\n",
            "tensor([1.0000], grad_fn=<AmaxBackward0>)\n"
          ]
        }
      ]
    },
    {
      "cell_type": "code",
      "source": [
        "test(net, test_loader)"
      ],
      "metadata": {
        "colab": {
          "base_uri": "https://localhost:8080/"
        },
        "id": "t1rjtAxeH-X4",
        "outputId": "81c4a882-8beb-496d-aab1-617c5242123e"
      },
      "id": "t1rjtAxeH-X4",
      "execution_count": null,
      "outputs": [
        {
          "output_type": "stream",
          "name": "stdout",
          "text": [
            "Test accuracy:  0.9772111058201572\n"
          ]
        },
        {
          "output_type": "execute_result",
          "data": {
            "text/plain": [
              "0.9772111058201572"
            ]
          },
          "metadata": {},
          "execution_count": 51
        }
      ]
    }
  ],
  "metadata": {
    "kernelspec": {
      "display_name": "Python 3 (ipykernel)",
      "language": "python",
      "name": "python3"
    },
    "language_info": {
      "codemirror_mode": {
        "name": "ipython",
        "version": 3
      },
      "file_extension": ".py",
      "mimetype": "text/x-python",
      "name": "python",
      "nbconvert_exporter": "python",
      "pygments_lexer": "ipython3",
      "version": "3.8.12"
    },
    "colab": {
      "name": "train_ElementClassifier.ipynb",
      "provenance": [],
      "collapsed_sections": [
        "LQ3O3hua6WR6",
        "vKyPOJT86ub8"
      ]
    },
    "accelerator": "GPU"
  },
  "nbformat": 4,
  "nbformat_minor": 5
}