{
 "cells": [
  {
   "cell_type": "code",
   "execution_count": 1,
   "id": "383740a5",
   "metadata": {},
   "outputs": [],
   "source": [
    "from thermoclassifier.phases.net import PhaseClassifier\n",
    "from thermoclassifier.dataset.dataset_creator import *\n",
    "from torch.utils.data import DataLoader\n",
    "import torch"
   ]
  },
  {
   "cell_type": "code",
   "execution_count": 8,
   "id": "fdd07cc7",
   "metadata": {},
   "outputs": [
    {
     "name": "stdout",
     "output_type": "stream",
     "text": [
      "New network had to be initialized as no network exists for this element and measurement. Training necessary!\n"
     ]
    }
   ],
   "source": [
    "measurement = 'C'\n",
    "element = 'Ag'\n",
    "t = False\n",
    "\n",
    "dc = DatasetCreator(elements=[element], splits=(0.8, 0.2), validation=False, seq_len=1, measurement=measurement)\n",
    "train_dataset, test_dataset, val_dataset = dc.get_datasets()\n",
    "\n",
    "# Create the DataLoaders\n",
    "test_loader = DataLoader(test_dataset, batch_size=1, shuffle=True)\n",
    "\n",
    "# Network\n",
    "net = PhaseClassifier(element=element, train=t, measurement=measurement)"
   ]
  },
  {
   "cell_type": "code",
   "execution_count": 6,
   "id": "d55f23f6",
   "metadata": {},
   "outputs": [],
   "source": [
    "# Training and testing routines\n",
    "\n",
    "def train(net, train_loader, batch_size, seq_len, save=True):\n",
    "    # Hyperparameters\n",
    "    nr_epochs = 1000\n",
    "    lr = 0.0025\n",
    "    \n",
    "    loss_func = nn.CrossEntropyLoss()\n",
    "    optimizer = Adam(net.parameters(), lr=lr)\n",
    "    \n",
    "    losses = np.zeros([nr_epochs, ])\n",
    "    \n",
    "    # Save the net with the lowest training loss as the best net\n",
    "    best_net = net\n",
    "    best_loss = epoch(net, train_loader, loss_func, optimizer, batch_size, seq_len)\n",
    "    \n",
    "    for i in range(nr_epochs):\n",
    "        losses[i] = epoch(net, train_loader, loss_func, optimizer, batch_size, seq_len)\n",
    "        \n",
    "        if losses[i] < best_loss:\n",
    "            best_net = net\n",
    "        \n",
    "        if i % 10 == 0:\n",
    "            print(losses[i])\n",
    "            \n",
    "    return best_net\n",
    "        \n",
    "def test(net, test_loader): \n",
    "    correct = 0\n",
    "    incorrect = 0\n",
    "\n",
    "    for d in test_loader:\n",
    "        inp = d[:, :, :-1].squeeze(1)/1000\n",
    "        prediction = net(inp.float()).argmax()\n",
    "        target = d[:, :, -1][:, 0].long()\n",
    "        if prediction == target:\n",
    "            correct += 1\n",
    "        else:\n",
    "            incorrect += 1\n",
    "\n",
    "    accuracy = correct/(correct + incorrect)\n",
    "    print('Test accuracy: ', accuracy)\n",
    "    \n",
    "    return accuracy"
   ]
  },
  {
   "cell_type": "code",
   "execution_count": 7,
   "id": "ce6e96a7",
   "metadata": {},
   "outputs": [
    {
     "name": "stdout",
     "output_type": "stream",
     "text": [
      "Test accuracy:  0.6442244224422442\n"
     ]
    },
    {
     "data": {
      "text/plain": [
       "0.6442244224422442"
      ]
     },
     "execution_count": 7,
     "metadata": {},
     "output_type": "execute_result"
    }
   ],
   "source": [
    "test(net, test_loader)"
   ]
  },
  {
   "cell_type": "code",
   "execution_count": null,
   "id": "5c10c258",
   "metadata": {},
   "outputs": [],
   "source": []
  }
 ],
 "metadata": {
  "kernelspec": {
   "display_name": "Python 3 (ipykernel)",
   "language": "python",
   "name": "python3"
  },
  "language_info": {
   "codemirror_mode": {
    "name": "ipython",
    "version": 3
   },
   "file_extension": ".py",
   "mimetype": "text/x-python",
   "name": "python",
   "nbconvert_exporter": "python",
   "pygments_lexer": "ipython3",
   "version": "3.8.12"
  }
 },
 "nbformat": 4,
 "nbformat_minor": 5
}
