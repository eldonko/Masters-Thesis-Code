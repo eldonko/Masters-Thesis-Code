{
 "cells": [
  {
   "cell_type": "code",
   "execution_count": 10,
   "id": "b1c84711",
   "metadata": {},
   "outputs": [],
   "source": [
    "from thermoclassifier.elements.ensemble import EnsembleClassifierNet, majority_vote\n",
    "from thermoclassifier.dataset.dataset_creator import DatasetCreator\n",
    "import numpy as np\n",
    "import torch\n",
    "import torch.nn as nn"
   ]
  },
  {
   "cell_type": "code",
   "execution_count": 12,
   "id": "e00bcc20",
   "metadata": {},
   "outputs": [],
   "source": [
    "dc = DatasetCreator(elements=None,  splits=(0.8, 0.2), validation=False, seq_len=1, measurement='C', stable_only=True)\n",
    "train_dataset, test_dataset, val_dataset = dc.get_datasets()"
   ]
  },
  {
   "cell_type": "code",
   "execution_count": 108,
   "id": "65a5b48b",
   "metadata": {
    "scrolled": false
   },
   "outputs": [],
   "source": [
    "inp = torch.zeros([len(train_dataset), 2])\n",
    "y = torch.zeros([len(train_dataset), ], dtype=torch.long)\n",
    "\n",
    "idx = torch.randperm(len(train_dataset))\n",
    "\n",
    "for d, i in zip(train_dataset, idx):\n",
    "    inp[i] = torch.tensor(d[0, :2])\n",
    "    y[i] = torch.tensor(d[0, -1])\n",
    "    \n",
    "inp = inp.unsqueeze(1)#[:40]\n",
    "#y = y[:40]"
   ]
  },
  {
   "cell_type": "code",
   "execution_count": null,
   "id": "b55a3e08",
   "metadata": {
    "scrolled": false
   },
   "outputs": [],
   "source": [
    "nets = []\n",
    "optimizers = []\n",
    "for i in range(10):\n",
    "    nets.append(EnsembleClassifierNet(train=True, in_features=2))\n",
    "    optimizers.append(torch.optim.Adam(nets[i].parameters(), lr=.001))\n",
    "\n",
    "for i in range(2500000):\n",
    "    #print('Epoch %i' %i)\n",
    "    votes = torch.zeros(size=[len(nets), inp.shape[0]], dtype=torch.int)\n",
    "    for i, (net, optimizer) in enumerate(zip(nets, optimizers)):\n",
    "        out = net(inp)\n",
    "        \n",
    "        net.zero_grad()\n",
    "        loss = nn.CrossEntropyLoss()(out, y)\n",
    "        loss.backward()\n",
    "        optimizer.step()\n",
    "\n",
    "votes[i] = out.argmax(dim=-1)\n",
    "l = votes.T.tolist()"
   ]
  },
  {
   "cell_type": "code",
   "execution_count": null,
   "id": "a2c72c43",
   "metadata": {},
   "outputs": [],
   "source": [
    "m = majority_vote(l, error_class=net.num_classes, threshold=0.0)\n",
    "print('majority vote: ', m)\n",
    "print('y:             ', y.tolist())\n",
    "\n",
    "print((torch.tensor(m) == y).sum()/len(y))"
   ]
  },
  {
   "cell_type": "code",
   "execution_count": null,
   "id": "ec50b519",
   "metadata": {},
   "outputs": [],
   "source": [
    "print(votes)"
   ]
  },
  {
   "cell_type": "code",
   "execution_count": null,
   "id": "b0f54314",
   "metadata": {},
   "outputs": [],
   "source": []
  }
 ],
 "metadata": {
  "kernelspec": {
   "display_name": "Python 3 (ipykernel)",
   "language": "python",
   "name": "python3"
  },
  "language_info": {
   "codemirror_mode": {
    "name": "ipython",
    "version": 3
   },
   "file_extension": ".py",
   "mimetype": "text/x-python",
   "name": "python",
   "nbconvert_exporter": "python",
   "pygments_lexer": "ipython3",
   "version": "3.8.12"
  }
 },
 "nbformat": 4,
 "nbformat_minor": 5
}
