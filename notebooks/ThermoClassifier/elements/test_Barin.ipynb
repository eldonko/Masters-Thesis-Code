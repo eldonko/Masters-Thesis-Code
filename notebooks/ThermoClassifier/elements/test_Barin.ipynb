{
 "cells": [
  {
   "cell_type": "code",
   "execution_count": 1,
   "id": "e4791e19",
   "metadata": {},
   "outputs": [],
   "source": [
    "import torch\n",
    "from torch.utils.data import DataLoader\n",
    "\n",
    "from thermoclassifier.dataset.test_data import TestData\n",
    "from thermoclassifier.elements.net import ElementClassifier"
   ]
  },
  {
   "cell_type": "code",
   "execution_count": 31,
   "id": "c329b26b",
   "metadata": {},
   "outputs": [],
   "source": [
    "seq_len = 5\n",
    "td = TestData()\n",
    "data = td(r'C:\\Users\\danie\\Documents\\Montanuni\\Masterarbeit\\4 Daten\\Barin\\Excel', 'barin', seq_len, (200, 2000))\n",
    "\n",
    "test_loader = DataLoader(data, batch_size=1, shuffle=True)"
   ]
  },
  {
   "cell_type": "code",
   "execution_count": 3,
   "id": "ac974003",
   "metadata": {
    "scrolled": false
   },
   "outputs": [],
   "source": [
    "def test(net, test_loader): \n",
    "    correct = 0\n",
    "    incorrect = 0\n",
    "    \n",
    "    for d in test_loader:\n",
    "        inp = d[:, :, :-1]\n",
    "        inp[:, :, 0] /= 1000\n",
    "        predictions = net(inp.float())\n",
    "        targets = d[:, :, -1][:, 0].long()\n",
    "        \n",
    "        correct += (predictions.argmax(dim=-1) == targets).sum().item()\n",
    "        incorrect += len(targets) - (predictions.argmax(dim=-1) == targets).sum().item()\n",
    "\n",
    "    accuracy = correct/(correct + incorrect)\n",
    "    print('Test accuracy: ', accuracy)\n",
    "    \n",
    "    return accuracy"
   ]
  },
  {
   "cell_type": "code",
   "execution_count": 42,
   "id": "8157d0e1",
   "metadata": {},
   "outputs": [],
   "source": [
    "net = torch.load(r'C:\\Users\\danie\\Documents\\Montanuni\\Masterarbeit\\5 Programmcodes\\packages\\thermoclassifier\\thermoclassifier\\elements\\models\\ElementClassifier_9806.pth')"
   ]
  },
  {
   "cell_type": "code",
   "execution_count": 43,
   "id": "2c88104b",
   "metadata": {},
   "outputs": [
    {
     "name": "stdout",
     "output_type": "stream",
     "text": [
      "Test accuracy:  0.6131386861313869\n"
     ]
    },
    {
     "data": {
      "text/plain": [
       "0.6131386861313869"
      ]
     },
     "execution_count": 43,
     "metadata": {},
     "output_type": "execute_result"
    }
   ],
   "source": [
    "test(net, test_loader)"
   ]
  },
  {
   "cell_type": "code",
   "execution_count": null,
   "id": "c4fe9a09",
   "metadata": {},
   "outputs": [],
   "source": []
  }
 ],
 "metadata": {
  "kernelspec": {
   "display_name": "Python 3 (ipykernel)",
   "language": "python",
   "name": "python3"
  },
  "language_info": {
   "codemirror_mode": {
    "name": "ipython",
    "version": 3
   },
   "file_extension": ".py",
   "mimetype": "text/x-python",
   "name": "python",
   "nbconvert_exporter": "python",
   "pygments_lexer": "ipython3",
   "version": "3.8.12"
  }
 },
 "nbformat": 4,
 "nbformat_minor": 5
}
