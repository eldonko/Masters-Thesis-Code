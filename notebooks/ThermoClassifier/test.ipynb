{
 "cells": [
  {
   "cell_type": "code",
   "execution_count": 1,
   "id": "0ea60671",
   "metadata": {},
   "outputs": [],
   "source": [
    "import torch\n",
    "import torch.nn as nn"
   ]
  },
  {
   "cell_type": "code",
   "execution_count": 271,
   "id": "10d26afa",
   "metadata": {},
   "outputs": [],
   "source": [
    "class TestNet(nn.Module):\n",
    "    def __init__(self):\n",
    "        super(TestNet, self).__init__()\n",
    "        \n",
    "        hidden_size = 2\n",
    "        #self.lstm = nn.LSTM(2, hidden_size, 1)\n",
    "        self.lstm = nn.Sequential(\n",
    "            nn.Linear(2, 16),\n",
    "            nn.ReLU(),\n",
    "            nn.Linear(16, 16), \n",
    "            nn.ReLU(),\n",
    "            #nn.BatchNorm1d(1),\n",
    "            nn.Linear(16, 16)\n",
    "        )\n",
    "        self.linear = nn.Linear(16, 1)\n",
    "        \n",
    "        def init_weights(m):\n",
    "            if isinstance(m, nn.Linear):\n",
    "                torch.nn.init.xavier_normal_(m.weight)\n",
    "                m.bias.data.fill_(0.01)\n",
    "                \n",
    "        self.lstm.apply(init_weights)\n",
    "        self.linear.apply(init_weights)\n",
    "        \n",
    "    def forward(self, x):\n",
    "        out_total = torch.zeros(size=(1, 1, 16))\n",
    "        \n",
    "        for i in range(x.shape[0]):\n",
    "            inp = x[i].unsqueeze(0).unsqueeze(0)\n",
    "            out = self.lstm(inp)\n",
    "            out_total += out\n",
    "            \n",
    "        out_total = out_total / x.shape[0]\n",
    "            \n",
    "        print(out_total)\n",
    "        #out_total = nn.Sigmoid()(out_total)\n",
    "        #print(out_total)\n",
    "        out = self.linear(out_total)\n",
    "        print(out)\n",
    "            \n",
    "        return nn.Sigmoid()(out)"
   ]
  },
  {
   "cell_type": "code",
   "execution_count": 272,
   "id": "f4b79458",
   "metadata": {},
   "outputs": [
    {
     "name": "stdout",
     "output_type": "stream",
     "text": [
      "tensor([[0., 1.],\n",
      "        [2., 3.],\n",
      "        [4., 5.],\n",
      "        [6., 7.],\n",
      "        [8., 9.]])\n",
      "tensor([[[-0.5965,  0.2560, -0.1156, -1.3574, -0.3386, -0.0248, -0.8628,\n",
      "          -0.1483,  2.2814, -1.6396,  0.2900,  0.3806,  0.0604, -0.6295,\n",
      "          -0.2692, -0.7012]]], grad_fn=<DivBackward0>)\n",
      "tensor([[[-0.7319]]], grad_fn=<AddBackward0>)\n",
      "tensor([[[0.3248]]], grad_fn=<SigmoidBackward0>)\n",
      "\n",
      "tensor([[2000., 2001.],\n",
      "        [2002., 2003.],\n",
      "        [2004., 2005.],\n",
      "        [2006., 2007.],\n",
      "        [2008., 2009.]])\n",
      "tensor([[[-212.7543,  100.1948,  -55.2785, -596.1447, -140.3803,   30.3395,\n",
      "          -338.2869,  -72.1009, 1067.6324, -761.0759,  121.8217,  212.2877,\n",
      "            21.2918, -225.2295,  -57.8166, -341.9248]]],\n",
      "       grad_fn=<DivBackward0>)\n",
      "tensor([[[-318.6244]]], grad_fn=<AddBackward0>)\n",
      "tensor([[[0.]]], grad_fn=<SigmoidBackward0>)\n"
     ]
    }
   ],
   "source": [
    "tn = TestNet()\n",
    "\n",
    "x = torch.arange(10.).reshape((5,2))\n",
    "print(x)\n",
    "\n",
    "out = tn(x)\n",
    "print(out)\n",
    "print()\n",
    "\n",
    "x = torch.arange(2000., 2010.).reshape((5,2))\n",
    "print(x)\n",
    "\n",
    "out = tn(x)\n",
    "print(out)"
   ]
  },
  {
   "cell_type": "code",
   "execution_count": null,
   "id": "c21b128f",
   "metadata": {
    "scrolled": false
   },
   "outputs": [],
   "source": [
    "optimizer = torch.optim.Adam(tn.parameters(), lr=0.1)\n",
    "\n",
    "for i in range(100):\n",
    "    high = bool(torch.randint(2, (1,)).item())\n",
    "    \n",
    "    if high: \n",
    "        x = torch.randint(2000, 2050, (5, 2), dtype=torch.float32)\n",
    "        #x = torch.ones(size=(5,2))\n",
    "        y = torch.tensor([1.])\n",
    "    else:\n",
    "        x = torch.randint(0, 20, (5, 2), dtype=torch.float32)\n",
    "        #x = torch.zeros(size=(5,2))\n",
    "        y = torch.tensor([0.])\n",
    "        \n",
    "    y = y.unsqueeze(0).unsqueeze(0)\n",
    "        \n",
    "    out = tn(x)\n",
    "    \n",
    "    optimizer.zero_grad()\n",
    "    loss = nn.BCELoss()(out, y)\n",
    "    loss.backward()\n",
    "    optimizer.step()\n",
    "\n",
    "    print(out, high)\n",
    "    print(loss)\n",
    "    print()"
   ]
  },
  {
   "cell_type": "code",
   "execution_count": null,
   "id": "40f54b99",
   "metadata": {},
   "outputs": [],
   "source": []
  },
  {
   "cell_type": "code",
   "execution_count": null,
   "id": "7db9d2f8",
   "metadata": {},
   "outputs": [],
   "source": []
  }
 ],
 "metadata": {
  "kernelspec": {
   "display_name": "Python 3 (ipykernel)",
   "language": "python",
   "name": "python3"
  },
  "language_info": {
   "codemirror_mode": {
    "name": "ipython",
    "version": 3
   },
   "file_extension": ".py",
   "mimetype": "text/x-python",
   "name": "python",
   "nbconvert_exporter": "python",
   "pygments_lexer": "ipython3",
   "version": "3.8.12"
  }
 },
 "nbformat": 4,
 "nbformat_minor": 5
}
