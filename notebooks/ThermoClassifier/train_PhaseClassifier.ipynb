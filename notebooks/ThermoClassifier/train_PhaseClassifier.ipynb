{
 "cells": [
  {
   "cell_type": "code",
   "execution_count": 1,
   "id": "9aa6c82e",
   "metadata": {},
   "outputs": [
    {
     "ename": "ModuleNotFoundError",
     "evalue": "No module named 'SGTEHandler'",
     "output_type": "error",
     "traceback": [
      "\u001b[1;31m---------------------------------------------------------------------------\u001b[0m",
      "\u001b[1;31mModuleNotFoundError\u001b[0m                       Traceback (most recent call last)",
      "\u001b[1;32m<ipython-input-1-0fc138a00b0e>\u001b[0m in \u001b[0;36m<module>\u001b[1;34m\u001b[0m\n\u001b[0;32m      1\u001b[0m \u001b[1;32mfrom\u001b[0m \u001b[0mNeural_Nets\u001b[0m\u001b[1;33m.\u001b[0m\u001b[0mClassification\u001b[0m\u001b[1;33m.\u001b[0m\u001b[0mPhaseClassifier\u001b[0m\u001b[1;33m.\u001b[0m\u001b[0mDevelopment\u001b[0m\u001b[1;33m.\u001b[0m\u001b[0mPhaseClassifier\u001b[0m \u001b[1;32mimport\u001b[0m \u001b[0mPhaseClassifier\u001b[0m\u001b[1;33m\u001b[0m\u001b[1;33m\u001b[0m\u001b[0m\n\u001b[1;32m----> 2\u001b[1;33m \u001b[1;32mfrom\u001b[0m \u001b[0mNeural_Nets\u001b[0m\u001b[1;33m.\u001b[0m\u001b[0mClassification\u001b[0m\u001b[1;33m.\u001b[0m\u001b[0mClassificationDataset\u001b[0m\u001b[1;33m.\u001b[0m\u001b[0mDevelopment\u001b[0m\u001b[1;33m.\u001b[0m\u001b[0mClassificationDataset\u001b[0m \u001b[1;32mimport\u001b[0m \u001b[1;33m*\u001b[0m\u001b[1;33m\u001b[0m\u001b[1;33m\u001b[0m\u001b[0m\n\u001b[0m\u001b[0;32m      3\u001b[0m \u001b[1;32mfrom\u001b[0m \u001b[0mtorch\u001b[0m\u001b[1;33m.\u001b[0m\u001b[0mutils\u001b[0m\u001b[1;33m.\u001b[0m\u001b[0mdata\u001b[0m \u001b[1;32mimport\u001b[0m \u001b[0mDataLoader\u001b[0m\u001b[1;33m\u001b[0m\u001b[1;33m\u001b[0m\u001b[0m\n\u001b[0;32m      4\u001b[0m \u001b[1;32mimport\u001b[0m \u001b[0mtorch\u001b[0m\u001b[1;33m\u001b[0m\u001b[1;33m\u001b[0m\u001b[0m\n\u001b[0;32m      5\u001b[0m \u001b[1;32mimport\u001b[0m \u001b[0mtorch\u001b[0m\u001b[1;33m.\u001b[0m\u001b[0mnn\u001b[0m \u001b[1;32mas\u001b[0m \u001b[0mnn\u001b[0m\u001b[1;33m\u001b[0m\u001b[1;33m\u001b[0m\u001b[0m\n",
      "\u001b[1;32m~\\Documents\\Montanuni\\Masterarbeit\\5_Programmcodes\\Neural_Nets\\Classification\\ClassificationDataset\\Development\\ClassificationDataset.py\u001b[0m in \u001b[0;36m<module>\u001b[1;34m\u001b[0m\n\u001b[0;32m      1\u001b[0m \u001b[1;32mimport\u001b[0m \u001b[0mtorch\u001b[0m\u001b[1;33m\u001b[0m\u001b[1;33m\u001b[0m\u001b[0m\n\u001b[0;32m      2\u001b[0m \u001b[1;31m#from Data_Handling.SGTEHandler.Development.SGTEHandler import SGTEHandler\u001b[0m\u001b[1;33m\u001b[0m\u001b[1;33m\u001b[0m\u001b[1;33m\u001b[0m\u001b[0m\n\u001b[1;32m----> 3\u001b[1;33m \u001b[1;32mimport\u001b[0m \u001b[0mSGTEHandler\u001b[0m\u001b[1;33m\u001b[0m\u001b[1;33m\u001b[0m\u001b[0m\n\u001b[0m\u001b[0;32m      4\u001b[0m \u001b[1;32mfrom\u001b[0m \u001b[0mtorch\u001b[0m\u001b[1;33m.\u001b[0m\u001b[0mutils\u001b[0m\u001b[1;33m.\u001b[0m\u001b[0mdata\u001b[0m \u001b[1;32mimport\u001b[0m \u001b[0mDataset\u001b[0m\u001b[1;33m\u001b[0m\u001b[1;33m\u001b[0m\u001b[0m\n\u001b[0;32m      5\u001b[0m \u001b[1;32mimport\u001b[0m \u001b[0mnumpy\u001b[0m \u001b[1;32mas\u001b[0m \u001b[0mnp\u001b[0m\u001b[1;33m\u001b[0m\u001b[1;33m\u001b[0m\u001b[0m\n",
      "\u001b[1;31mModuleNotFoundError\u001b[0m: No module named 'SGTEHandler'"
     ]
    }
   ],
   "source": [
    "from Neural_Nets.Classification.PhaseClassifier.Development.PhaseClassifier import PhaseClassifier\n",
    "from Neural_Nets.Classification.ClassificationDataset.Development.ClassificationDataset import *\n",
    "from torch.utils.data import DataLoader\n",
    "import torch\n",
    "import torch.nn as nn\n",
    "from torch.optim import Adam\n",
    "import numpy as np\n",
    "import matplotlib.pyplot as plt"
   ]
  },
  {
   "cell_type": "code",
   "execution_count": null,
   "id": "8062abaf",
   "metadata": {
    "scrolled": false
   },
   "outputs": [],
   "source": [
    "def epoch(net, train_loader, loss_func, optimizer, batch_size, seq_len):\n",
    "    epoch_losses = np.zeros([len(train_loader), ])\n",
    "    \n",
    "    for i, d in enumerate(train_loader):\n",
    "        # Scale inputs and get predictions\n",
    "        inp = d[:, :, :-1].squeeze(1)/1000\n",
    "        predictions = net(inp.float())\n",
    "        \n",
    "        # Each batch consists of measurement batches, where seq_len measurements are put into one batch. In such a \n",
    "        # measurement batch, every measurement has the same label as it needs to be from the same element an phase. \n",
    "        # This leads to a target array where the target class is contained for each measurement in the measurement \n",
    "        # batch. With this, CrossEntropyLoss would not work as the predictions are made for the whole measurement \n",
    "        # batch and CEL therefore expects only on class label per measurement batch. Therefore, only the first \n",
    "        # element of the last dimension of d is considered as target (all the entries in the last dimension are the \n",
    "        # same anyways so it could be any entry)\n",
    "        targets = d[:, :, -1][:, 0].long()\n",
    "        \n",
    "        # Calculate the loss\n",
    "        loss = loss_func(predictions, targets)\n",
    "        epoch_losses[i] = loss\n",
    "        \n",
    "        # Backward step\n",
    "        net.zero_grad()\n",
    "        loss.backward()\n",
    "        optimizer.step()\n",
    "    \n",
    "    return epoch_losses.mean()"
   ]
  },
  {
   "cell_type": "code",
   "execution_count": null,
   "id": "1bcc489a",
   "metadata": {},
   "outputs": [],
   "source": [
    "# Training and testing routines\n",
    "\n",
    "def train(net, train_loader, batch_size, seq_len, save=True):\n",
    "    # Hyperparameters\n",
    "    nr_epochs = 1000\n",
    "    lr = 0.0025\n",
    "    \n",
    "    loss_func = nn.CrossEntropyLoss()\n",
    "    optimizer = Adam(net.parameters(), lr=lr)\n",
    "    \n",
    "    losses = np.zeros([nr_epochs, ])\n",
    "    \n",
    "    # Save the net with the lowest training loss as the best net\n",
    "    best_net = net\n",
    "    best_loss = epoch(net, train_loader, loss_func, optimizer, batch_size, seq_len)\n",
    "    \n",
    "    for i in range(nr_epochs):\n",
    "        losses[i] = epoch(net, train_loader, loss_func, optimizer, batch_size, seq_len)\n",
    "        \n",
    "        if losses[i] < best_loss:\n",
    "            best_net = net\n",
    "        \n",
    "        if i % 10 == 0:\n",
    "            print(losses[i])\n",
    "            \n",
    "    return best_net\n",
    "        \n",
    "def test(net, test_loader): \n",
    "    correct = 0\n",
    "    incorrect = 0\n",
    "\n",
    "    for d in test_loader:\n",
    "        inp = d[:, :, :-1].squeeze(1)/1000\n",
    "        prediction = net(inp.float()).argmax()\n",
    "        target = d[:, :, -1][:, 0].long()\n",
    "        if prediction == target:\n",
    "            correct += 1\n",
    "        else:\n",
    "            incorrect += 1\n",
    "\n",
    "    accuracy = correct/(correct + incorrect)\n",
    "    print('Test accuracy: ', accuracy)\n",
    "    \n",
    "    return accuracy"
   ]
  },
  {
   "cell_type": "code",
   "execution_count": null,
   "id": "df4dd515",
   "metadata": {
    "scrolled": false
   },
   "outputs": [],
   "source": [
    "# Hyperparameters\n",
    "seq_len = 1\n",
    "batch_size = 32\n",
    "\n",
    "# Create the dataset\n",
    "measurement = 'G'\n",
    "element = 'Fe'\n",
    "dc = DatasetCreator(r\"C:\\Users\\danie\\Documents\\Montanuni\\Masterarbeit\\4_Daten\\Elements.xlsx\", elements=[element], \n",
    "                   splits=(0.8, 0.2), validation=False, seq_len=seq_len, measurement=measurement)\n",
    "train_dataset, test_dataset, val_dataset = dc.get_datasets()\n",
    "\n",
    "# Create the DataLoaders\n",
    "train_loader = DataLoader(train_dataset, batch_size=batch_size, shuffle=True)\n",
    "test_loader = DataLoader(test_dataset, batch_size=1, shuffle=True)\n",
    "if val_dataset:\n",
    "    val_loader = DataLoader(val_dataset)\n",
    "    \n",
    "# Create the network\n",
    "t = True\n",
    "net = PhaseClassifier(element=element, train=t, measurement=measurement)"
   ]
  },
  {
   "cell_type": "code",
   "execution_count": null,
   "id": "b2226823",
   "metadata": {
    "scrolled": false
   },
   "outputs": [],
   "source": [
    "#Train the network\n",
    "best_net = train(net, train_loader, batch_size, seq_len)\n",
    "\n",
    "# Test the trained network\n",
    "test(best_net, test_loader)"
   ]
  },
  {
   "cell_type": "code",
   "execution_count": null,
   "id": "53a39be2",
   "metadata": {},
   "outputs": [],
   "source": [
    "#torch.save(net, 'Neural_Nets/Classification/PhaseClassifier/Models/model_14_02_22_1246')"
   ]
  },
  {
   "cell_type": "code",
   "execution_count": null,
   "id": "b16048a4",
   "metadata": {},
   "outputs": [],
   "source": [
    "elements = pd.read_excel(r\"C:\\Users\\danie\\Documents\\Montanuni\\Masterarbeit\\4_Daten\\Elements.xlsx\", sheet_name='Phases', index_col='Index')\n",
    "measurements = ['G', 'S', 'H', 'C']\n",
    "\n",
    "test_accuracies = pd.DataFrame(index=elements.columns.values, columns=measurements)\n",
    "\n",
    "# Hyperparameters\n",
    "seq_len = 1\n",
    "batch_size = 32"
   ]
  },
  {
   "cell_type": "code",
   "execution_count": null,
   "id": "973d90ff",
   "metadata": {
    "scrolled": false
   },
   "outputs": [],
   "source": [
    "# Train all networks\n",
    "\n",
    "for element in elements:\n",
    "    print('----------')\n",
    "    print(element)\n",
    "    for measurement in measurements:\n",
    "        print('*****')\n",
    "        print(measurement)\n",
    "        # Create the dataset\n",
    "        dc = DatasetCreator(r\"C:\\Users\\danie\\Documents\\Montanuni\\Masterarbeit\\4_Daten\\Elements.xlsx\", elements=[element], \n",
    "                   splits=(0.8, 0.2), validation=False, seq_len=seq_len, measurement=measurement)\n",
    "        train_dataset, test_dataset, val_dataset = dc.get_datasets()\n",
    "        \n",
    "        # Create the DataLoader\n",
    "        train_loader = DataLoader(train_dataset, batch_size=batch_size, shuffle=True)\n",
    "\n",
    "        # Create the network\n",
    "        t = True\n",
    "        net = PhaseClassifier(element=element, train=t, measurement=measurement)\n",
    "        \n",
    "        # Train the network\n",
    "        train(net, train_loader, batch_size, seq_len)\n",
    "        \n",
    "        # Save the network \n",
    "        path = 'Neural_Nets/Classification/PhaseClassifier/Models/' + element + '_' + measurement\n",
    "        torch.save(net, path)"
   ]
  },
  {
   "cell_type": "code",
   "execution_count": null,
   "id": "81417dfa",
   "metadata": {
    "scrolled": false
   },
   "outputs": [],
   "source": [
    "# Test all networks\n",
    "\n",
    "for element in elements:\n",
    "    print('----------')\n",
    "    print(element)\n",
    "    for measurement in measurements:\n",
    "        print('*****')\n",
    "        print(measurement)\n",
    "        # Create the dataset\n",
    "        dc = DatasetCreator(r\"C:\\Users\\danie\\Documents\\Montanuni\\Masterarbeit\\4_Daten\\Elements.xlsx\", elements=[element], \n",
    "                   splits=(0.8, 0.2), validation=False, seq_len=seq_len, measurement=measurement)\n",
    "        train_dataset, test_dataset, val_dataset = dc.get_datasets()\n",
    "        \n",
    "        # Create the DataLoaders\n",
    "        test_loader = DataLoader(test_dataset, batch_size=1, shuffle=True)\n",
    "        if val_dataset:\n",
    "            val_loader = DataLoader(val_dataset)\n",
    "\n",
    "        # Create the network\n",
    "        t = False\n",
    "        net = PhaseClassifier(element=element, train=t, measurement=measurement)\n",
    "        \n",
    "        # Test the network \n",
    "        test_accuracy = test(net, test_loader)\n",
    "        \n",
    "        # Save the test results\n",
    "        test_accuracies[measurement][element] = test_accuracy\n",
    "        \n",
    "test_accuracies.to_excel(r\"C:\\Users\\danie\\Documents\\Montanuni\\Masterarbeit\\5_Programmcodes\\Neural_Nets\\Classification\\PhaseClassifier\\Models\\Model statistics.xlsx\")"
   ]
  }
 ],
 "metadata": {
  "kernelspec": {
   "display_name": "Python 3 (ipykernel)",
   "language": "python",
   "name": "python3"
  },
  "language_info": {
   "codemirror_mode": {
    "name": "ipython",
    "version": 3
   },
   "file_extension": ".py",
   "mimetype": "text/x-python",
   "name": "python",
   "nbconvert_exporter": "python",
   "pygments_lexer": "ipython3",
   "version": "3.8.12"
  }
 },
 "nbformat": 4,
 "nbformat_minor": 5
}
