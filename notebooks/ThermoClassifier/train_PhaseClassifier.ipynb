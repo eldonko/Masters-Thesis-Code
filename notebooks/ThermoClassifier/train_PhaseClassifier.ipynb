{
 "cells": [
  {
   "cell_type": "code",
   "execution_count": 1,
   "id": "9aa6c82e",
   "metadata": {},
   "outputs": [],
   "source": [
    "from thermoclassifier.phases.net import PhaseClassifier\n",
    "from thermoclassifier.dataset.dataset_creator import *\n",
    "from torch.utils.data import DataLoader\n",
    "import torch\n",
    "import torch.nn as nn\n",
    "from torch.optim import Adam\n",
    "import numpy as np\n",
    "import matplotlib.pyplot as plt"
   ]
  },
  {
   "cell_type": "code",
   "execution_count": 2,
   "id": "8062abaf",
   "metadata": {
    "scrolled": false
   },
   "outputs": [],
   "source": [
    "def epoch(net, train_loader, loss_func, optimizer, batch_size, seq_len):\n",
    "    epoch_losses = np.zeros([len(train_loader), ])\n",
    "    correct = 0\n",
    "    incorrect = 0\n",
    "    \n",
    "    for i, d in enumerate(train_loader):\n",
    "        # Scale inputs and get predictions\n",
    "        inp = d[:, :, :-1].squeeze(1)/1000\n",
    "        predictions = net(inp.float())\n",
    "        \n",
    "        # Each batch consists of measurement batches, where seq_len measurements are put into one batch. In such a \n",
    "        # measurement batch, every measurement has the same label as it needs to be from the same element an phase. \n",
    "        # This leads to a target array where the target class is contained for each measurement in the measurement \n",
    "        # batch. With this, CrossEntropyLoss would not work as the predictions are made for the whole measurement \n",
    "        # batch and CEL therefore expects only on class label per measurement batch. Therefore, only the first \n",
    "        # element of the last dimension of d is considered as target (all the entries in the last dimension are the \n",
    "        # same anyways so it could be any entry)\n",
    "        targets = d[:, :, -1][:, 0].long()\n",
    "        \n",
    "        correct += (predictions.argmax(dim=-1) == targets).sum().item()\n",
    "        incorrect += len(targets) - (predictions.argmax(dim=-1) == targets).sum().item()\n",
    "        \n",
    "        # Calculate the loss\n",
    "        loss = loss_func(predictions, targets)\n",
    "        epoch_losses[i] = loss\n",
    "        \n",
    "        # Backward step\n",
    "        net.zero_grad()\n",
    "        loss.backward()\n",
    "        optimizer.step()\n",
    "    \n",
    "    return epoch_losses.mean()"
   ]
  },
  {
   "cell_type": "code",
   "execution_count": 3,
   "id": "1bcc489a",
   "metadata": {},
   "outputs": [],
   "source": [
    "# Training and testing routines\n",
    "\n",
    "def train(net, train_loader, batch_size, seq_len, save=True):\n",
    "    # Hyperparameters\n",
    "    nr_epochs = 1500\n",
    "    lr = 0.01\n",
    "    \n",
    "    loss_func = nn.CrossEntropyLoss()\n",
    "    optimizer = Adam(net.parameters(), lr=lr)\n",
    "    \n",
    "    losses = np.zeros([nr_epochs, ])\n",
    "    \n",
    "    # Save the net with the lowest training loss as the best net\n",
    "    best_net = net\n",
    "    best_loss = epoch(net, train_loader, loss_func, optimizer, batch_size, seq_len)\n",
    "    \n",
    "    for i in range(nr_epochs):\n",
    "        losses[i] = epoch(net, train_loader, loss_func, optimizer, batch_size, seq_len)\n",
    "        \n",
    "        if losses[i] < best_loss:\n",
    "            best_net = net\n",
    "        \n",
    "        if i % 10 == 0:\n",
    "            print(losses[i])\n",
    "            \n",
    "    return best_net\n",
    "        \n",
    "def test(net, test_loader): \n",
    "    correct = 0\n",
    "    incorrect = 0\n",
    "\n",
    "    for d in test_loader:\n",
    "        inp = d[:, :, :-1].squeeze(1)/1000\n",
    "        prediction = net(inp.float()).argmax()\n",
    "        target = d[:, :, -1][:, 0].long()\n",
    "        if prediction == target:\n",
    "            correct += 1\n",
    "        else:\n",
    "            incorrect += 1\n",
    "\n",
    "    accuracy = correct/(correct + incorrect)\n",
    "    print('Test accuracy: ', accuracy)\n",
    "    \n",
    "    return accuracy"
   ]
  },
  {
   "cell_type": "code",
   "execution_count": 4,
   "id": "df4dd515",
   "metadata": {
    "scrolled": false
   },
   "outputs": [
    {
     "name": "stdout",
     "output_type": "stream",
     "text": [
      "(6795, 1, 3)\n"
     ]
    }
   ],
   "source": [
    "# Hyperparameters\n",
    "seq_len = 1\n",
    "batch_size = 32\n",
    "\n",
    "# Create the dataset\n",
    "measurement = 'C'\n",
    "element = 'Cu'\n",
    "dc = DatasetCreator(elements=[element], splits=(0.8, 0.2), validation=False, seq_len=seq_len, measurement=measurement)\n",
    "train_dataset, test_dataset, val_dataset = dc.get_datasets()\n",
    "\n",
    "# Create the DataLoaders\n",
    "train_loader = DataLoader(train_dataset, batch_size=batch_size, shuffle=True)\n",
    "test_loader = DataLoader(test_dataset, batch_size=1, shuffle=True)\n",
    "if val_dataset:\n",
    "    val_loader = DataLoader(val_dataset)\n",
    "    \n",
    "# Create the network\n",
    "t = True\n",
    "net = PhaseClassifier(element=element, train=t, measurement=measurement)"
   ]
  },
  {
   "cell_type": "code",
   "execution_count": 5,
   "id": "b2226823",
   "metadata": {
    "scrolled": false
   },
   "outputs": [],
   "source": [
    "#Train the network\n",
    "#best_net = train(net, train_loader, batch_size, seq_len)\n",
    "\n",
    "# Test the trained network\n",
    "#test(best_net, test_loader)"
   ]
  },
  {
   "cell_type": "code",
   "execution_count": 6,
   "id": "b16048a4",
   "metadata": {},
   "outputs": [],
   "source": [
    "elements = dc.element_phase_data.columns.values\n",
    "measurements = ['C']\n",
    "\n",
    "test_accuracies = pd.DataFrame(index=elements, columns=measurements)\n",
    "\n",
    "# Hyperparameters\n",
    "seq_len = 1\n",
    "batch_size = 256"
   ]
  },
  {
   "cell_type": "code",
   "execution_count": 7,
   "id": "973d90ff",
   "metadata": {
    "scrolled": false
   },
   "outputs": [
    {
     "name": "stdout",
     "output_type": "stream",
     "text": [
      "----------\n",
      "Cu\n",
      "*****\n",
      "C\n",
      "(6795, 1, 3)\n",
      "1.6101764970355563\n",
      "1.609932051764594\n",
      "1.609680758582221\n",
      "1.6099242590091847\n",
      "1.609765198495653\n",
      "1.6099064791644062\n",
      "1.6100118690066867\n",
      "1.6099070531350594\n",
      "1.609829726042571\n",
      "1.6098275626147236\n",
      "1.6098701998039529\n",
      "1.609701050652398\n",
      "1.6097652823836714\n",
      "1.6098497841093276\n",
      "1.6096113434544317\n"
     ]
    },
    {
     "ename": "KeyboardInterrupt",
     "evalue": "",
     "output_type": "error",
     "traceback": [
      "\u001b[1;31m---------------------------------------------------------------------------\u001b[0m",
      "\u001b[1;31mKeyboardInterrupt\u001b[0m                         Traceback (most recent call last)",
      "\u001b[1;32m<ipython-input-7-be8fc659f103>\u001b[0m in \u001b[0;36m<module>\u001b[1;34m\u001b[0m\n\u001b[0;32m     19\u001b[0m \u001b[1;33m\u001b[0m\u001b[0m\n\u001b[0;32m     20\u001b[0m         \u001b[1;31m# Train the network\u001b[0m\u001b[1;33m\u001b[0m\u001b[1;33m\u001b[0m\u001b[1;33m\u001b[0m\u001b[0m\n\u001b[1;32m---> 21\u001b[1;33m         \u001b[0mtrain\u001b[0m\u001b[1;33m(\u001b[0m\u001b[0mnet\u001b[0m\u001b[1;33m,\u001b[0m \u001b[0mtrain_loader\u001b[0m\u001b[1;33m,\u001b[0m \u001b[0mbatch_size\u001b[0m\u001b[1;33m,\u001b[0m \u001b[0mseq_len\u001b[0m\u001b[1;33m)\u001b[0m\u001b[1;33m\u001b[0m\u001b[1;33m\u001b[0m\u001b[0m\n\u001b[0m\u001b[0;32m     22\u001b[0m \u001b[1;33m\u001b[0m\u001b[0m\n\u001b[0;32m     23\u001b[0m         \u001b[1;31m# Save the network\u001b[0m\u001b[1;33m\u001b[0m\u001b[1;33m\u001b[0m\u001b[1;33m\u001b[0m\u001b[0m\n",
      "\u001b[1;32m<ipython-input-3-e2a27eeef6a5>\u001b[0m in \u001b[0;36mtrain\u001b[1;34m(net, train_loader, batch_size, seq_len, save)\u001b[0m\n\u001b[0;32m     16\u001b[0m \u001b[1;33m\u001b[0m\u001b[0m\n\u001b[0;32m     17\u001b[0m     \u001b[1;32mfor\u001b[0m \u001b[0mi\u001b[0m \u001b[1;32min\u001b[0m \u001b[0mrange\u001b[0m\u001b[1;33m(\u001b[0m\u001b[0mnr_epochs\u001b[0m\u001b[1;33m)\u001b[0m\u001b[1;33m:\u001b[0m\u001b[1;33m\u001b[0m\u001b[1;33m\u001b[0m\u001b[0m\n\u001b[1;32m---> 18\u001b[1;33m         \u001b[0mlosses\u001b[0m\u001b[1;33m[\u001b[0m\u001b[0mi\u001b[0m\u001b[1;33m]\u001b[0m \u001b[1;33m=\u001b[0m \u001b[0mepoch\u001b[0m\u001b[1;33m(\u001b[0m\u001b[0mnet\u001b[0m\u001b[1;33m,\u001b[0m \u001b[0mtrain_loader\u001b[0m\u001b[1;33m,\u001b[0m \u001b[0mloss_func\u001b[0m\u001b[1;33m,\u001b[0m \u001b[0moptimizer\u001b[0m\u001b[1;33m,\u001b[0m \u001b[0mbatch_size\u001b[0m\u001b[1;33m,\u001b[0m \u001b[0mseq_len\u001b[0m\u001b[1;33m)\u001b[0m\u001b[1;33m\u001b[0m\u001b[1;33m\u001b[0m\u001b[0m\n\u001b[0m\u001b[0;32m     19\u001b[0m \u001b[1;33m\u001b[0m\u001b[0m\n\u001b[0;32m     20\u001b[0m         \u001b[1;32mif\u001b[0m \u001b[0mlosses\u001b[0m\u001b[1;33m[\u001b[0m\u001b[0mi\u001b[0m\u001b[1;33m]\u001b[0m \u001b[1;33m<\u001b[0m \u001b[0mbest_loss\u001b[0m\u001b[1;33m:\u001b[0m\u001b[1;33m\u001b[0m\u001b[1;33m\u001b[0m\u001b[0m\n",
      "\u001b[1;32m<ipython-input-2-251fbf8893da>\u001b[0m in \u001b[0;36mepoch\u001b[1;34m(net, train_loader, loss_func, optimizer, batch_size, seq_len)\u001b[0m\n\u001b[0;32m     27\u001b[0m         \u001b[1;31m# Backward step\u001b[0m\u001b[1;33m\u001b[0m\u001b[1;33m\u001b[0m\u001b[1;33m\u001b[0m\u001b[0m\n\u001b[0;32m     28\u001b[0m         \u001b[0mnet\u001b[0m\u001b[1;33m.\u001b[0m\u001b[0mzero_grad\u001b[0m\u001b[1;33m(\u001b[0m\u001b[1;33m)\u001b[0m\u001b[1;33m\u001b[0m\u001b[1;33m\u001b[0m\u001b[0m\n\u001b[1;32m---> 29\u001b[1;33m         \u001b[0mloss\u001b[0m\u001b[1;33m.\u001b[0m\u001b[0mbackward\u001b[0m\u001b[1;33m(\u001b[0m\u001b[1;33m)\u001b[0m\u001b[1;33m\u001b[0m\u001b[1;33m\u001b[0m\u001b[0m\n\u001b[0m\u001b[0;32m     30\u001b[0m         \u001b[0moptimizer\u001b[0m\u001b[1;33m.\u001b[0m\u001b[0mstep\u001b[0m\u001b[1;33m(\u001b[0m\u001b[1;33m)\u001b[0m\u001b[1;33m\u001b[0m\u001b[1;33m\u001b[0m\u001b[0m\n\u001b[0;32m     31\u001b[0m \u001b[1;33m\u001b[0m\u001b[0m\n",
      "\u001b[1;32m~\\anaconda3\\envs\\5_Programmcodes\\lib\\site-packages\\torch\\_tensor.py\u001b[0m in \u001b[0;36mbackward\u001b[1;34m(self, gradient, retain_graph, create_graph, inputs)\u001b[0m\n\u001b[0;32m    305\u001b[0m                 \u001b[0mcreate_graph\u001b[0m\u001b[1;33m=\u001b[0m\u001b[0mcreate_graph\u001b[0m\u001b[1;33m,\u001b[0m\u001b[1;33m\u001b[0m\u001b[1;33m\u001b[0m\u001b[0m\n\u001b[0;32m    306\u001b[0m                 inputs=inputs)\n\u001b[1;32m--> 307\u001b[1;33m         \u001b[0mtorch\u001b[0m\u001b[1;33m.\u001b[0m\u001b[0mautograd\u001b[0m\u001b[1;33m.\u001b[0m\u001b[0mbackward\u001b[0m\u001b[1;33m(\u001b[0m\u001b[0mself\u001b[0m\u001b[1;33m,\u001b[0m \u001b[0mgradient\u001b[0m\u001b[1;33m,\u001b[0m \u001b[0mretain_graph\u001b[0m\u001b[1;33m,\u001b[0m \u001b[0mcreate_graph\u001b[0m\u001b[1;33m,\u001b[0m \u001b[0minputs\u001b[0m\u001b[1;33m=\u001b[0m\u001b[0minputs\u001b[0m\u001b[1;33m)\u001b[0m\u001b[1;33m\u001b[0m\u001b[1;33m\u001b[0m\u001b[0m\n\u001b[0m\u001b[0;32m    308\u001b[0m \u001b[1;33m\u001b[0m\u001b[0m\n\u001b[0;32m    309\u001b[0m     \u001b[1;32mdef\u001b[0m \u001b[0mregister_hook\u001b[0m\u001b[1;33m(\u001b[0m\u001b[0mself\u001b[0m\u001b[1;33m,\u001b[0m \u001b[0mhook\u001b[0m\u001b[1;33m)\u001b[0m\u001b[1;33m:\u001b[0m\u001b[1;33m\u001b[0m\u001b[1;33m\u001b[0m\u001b[0m\n",
      "\u001b[1;32m~\\anaconda3\\envs\\5_Programmcodes\\lib\\site-packages\\torch\\autograd\\__init__.py\u001b[0m in \u001b[0;36mbackward\u001b[1;34m(tensors, grad_tensors, retain_graph, create_graph, grad_variables, inputs)\u001b[0m\n\u001b[0;32m    148\u001b[0m \u001b[1;33m\u001b[0m\u001b[0m\n\u001b[0;32m    149\u001b[0m     \u001b[0mgrad_tensors_\u001b[0m \u001b[1;33m=\u001b[0m \u001b[0m_tensor_or_tensors_to_tuple\u001b[0m\u001b[1;33m(\u001b[0m\u001b[0mgrad_tensors\u001b[0m\u001b[1;33m,\u001b[0m \u001b[0mlen\u001b[0m\u001b[1;33m(\u001b[0m\u001b[0mtensors\u001b[0m\u001b[1;33m)\u001b[0m\u001b[1;33m)\u001b[0m\u001b[1;33m\u001b[0m\u001b[1;33m\u001b[0m\u001b[0m\n\u001b[1;32m--> 150\u001b[1;33m     \u001b[0mgrad_tensors_\u001b[0m \u001b[1;33m=\u001b[0m \u001b[0m_make_grads\u001b[0m\u001b[1;33m(\u001b[0m\u001b[0mtensors\u001b[0m\u001b[1;33m,\u001b[0m \u001b[0mgrad_tensors_\u001b[0m\u001b[1;33m)\u001b[0m\u001b[1;33m\u001b[0m\u001b[1;33m\u001b[0m\u001b[0m\n\u001b[0m\u001b[0;32m    151\u001b[0m     \u001b[1;32mif\u001b[0m \u001b[0mretain_graph\u001b[0m \u001b[1;32mis\u001b[0m \u001b[1;32mNone\u001b[0m\u001b[1;33m:\u001b[0m\u001b[1;33m\u001b[0m\u001b[1;33m\u001b[0m\u001b[0m\n\u001b[0;32m    152\u001b[0m         \u001b[0mretain_graph\u001b[0m \u001b[1;33m=\u001b[0m \u001b[0mcreate_graph\u001b[0m\u001b[1;33m\u001b[0m\u001b[1;33m\u001b[0m\u001b[0m\n",
      "\u001b[1;32m~\\anaconda3\\envs\\5_Programmcodes\\lib\\site-packages\\torch\\autograd\\__init__.py\u001b[0m in \u001b[0;36m_make_grads\u001b[1;34m(outputs, grads)\u001b[0m\n\u001b[0;32m     50\u001b[0m                 \u001b[1;32mif\u001b[0m \u001b[0mout\u001b[0m\u001b[1;33m.\u001b[0m\u001b[0mnumel\u001b[0m\u001b[1;33m(\u001b[0m\u001b[1;33m)\u001b[0m \u001b[1;33m!=\u001b[0m \u001b[1;36m1\u001b[0m\u001b[1;33m:\u001b[0m\u001b[1;33m\u001b[0m\u001b[1;33m\u001b[0m\u001b[0m\n\u001b[0;32m     51\u001b[0m                     \u001b[1;32mraise\u001b[0m \u001b[0mRuntimeError\u001b[0m\u001b[1;33m(\u001b[0m\u001b[1;34m\"grad can be implicitly created only for scalar outputs\"\u001b[0m\u001b[1;33m)\u001b[0m\u001b[1;33m\u001b[0m\u001b[1;33m\u001b[0m\u001b[0m\n\u001b[1;32m---> 52\u001b[1;33m                 \u001b[0mnew_grads\u001b[0m\u001b[1;33m.\u001b[0m\u001b[0mappend\u001b[0m\u001b[1;33m(\u001b[0m\u001b[0mtorch\u001b[0m\u001b[1;33m.\u001b[0m\u001b[0mones_like\u001b[0m\u001b[1;33m(\u001b[0m\u001b[0mout\u001b[0m\u001b[1;33m,\u001b[0m \u001b[0mmemory_format\u001b[0m\u001b[1;33m=\u001b[0m\u001b[0mtorch\u001b[0m\u001b[1;33m.\u001b[0m\u001b[0mpreserve_format\u001b[0m\u001b[1;33m)\u001b[0m\u001b[1;33m)\u001b[0m\u001b[1;33m\u001b[0m\u001b[1;33m\u001b[0m\u001b[0m\n\u001b[0m\u001b[0;32m     53\u001b[0m             \u001b[1;32melse\u001b[0m\u001b[1;33m:\u001b[0m\u001b[1;33m\u001b[0m\u001b[1;33m\u001b[0m\u001b[0m\n\u001b[0;32m     54\u001b[0m                 \u001b[0mnew_grads\u001b[0m\u001b[1;33m.\u001b[0m\u001b[0mappend\u001b[0m\u001b[1;33m(\u001b[0m\u001b[1;32mNone\u001b[0m\u001b[1;33m)\u001b[0m\u001b[1;33m\u001b[0m\u001b[1;33m\u001b[0m\u001b[0m\n",
      "\u001b[1;31mKeyboardInterrupt\u001b[0m: "
     ]
    }
   ],
   "source": [
    "# Train all networks\n",
    "\n",
    "for element in elements:\n",
    "    print('----------')\n",
    "    print(element)\n",
    "    for measurement in measurements:\n",
    "        print('*****')\n",
    "        print(measurement)\n",
    "        # Create the dataset\n",
    "        dc = DatasetCreator(elements=[element], splits=(0.8, 0.2), validation=False, seq_len=seq_len, measurement=measurement)\n",
    "        train_dataset, test_dataset, val_dataset = dc.get_datasets()\n",
    "        \n",
    "        # Create the DataLoader\n",
    "        train_loader = DataLoader(train_dataset, batch_size=batch_size, shuffle=True)\n",
    "\n",
    "        # Create the network\n",
    "        t = True\n",
    "        net = PhaseClassifier(element=element, train=t, measurement=measurement, hidden_layers=2)\n",
    "        \n",
    "        # Train the network\n",
    "        train(net, train_loader, batch_size, seq_len)\n",
    "        \n",
    "        # Save the network \n",
    "        path = r'C:\\Users\\danie\\Documents\\Montanuni\\Masterarbeit\\5 Programmcodes\\packages\\thermoclassifier\\thermoclassifier\\phases\\models\\new' + element + '_' + measurement + '.pth'\n",
    "        torch.save(net, path)"
   ]
  },
  {
   "cell_type": "code",
   "execution_count": null,
   "id": "b5230964",
   "metadata": {},
   "outputs": [],
   "source": [
    "path = r'C:\\Users\\danie\\Documents\\Montanuni\\Masterarbeit\\5 Programmcodes\\packages\\thermoclassifier\\thermoclassifier\\phases\\models\\new\\Cu_C.pth'\n",
    "torch.save(net, path)"
   ]
  },
  {
   "cell_type": "code",
   "execution_count": null,
   "id": "81417dfa",
   "metadata": {
    "scrolled": false
   },
   "outputs": [],
   "source": [
    "# Test all networks\n",
    "\n",
    "for element in elements:\n",
    "    print('----------')\n",
    "    print(element)\n",
    "    for measurement in measurements:\n",
    "        print('*****')\n",
    "        print(measurement)\n",
    "        # Create the dataset\n",
    "        dc = DatasetCreator(elements=[element], splits=(0.8, 0.2), validation=False, seq_len=seq_len, measurement=measurement)\n",
    "        train_dataset, test_dataset, val_dataset = dc.get_datasets()\n",
    "        \n",
    "        # Create the DataLoaders\n",
    "        test_loader = DataLoader(test_dataset, batch_size=1, shuffle=True)\n",
    "\n",
    "        # Create the network\n",
    "        t = False\n",
    "        net = PhaseClassifier(element=element, train=t, measurement=measurement)\n",
    "        \n",
    "        # Test the network \n",
    "        test_accuracy = test(net, test_loader)\n",
    "        \n",
    "        # Save the test results\n",
    "        test_accuracies[measurement][element] = test_accuracy"
   ]
  },
  {
   "cell_type": "code",
   "execution_count": null,
   "id": "9fb23ef5",
   "metadata": {},
   "outputs": [],
   "source": []
  }
 ],
 "metadata": {
  "kernelspec": {
   "display_name": "Python 3 (ipykernel)",
   "language": "python",
   "name": "python3"
  },
  "language_info": {
   "codemirror_mode": {
    "name": "ipython",
    "version": 3
   },
   "file_extension": ".py",
   "mimetype": "text/x-python",
   "name": "python",
   "nbconvert_exporter": "python",
   "pygments_lexer": "ipython3",
   "version": "3.8.12"
  }
 },
 "nbformat": 4,
 "nbformat_minor": 5
}
