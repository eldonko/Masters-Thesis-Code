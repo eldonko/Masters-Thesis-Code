{
 "cells": [
  {
   "cell_type": "code",
   "execution_count": 1,
   "id": "86f48880",
   "metadata": {},
   "outputs": [],
   "source": [
    "from torch.utils.data import DataLoader\n",
    "import torch\n",
    "import torch.nn as nn\n",
    "from torch.optim import Adam\n",
    "import numpy as np\n",
    "import matplotlib.pyplot as plt\n",
    "from Neural_Nets.Classification.ClassificationDataset.Development.ClassificationDataset import *\n",
    "from Neural_Nets.Classification.ElementClassifier.Development.ElementClassifier import *"
   ]
  },
  {
   "cell_type": "code",
   "execution_count": 7,
   "id": "cdbe3d46",
   "metadata": {},
   "outputs": [],
   "source": [
    "def epoch(net, train_loader, loss_func, optimizer, batch_size, seq_len):\n",
    "    epoch_losses = np.zeros([len(train_loader), ])\n",
    "    \n",
    "    for i, d in enumerate(train_loader):\n",
    "        # Scale inputs and get predictions\n",
    "        inp = d[:, :, :-1].squeeze(1)/1000\n",
    "        predictions = net(inp.float())\n",
    "        \n",
    "        # Each batch consists of measurement batches, where seq_len measurements are put into one batch. In such a \n",
    "        # measurement batch, every measurement has the same label as it needs to be from the same element an phase. \n",
    "        # This leads to a target array where the target class is contained for each measurement in the measurement \n",
    "        # batch. With this, CrossEntropyLoss would not work as the predictions are made for the whole measurement \n",
    "        # batch and CEL therefore expects only on class label per measurement batch. Therefore, only the first \n",
    "        # element of the last dimension of d is considered as target (all the entries in the last dimension are the \n",
    "        # same anyways so it could be any entry)\n",
    "        targets = d[:, :, -1][:, 0].long()\n",
    "        \n",
    "        # Calculate the loss\n",
    "        loss = loss_func(predictions, targets)\n",
    "        epoch_losses[i] = loss\n",
    "        \n",
    "        # Backward step\n",
    "        net.zero_grad()\n",
    "        loss.backward()\n",
    "        optimizer.step()\n",
    "        \n",
    "    print(epoch_losses.mean())\n",
    "    \n",
    "    return epoch_losses.mean()"
   ]
  },
  {
   "cell_type": "code",
   "execution_count": 14,
   "id": "723de0db",
   "metadata": {},
   "outputs": [],
   "source": [
    "# Training and testing routines\n",
    "\n",
    "def train(net, train_loader, batch_size, seq_len, save=True):\n",
    "    # Hyperparameters\n",
    "    nr_epochs = 1000\n",
    "    lr = 0.0025\n",
    "    \n",
    "    loss_func = nn.CrossEntropyLoss()\n",
    "    optimizer = Adam(net.parameters(), lr=lr)\n",
    "    \n",
    "    losses = np.zeros([nr_epochs, ])\n",
    "    \n",
    "    for i in range(nr_epochs):\n",
    "        losses[i] = epoch(net, train_loader, loss_func, optimizer, batch_size, seq_len)\n",
    "        \n",
    "def test(net, test_loader): \n",
    "    correct = 0\n",
    "    incorrect = 0\n",
    "\n",
    "    for d in test_loader:\n",
    "        inp = d[:, :, :-1].squeeze(1)/1000\n",
    "        prediction = net(inp.float()).argmax()\n",
    "        target = d[:, :, -1][:, 0].long()\n",
    "        if prediction == target:\n",
    "            correct += 1\n",
    "        else:\n",
    "            incorrect += 1\n",
    "\n",
    "    accuracy = correct/(correct + incorrect)\n",
    "    print('Test accuracy: ', accuracy)\n",
    "    \n",
    "    return accuracy"
   ]
  },
  {
   "cell_type": "code",
   "execution_count": 4,
   "id": "fdc0e8c3",
   "metadata": {},
   "outputs": [],
   "source": [
    "# Hyperparameters\n",
    "seq_len = 10\n",
    "measurement = 'C'\n",
    "\n",
    "dc = DatasetCreator(r\"C:\\Users\\danie\\Documents\\Montanuni\\Masterarbeit\\4_Daten\\Elements.xlsx\", elements=None, \n",
    "                   splits=(0.8, 0.2), validation=False, seq_len=seq_len, measurement=measurement, stable_only=True)\n",
    "train_dataset, test_dataset, val_dataset = dc.get_datasets()"
   ]
  },
  {
   "cell_type": "code",
   "execution_count": 19,
   "id": "bbbb81dd",
   "metadata": {
    "scrolled": false
   },
   "outputs": [],
   "source": [
    "# Hyperparameters\n",
    "batch_size = 32\n",
    "\n",
    "# Create the DataLoaders\n",
    "train_loader = DataLoader(train_dataset, batch_size=batch_size, shuffle=True)\n",
    "test_loader = DataLoader(test_dataset, batch_size=1, shuffle=True)\n",
    "if val_dataset:\n",
    "    val_loader = DataLoader(val_dataset)\n",
    "    \n",
    "# Create the network\n",
    "t = False\n",
    "net = ElementClassifier(train)"
   ]
  },
  {
   "cell_type": "code",
   "execution_count": 20,
   "id": "d4d69008",
   "metadata": {
    "scrolled": false
   },
   "outputs": [
    {
     "name": "stdout",
     "output_type": "stream",
     "text": [
      "Test accuracy:  0.016218354430379747\n",
      "tensor(17) tensor([17])\n"
     ]
    }
   ],
   "source": [
    "if t:\n",
    "    train(net, train_loader, batch_size, seq_len)\n",
    "else: \n",
    "    test(net, test_loader)"
   ]
  },
  {
   "cell_type": "code",
   "execution_count": null,
   "id": "caf76456",
   "metadata": {},
   "outputs": [],
   "source": []
  }
 ],
 "metadata": {
  "kernelspec": {
   "display_name": "Python 3 (ipykernel)",
   "language": "python",
   "name": "python3"
  },
  "language_info": {
   "codemirror_mode": {
    "name": "ipython",
    "version": 3
   },
   "file_extension": ".py",
   "mimetype": "text/x-python",
   "name": "python",
   "nbconvert_exporter": "python",
   "pygments_lexer": "ipython3",
   "version": "3.8.12"
  }
 },
 "nbformat": 4,
 "nbformat_minor": 5
}
