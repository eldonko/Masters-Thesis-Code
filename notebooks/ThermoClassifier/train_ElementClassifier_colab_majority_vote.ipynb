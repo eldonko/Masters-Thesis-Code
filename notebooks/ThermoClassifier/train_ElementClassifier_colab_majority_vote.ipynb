{
  "cells": [
    {
      "cell_type": "markdown",
      "source": [
        "# Imports & private packages"
      ],
      "metadata": {
        "id": "xTREUMD46H1g"
      },
      "id": "xTREUMD46H1g"
    },
    {
      "cell_type": "code",
      "source": [
        "from google.colab import drive\n",
        "drive.mount('/content/drive')"
      ],
      "metadata": {
        "colab": {
          "base_uri": "https://localhost:8080/"
        },
        "id": "5bLNQbzk5x-p",
        "outputId": "293838cf-827c-4826-e11f-b227e22d3f81"
      },
      "id": "5bLNQbzk5x-p",
      "execution_count": null,
      "outputs": [
        {
          "output_type": "stream",
          "name": "stdout",
          "text": [
            "Drive already mounted at /content/drive; to attempt to forcibly remount, call drive.mount(\"/content/drive\", force_remount=True).\n"
          ]
        }
      ]
    },
    {
      "cell_type": "markdown",
      "source": [
        "## Private packages via Google Drive"
      ],
      "metadata": {
        "id": "LQ3O3hua6WR6"
      },
      "id": "LQ3O3hua6WR6"
    },
    {
      "cell_type": "code",
      "source": [
        "cd \"/content/drive/Othercomputers/PC/Masterarbeit/5 Programmcodes/packages/sgte\""
      ],
      "metadata": {
        "colab": {
          "base_uri": "https://localhost:8080/"
        },
        "id": "bIrlhU596EKh",
        "outputId": "7fe0f1b2-38ff-4129-ce71-e3b06c516d87"
      },
      "id": "bIrlhU596EKh",
      "execution_count": null,
      "outputs": [
        {
          "output_type": "stream",
          "name": "stdout",
          "text": [
            "/content/drive/Othercomputers/PC/Masterarbeit/5 Programmcodes/packages/sgte\n"
          ]
        }
      ]
    },
    {
      "cell_type": "code",
      "source": [
        "!pip install -e ."
      ],
      "metadata": {
        "colab": {
          "base_uri": "https://localhost:8080/"
        },
        "id": "rGEu5SCa6abZ",
        "outputId": "d896afcd-d1d1-41c0-bedd-05de597097b5"
      },
      "id": "rGEu5SCa6abZ",
      "execution_count": null,
      "outputs": [
        {
          "output_type": "stream",
          "name": "stdout",
          "text": [
            "Obtaining file:///content/drive/Othercomputers/PC/Masterarbeit/5%20Programmcodes/packages/sgte\n",
            "Requirement already satisfied: numpy in /usr/local/lib/python3.7/dist-packages (from sgte==0.1.0) (1.21.5)\n",
            "Requirement already satisfied: pandas in /usr/local/lib/python3.7/dist-packages (from sgte==0.1.0) (1.3.5)\n",
            "Requirement already satisfied: pytz>=2017.3 in /usr/local/lib/python3.7/dist-packages (from pandas->sgte==0.1.0) (2018.9)\n",
            "Requirement already satisfied: python-dateutil>=2.7.3 in /usr/local/lib/python3.7/dist-packages (from pandas->sgte==0.1.0) (2.8.2)\n",
            "Requirement already satisfied: six>=1.5 in /usr/local/lib/python3.7/dist-packages (from python-dateutil>=2.7.3->pandas->sgte==0.1.0) (1.15.0)\n",
            "Installing collected packages: sgte\n",
            "  Attempting uninstall: sgte\n",
            "    Found existing installation: SGTE 0.1.0\n",
            "    Can't uninstall 'SGTE'. No files were found to uninstall.\n",
            "  Running setup.py develop for sgte\n",
            "Successfully installed sgte-0.1.0\n"
          ]
        }
      ]
    },
    {
      "cell_type": "code",
      "source": [
        "cd \"/content/drive/Othercomputers/PC/Masterarbeit/5 Programmcodes/packages/thermoclassifier\""
      ],
      "metadata": {
        "colab": {
          "base_uri": "https://localhost:8080/"
        },
        "id": "EU__hk0y6j9c",
        "outputId": "62a7d06d-2305-4bf6-ec48-afae0ed7b220"
      },
      "id": "EU__hk0y6j9c",
      "execution_count": null,
      "outputs": [
        {
          "output_type": "stream",
          "name": "stdout",
          "text": [
            "/content/drive/Othercomputers/PC/Masterarbeit/5 Programmcodes/packages/thermoclassifier\n"
          ]
        }
      ]
    },
    {
      "cell_type": "code",
      "source": [
        "!pip install -e ."
      ],
      "metadata": {
        "colab": {
          "base_uri": "https://localhost:8080/"
        },
        "id": "252969Uj6nx7",
        "outputId": "50902dc8-9825-4b3a-9835-f18f7d4b3536"
      },
      "id": "252969Uj6nx7",
      "execution_count": null,
      "outputs": [
        {
          "output_type": "stream",
          "name": "stdout",
          "text": [
            "Obtaining file:///content/drive/Othercomputers/PC/Masterarbeit/5%20Programmcodes/packages/thermoclassifier\n",
            "Requirement already satisfied: numpy in /usr/local/lib/python3.7/dist-packages (from thermoclassifier==0.1.0) (1.21.5)\n",
            "Requirement already satisfied: pandas in /usr/local/lib/python3.7/dist-packages (from thermoclassifier==0.1.0) (1.3.5)\n",
            "Requirement already satisfied: torch in /usr/local/lib/python3.7/dist-packages (from thermoclassifier==0.1.0) (1.10.0+cu111)\n",
            "Requirement already satisfied: sgte in /content/drive/Othercomputers/PC/Masterarbeit/5 Programmcodes/packages/sgte (from thermoclassifier==0.1.0) (0.1.0)\n",
            "Requirement already satisfied: python-dateutil>=2.7.3 in /usr/local/lib/python3.7/dist-packages (from pandas->thermoclassifier==0.1.0) (2.8.2)\n",
            "Requirement already satisfied: pytz>=2017.3 in /usr/local/lib/python3.7/dist-packages (from pandas->thermoclassifier==0.1.0) (2018.9)\n",
            "Requirement already satisfied: six>=1.5 in /usr/local/lib/python3.7/dist-packages (from python-dateutil>=2.7.3->pandas->thermoclassifier==0.1.0) (1.15.0)\n",
            "Requirement already satisfied: typing-extensions in /usr/local/lib/python3.7/dist-packages (from torch->thermoclassifier==0.1.0) (3.10.0.2)\n",
            "Installing collected packages: thermoclassifier\n",
            "  Attempting uninstall: thermoclassifier\n",
            "    Found existing installation: ThermoClassifier 0.1.0\n",
            "    Can't uninstall 'ThermoClassifier'. No files were found to uninstall.\n",
            "  Running setup.py develop for thermoclassifier\n",
            "Successfully installed thermoclassifier-0.1.0\n"
          ]
        }
      ]
    },
    {
      "cell_type": "markdown",
      "source": [
        "## Imports"
      ],
      "metadata": {
        "id": "vKyPOJT86ub8"
      },
      "id": "vKyPOJT86ub8"
    },
    {
      "cell_type": "code",
      "execution_count": null,
      "id": "86f48880",
      "metadata": {
        "id": "86f48880"
      },
      "outputs": [],
      "source": [
        "from torch.utils.data import DataLoader\n",
        "import torch\n",
        "import torch.nn as nn\n",
        "from torch.optim import Adam\n",
        "import numpy as np\n",
        "import matplotlib.pyplot as plt\n",
        "from thermoclassifier.dataset.dataset_creator import DatasetCreator\n",
        "from thermoclassifier.elements.net import ElementClassifier"
      ]
    },
    {
      "cell_type": "markdown",
      "source": [
        "# Training routine"
      ],
      "metadata": {
        "id": "f-NnRSzj7znw"
      },
      "id": "f-NnRSzj7znw"
    },
    {
      "cell_type": "code",
      "execution_count": null,
      "id": "cdbe3d46",
      "metadata": {
        "id": "cdbe3d46"
      },
      "outputs": [],
      "source": [
        "def epoch(net, train_loader, loss_func, optimizer, batch_size, seq_len, measurement='G'):\n",
        "    epoch_losses = np.zeros([len(train_loader), ])\n",
        "    correct = 0\n",
        "    incorrect = 0\n",
        "    \n",
        "    for i, d in enumerate(train_loader):\n",
        "        # Scale inputs and get predictions\n",
        "        inp = d[:, :, :-1]#.squeeze(1)\n",
        "        inp[:, :, 0] /= 1000\n",
        "        predictions = net(inp.float().to(device))\n",
        "        \n",
        "        # Each batch consists of measurement batches, where seq_len measurements are put into one batch. In such a \n",
        "        # measurement batch, every measurement has the same label as it needs to be from the same element an phase. \n",
        "        # This leads to a target array where the target class is contained for each measurement in the measurement \n",
        "        # batch. With this, CrossEntropyLoss would not work as the predictions are made for the whole measurement \n",
        "        # batch and CEL therefore expects only on class label per measurement batch. Therefore, only the first \n",
        "        # element of the last dimension of d is considered as target (all the entries in the last dimension are the \n",
        "        # same anyways so it could be any entry)\n",
        "        targets = d[:, :, -1][:, 0].long().to(device)\n",
        "\n",
        "        correct += (predictions.argmax(dim=-1) == targets).sum().item()\n",
        "        incorrect += len(targets) - (predictions.argmax(dim=-1) == targets).sum().item()\n",
        "        \n",
        "        # Calculate the loss\n",
        "        loss = loss_func(predictions, targets)\n",
        "        epoch_losses[i] = loss\n",
        "        \n",
        "        # Backward step\n",
        "        net.zero_grad()\n",
        "        loss.backward()\n",
        "        optimizer.step()\n",
        "    \n",
        "    accuracy = correct/(correct + incorrect)\n",
        "    print('Epoch accuracy: ', accuracy)\n",
        "    return epoch_losses.mean()"
      ]
    },
    {
      "cell_type": "code",
      "execution_count": null,
      "id": "723de0db",
      "metadata": {
        "id": "723de0db"
      },
      "outputs": [],
      "source": [
        "# Training and testing routines\n",
        "\n",
        "def train(net, train_loader, test_loader, batch_size, seq_len, measurement='G'):\n",
        "    # Hyperparameters\n",
        "    nr_epochs = 10000\n",
        "    lr = 0.005\n",
        "    \n",
        "    loss_func = nn.CrossEntropyLoss()\n",
        "    optimizer = Adam(net.parameters(), lr=lr)\n",
        "    \n",
        "    losses = np.zeros([nr_epochs, ])\n",
        "\n",
        "    best_loss = epoch(net, train_loader, loss_func, optimizer, batch_size, seq_len, measurement=measurement)\n",
        "    best_net = net\n",
        "    \n",
        "    for i in range(nr_epochs):\n",
        "        losses[i] = epoch(net, train_loader, loss_func, optimizer, batch_size, seq_len, measurement=measurement)\n",
        "        if losses[i] < best_loss:\n",
        "            best_net = net\n",
        "            best_loss = losses[i]\n",
        "\n",
        "        if i % 10 == 0:\n",
        "            print(losses[i])\n",
        "            test(best_net, test_loader)\n",
        "    \n",
        "    return best_net\n",
        "\n",
        "def test(net, test_loader): \n",
        "    correct = 0\n",
        "    incorrect = 0\n",
        "    \n",
        "    for d in test_loader:\n",
        "        inp = d[:, :, :-1]#.squeeze(1)\n",
        "        inp[:, :, 0] /= 1000\n",
        "        predictions = net(inp.float().to(device)).squeeze()#.argmax()\n",
        "        targets = d[:, :, -1][:, 0].long().to(device)\n",
        "        \n",
        "        correct += (predictions.argmax(dim=-1) == targets).sum().item()\n",
        "        incorrect += len(targets) - (predictions.argmax(dim=-1) == targets).sum().item()\n",
        "\n",
        "    accuracy = correct/(correct + incorrect)\n",
        "    print('Test accuracy: ', accuracy)\n",
        "    \n",
        "    return accuracy"
      ]
    },
    {
      "cell_type": "markdown",
      "source": [
        "# Run"
      ],
      "metadata": {
        "id": "oMPUIPek75Hd"
      },
      "id": "oMPUIPek75Hd"
    },
    {
      "cell_type": "markdown",
      "source": [
        "## Network definition"
      ],
      "metadata": {
        "id": "E7LvhLr2JTgK"
      },
      "id": "E7LvhLr2JTgK"
    },
    {
      "cell_type": "code",
      "execution_count": null,
      "id": "fdc0e8c3",
      "metadata": {
        "id": "fdc0e8c3"
      },
      "outputs": [],
      "source": [
        "# Hyperparameters\n",
        "seq_len = 1\n",
        "measurement = 'C'\n",
        "batch_size = 128"
      ]
    },
    {
      "cell_type": "code",
      "source": [
        "def create_data_loaders(elements, splits, seq_len, validation=False, measurement='G', stable_only=True, batch_size=128, shuffle=True):\n",
        "    dc = DatasetCreator(elements=elements,  splits=splits, validation=validation, seq_len=seq_len, measurement=measurement, stable_only=True)\n",
        "    train_dataset, test_dataset, val_dataset = dc.get_datasets()\n",
        "\n",
        "    # Create the DataLoaders\n",
        "    train_loader = DataLoader(train_dataset, batch_size=batch_size, shuffle=shuffle)\n",
        "    test_loader = DataLoader(test_dataset, batch_size=1, shuffle=shuffle)\n",
        "    if val_dataset:\n",
        "        val_loader = DataLoader(val_dataset)\n",
        "    else:\n",
        "        val_loader = None\n",
        "\n",
        "    return train_loader, test_loader, val_loader"
      ],
      "metadata": {
        "id": "HhxxJFBx_vAS"
      },
      "id": "HhxxJFBx_vAS",
      "execution_count": null,
      "outputs": []
    },
    {
      "cell_type": "code",
      "execution_count": null,
      "id": "bbbb81dd",
      "metadata": {
        "scrolled": false,
        "id": "bbbb81dd"
      },
      "outputs": [],
      "source": [
        "# Create the network\n",
        "t = True\n",
        "net = ElementClassifier(train, in_features=seq_len * 2, hidden_size_linear=32)\n",
        "\n",
        "# Check if cuda is available and send net to device\n",
        "device = torch.device(\"cuda:0\" if torch.cuda.is_available() else \"cpu\")\n",
        "\n",
        "net = net.to(device)"
      ]
    },
    {
      "cell_type": "markdown",
      "source": [
        "## Train"
      ],
      "metadata": {
        "id": "xfxw19p8JWMj"
      },
      "id": "xfxw19p8JWMj"
    },
    {
      "cell_type": "code",
      "execution_count": null,
      "id": "d4d69008",
      "metadata": {
        "scrolled": false,
        "id": "d4d69008"
      },
      "outputs": [],
      "source": [
        "train_loader, test_loader, val_loader = create_data_loaders(None, (0.8, 0.2), seq_len=seq_len, measurement=measurement)\n",
        "\n",
        "best_net = train(net, train_loader, test_loader, batch_size, seq_len, measurement)\n",
        "test(best_net, test_loader)"
      ]
    },
    {
      "cell_type": "code",
      "execution_count": null,
      "id": "caf76456",
      "metadata": {
        "colab": {
          "base_uri": "https://localhost:8080/"
        },
        "id": "caf76456",
        "outputId": "111e1a13-c524-4441-9d8f-36fb5e6d5fc4"
      },
      "outputs": [
        {
          "output_type": "stream",
          "name": "stdout",
          "text": [
            "Test accuracy:  0.1513157894736842\n"
          ]
        },
        {
          "output_type": "execute_result",
          "data": {
            "text/plain": [
              "0.1513157894736842"
            ]
          },
          "metadata": {},
          "execution_count": 57
        }
      ],
      "source": [
        "test(best_net, test_loader)"
      ]
    },
    {
      "cell_type": "code",
      "source": [
        "torch.save(best_net, 'ElementClassifier.pth')"
      ],
      "metadata": {
        "id": "ZjcJnugmbiCm"
      },
      "id": "ZjcJnugmbiCm",
      "execution_count": null,
      "outputs": []
    }
  ],
  "metadata": {
    "kernelspec": {
      "display_name": "Python 3 (ipykernel)",
      "language": "python",
      "name": "python3"
    },
    "language_info": {
      "codemirror_mode": {
        "name": "ipython",
        "version": 3
      },
      "file_extension": ".py",
      "mimetype": "text/x-python",
      "name": "python",
      "nbconvert_exporter": "python",
      "pygments_lexer": "ipython3",
      "version": "3.8.12"
    },
    "colab": {
      "name": "train_ElementClassifier.ipynb",
      "provenance": [],
      "collapsed_sections": [
        "E7LvhLr2JTgK"
      ]
    },
    "accelerator": "GPU"
  },
  "nbformat": 4,
  "nbformat_minor": 5
}