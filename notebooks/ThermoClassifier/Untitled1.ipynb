{
 "cells": [
  {
   "cell_type": "code",
   "execution_count": 1,
   "id": "b1c84711",
   "metadata": {},
   "outputs": [],
   "source": [
    "from thermoclassifier.dataset.dataset_creator import DatasetCreator\n",
    "import numpy as np"
   ]
  },
  {
   "cell_type": "code",
   "execution_count": 2,
   "id": "941771b0",
   "metadata": {
    "scrolled": false
   },
   "outputs": [
    {
     "name": "stdout",
     "output_type": "stream",
     "text": [
      "[[  1223.         -58396.83984375      0.        ]\n",
      " [  1705.         -98583.1484375       0.        ]\n",
      " [  1047.         -45480.0234375       0.        ]\n",
      " [  1493.         -80187.15625         0.        ]\n",
      " [  1416.         -73780.5625          0.        ]]\n",
      "----------\n",
      "[[  1047.         -45480.0234375       0.        ]\n",
      " [  1223.         -58396.83984375      0.        ]\n",
      " [  1416.         -73780.5625          0.        ]\n",
      " [  1493.         -80187.15625         0.        ]\n",
      " [  1705.         -98583.1484375       0.        ]]\n"
     ]
    }
   ],
   "source": [
    "dc = DatasetCreator(elements=['Fe'],  splits=(0.8, 0.2), validation=False, seq_len=5, stable_only=True)"
   ]
  },
  {
   "cell_type": "code",
   "execution_count": 3,
   "id": "2b145cdc",
   "metadata": {},
   "outputs": [
    {
     "name": "stdout",
     "output_type": "stream",
     "text": [
      "[[[ 9  2  3]\n",
      "  [ 4  5  6]\n",
      "  [ 7  0  5]]\n",
      "\n",
      " [[19 81 30]\n",
      "  [42 56 36]\n",
      "  [79 20 15]]]\n",
      "(2, 3, 3)\n"
     ]
    }
   ],
   "source": [
    "a = np.array([[[9, 2, 3],\n",
    "           [4, 5, 6],\n",
    "           [7, 0, 5]], \n",
    "           [[19, 81, 30],\n",
    "           [42, 56, 36],\n",
    "           [79, 20, 15]]])\n",
    "print(a)\n",
    "print(a.shape)"
   ]
  },
  {
   "cell_type": "code",
   "execution_count": 4,
   "id": "99e82993",
   "metadata": {},
   "outputs": [
    {
     "name": "stdout",
     "output_type": "stream",
     "text": [
      "[[2 0 1]\n",
      " [2 1 0]]\n",
      "(2, 3)\n",
      "[[[ 7  0  5]\n",
      "  [ 9  2  3]\n",
      "  [ 4  5  6]]\n",
      "\n",
      " [[79 20 15]\n",
      "  [42 56 36]\n",
      "  [19 81 30]]]\n",
      "(2, 3, 3)\n"
     ]
    }
   ],
   "source": [
    "s = a[:, :, 1].argsort()\n",
    "print(s)\n",
    "print(s.shape)\n",
    "\n",
    "b = a[:, a[:, :, 1].argsort()][np.diag_indices(2)]\n",
    "print(b)\n",
    "print(b.shape)"
   ]
  },
  {
   "cell_type": "code",
   "execution_count": null,
   "id": "6f0db3e7",
   "metadata": {},
   "outputs": [],
   "source": []
  }
 ],
 "metadata": {
  "kernelspec": {
   "display_name": "Python 3 (ipykernel)",
   "language": "python",
   "name": "python3"
  },
  "language_info": {
   "codemirror_mode": {
    "name": "ipython",
    "version": 3
   },
   "file_extension": ".py",
   "mimetype": "text/x-python",
   "name": "python",
   "nbconvert_exporter": "python",
   "pygments_lexer": "ipython3",
   "version": "3.8.12"
  }
 },
 "nbformat": 4,
 "nbformat_minor": 5
}
