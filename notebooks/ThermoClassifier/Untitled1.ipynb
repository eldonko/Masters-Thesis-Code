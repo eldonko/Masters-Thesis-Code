{
 "cells": [
  {
   "cell_type": "code",
   "execution_count": 1,
   "id": "640b53e6",
   "metadata": {},
   "outputs": [],
   "source": [
    "from thermoclassifier.elements.ensemble import EnsembleClassifierNet, majority_vote\n",
    "from thermoclassifier.dataset.dataset_creator import DatasetCreator\n",
    "import numpy as np\n",
    "import torch\n",
    "import torch.nn as nn\n",
    "from torch.utils.data import DataLoader"
   ]
  },
  {
   "cell_type": "code",
   "execution_count": null,
   "id": "8f54f772",
   "metadata": {},
   "outputs": [],
   "source": [
    "dc = DatasetCreator(elements=None,  splits=(0.8, 0.2), validation=False, seq_len=2, measurement='C', stable_only=True, step=0.1)\n",
    "train_dataset, test_dataset, val_dataset = dc.get_datasets()\n",
    "train_loader = DataLoader(train_dataset, batch_size=1, shuffle=True)"
   ]
  },
  {
   "cell_type": "code",
   "execution_count": null,
   "id": "e5274f39",
   "metadata": {
    "scrolled": false
   },
   "outputs": [],
   "source": [
    "print(len(train_loader), len(train_dataset))\n",
    "\n",
    "for d in train_loader:\n",
    "    print(d)"
   ]
  }
 ],
 "metadata": {
  "kernelspec": {
   "display_name": "Python 3 (ipykernel)",
   "language": "python",
   "name": "python3"
  },
  "language_info": {
   "codemirror_mode": {
    "name": "ipython",
    "version": 3
   },
   "file_extension": ".py",
   "mimetype": "text/x-python",
   "name": "python",
   "nbconvert_exporter": "python",
   "pygments_lexer": "ipython3",
   "version": "3.8.12"
  }
 },
 "nbformat": 4,
 "nbformat_minor": 5
}
