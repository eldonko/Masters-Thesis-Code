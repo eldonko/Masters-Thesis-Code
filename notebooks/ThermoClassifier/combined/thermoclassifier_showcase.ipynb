{
 "cells": [
  {
   "cell_type": "code",
   "execution_count": 1,
   "id": "5120c5dd",
   "metadata": {},
   "outputs": [],
   "source": [
    "import torch\n",
    "\n",
    "from thermoclassifier.combined.net import ThermoClassifier"
   ]
  },
  {
   "cell_type": "code",
   "execution_count": 2,
   "id": "66911e2e",
   "metadata": {},
   "outputs": [],
   "source": [
    "tc = ThermoClassifier()"
   ]
  },
  {
   "cell_type": "code",
   "execution_count": 3,
   "id": "a6c00b83",
   "metadata": {},
   "outputs": [],
   "source": [
    "inp = torch.tensor([[[ .3,   11.403],\n",
    "                    [ .7,   22.25],\n",
    "                    [ .8,   23.364],\n",
    "                    [.9,   24.248],\n",
    "                    [1.0,   24.979]], \n",
    "                    \n",
    "                    [[ .3,   25.039],\n",
    "                    [ .7,   34.592],\n",
    "                    [ .8,   37.943],\n",
    "                    [.9,   43.089],\n",
    "                    [1.0,   54.434]]])"
   ]
  },
  {
   "cell_type": "code",
   "execution_count": 4,
   "id": "f5d59362",
   "metadata": {},
   "outputs": [
    {
     "name": "stdout",
     "output_type": "stream",
     "text": [
      "tensor([[[ 0.3000, 11.4030,  5.0000, 12.0000],\n",
      "         [ 0.7000, 22.2500,  5.0000, 12.0000],\n",
      "         [ 0.8000, 23.3640,  5.0000, 12.0000],\n",
      "         [ 0.9000, 24.2480,  5.0000, 12.0000],\n",
      "         [ 1.0000, 24.9790,  5.0000, 12.0000]],\n",
      "\n",
      "        [[ 0.3000, 25.0390, 20.0000,  3.0000],\n",
      "         [ 0.7000, 34.5920, 20.0000,  3.0000],\n",
      "         [ 0.8000, 37.9430, 20.0000,  3.0000],\n",
      "         [ 0.9000, 43.0890, 20.0000,  3.0000],\n",
      "         [ 1.0000, 54.4340, 20.0000,  3.0000]]])\n",
      "('B', ['BETA_RHOMBO_B', 'BETA_RHOMBO_B', 'BETA_RHOMBO_B', 'BETA_RHOMBO_B', 'BETA_RHOMBO_B'])\n",
      "('Fe', ['BCC_A2', 'BCC_A2', 'BCC_A2', 'BCC_A2', 'BCC_A2'])\n"
     ]
    }
   ],
   "source": [
    "out = tc(inp)\n",
    "print(out)\n",
    "decoded = tc.decode(out)\n",
    "for d in decoded:\n",
    "    print(d)"
   ]
  },
  {
   "cell_type": "code",
   "execution_count": null,
   "id": "a5bba346",
   "metadata": {},
   "outputs": [],
   "source": []
  }
 ],
 "metadata": {
  "kernelspec": {
   "display_name": "Python 3 (ipykernel)",
   "language": "python",
   "name": "python3"
  },
  "language_info": {
   "codemirror_mode": {
    "name": "ipython",
    "version": 3
   },
   "file_extension": ".py",
   "mimetype": "text/x-python",
   "name": "python",
   "nbconvert_exporter": "python",
   "pygments_lexer": "ipython3",
   "version": "3.8.12"
  }
 },
 "nbformat": 4,
 "nbformat_minor": 5
}
