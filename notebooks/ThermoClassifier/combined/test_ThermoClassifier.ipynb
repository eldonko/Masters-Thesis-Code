{
 "cells": [
  {
   "cell_type": "code",
   "execution_count": 1,
   "id": "1f80a309",
   "metadata": {},
   "outputs": [],
   "source": [
    "from torch.utils.data import DataLoader\n",
    "import torch\n",
    "import torch.nn as nn\n",
    "import numpy as np\n",
    "import matplotlib.pyplot as plt\n",
    "\n",
    "from thermoclassifier.combined.net import ThermoClassifier\n",
    "from thermoclassifier.dataset.dataset_creator import *"
   ]
  },
  {
   "cell_type": "code",
   "execution_count": 2,
   "id": "84a39b76",
   "metadata": {},
   "outputs": [
    {
     "name": "stdout",
     "output_type": "stream",
     "text": [
      "Dataset shape:  (25605, 5, 4)\n"
     ]
    }
   ],
   "source": [
    "measurement = 'C'\n",
    "batch_size = 256\n",
    "seq_len = 5\n",
    "\n",
    "dc = DatasetCreator(elements=None, splits=(1., 0.), validation=False, seq_len=seq_len, measurement=measurement, user='phase')\n",
    "test_dataset, _, _ = dc.get_datasets()\n",
    "\n",
    "test_loader = DataLoader(test_dataset, batch_size=batch_size, shuffle=True)"
   ]
  },
  {
   "cell_type": "code",
   "execution_count": 3,
   "id": "f645a402",
   "metadata": {},
   "outputs": [],
   "source": [
    "net = ThermoClassifier()"
   ]
  },
  {
   "cell_type": "code",
   "execution_count": 4,
   "id": "1402b1c7",
   "metadata": {},
   "outputs": [
    {
     "name": "stdout",
     "output_type": "stream",
     "text": [
      "Element accuracy:  0.9785588752196837\n",
      "Phase accuracy:  0.9455262644014841\n",
      "Combined accuracy:  0.9364186682288616\n"
     ]
    }
   ],
   "source": [
    "element_correct = 0\n",
    "element_incorrect = 0\n",
    "phase_correct = 0\n",
    "phase_incorrect = 0\n",
    "combined_correct = 0\n",
    "combined_incorrect = 0\n",
    "\n",
    "for d in test_loader:\n",
    "    # Get the predictions\n",
    "    inp = d[:, :, :-2]\n",
    "    inp[:, :, 0] /= 1000\n",
    "    predictions = net(inp.float()).squeeze()\n",
    "    \n",
    "    # Get the correct/incorrect element predictions\n",
    "    element_predictions = predictions[:, 0, 2]\n",
    "    element_targets = d[:, 0, 2]\n",
    "    correct = (element_predictions == element_targets).sum().item()\n",
    "    element_correct += correct\n",
    "    element_incorrect += len(element_targets) - correct\n",
    "    \n",
    "    # Get the correct/incorrect phase predictions\n",
    "    phase_predictions = predictions[:, :, 3]\n",
    "    phase_targets = d[:, :, 3]\n",
    "    correct = (phase_predictions == phase_targets).sum().item()\n",
    "    phase_correct += correct\n",
    "    phase_incorrect += np.prod(phase_predictions.shape) - correct\n",
    "    \n",
    "    # Get the combined correct/incorrect predictions\n",
    "    combined_predictions = predictions[:, :, [2, 3]]\n",
    "    combined_targets = d[:, :, [2, 3]]\n",
    "    correct = (combined_predictions == combined_targets).prod(dim=-1).sum().item()\n",
    "    combined_correct += correct\n",
    "    combined_incorrect += np.prod(combined_predictions.shape[:2]) - correct\n",
    "\n",
    "print('Element accuracy: ', element_correct/(element_correct + element_incorrect))\n",
    "print('Phase accuracy: ', phase_correct/(phase_correct + phase_incorrect))\n",
    "print('Combined accuracy: ', combined_correct/(combined_correct + combined_incorrect))"
   ]
  },
  {
   "cell_type": "code",
   "execution_count": null,
   "id": "4c9b32d7",
   "metadata": {},
   "outputs": [],
   "source": []
  }
 ],
 "metadata": {
  "kernelspec": {
   "display_name": "Python 3 (ipykernel)",
   "language": "python",
   "name": "python3"
  },
  "language_info": {
   "codemirror_mode": {
    "name": "ipython",
    "version": 3
   },
   "file_extension": ".py",
   "mimetype": "text/x-python",
   "name": "python",
   "nbconvert_exporter": "python",
   "pygments_lexer": "ipython3",
   "version": "3.8.12"
  }
 },
 "nbformat": 4,
 "nbformat_minor": 5
}
