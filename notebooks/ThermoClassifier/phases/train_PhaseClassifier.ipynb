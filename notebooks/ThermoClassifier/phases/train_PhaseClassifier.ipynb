{
 "cells": [
  {
   "cell_type": "code",
   "execution_count": 4,
   "id": "9aa6c82e",
   "metadata": {},
   "outputs": [],
   "source": [
    "from thermoclassifier.phases.net import PhaseClassifier\n",
    "from thermoclassifier.dataset.dataset_creator import *\n",
    "from torch.utils.data import DataLoader\n",
    "import torch\n",
    "import torch.nn as nn\n",
    "from torch.optim import Adam\n",
    "import numpy as np\n",
    "import matplotlib.pyplot as plt"
   ]
  },
  {
   "cell_type": "code",
   "execution_count": 5,
   "id": "8062abaf",
   "metadata": {
    "scrolled": false
   },
   "outputs": [],
   "source": [
    "def epoch(net, train_loader, loss_func, optimizer, batch_size, seq_len):\n",
    "    epoch_losses = np.zeros([len(train_loader), ])\n",
    "    correct = 0\n",
    "    incorrect = 0\n",
    "    \n",
    "    for i, d in enumerate(train_loader):\n",
    "        # Scale inputs and get predictions\n",
    "        #inp = d[:, :, :-1]\n",
    "        inp = d[:, :, [0, 2]]\n",
    "        inp[:, :, 0] /= 1000\n",
    "        predictions = net(inp.float()).squeeze()\n",
    "        \n",
    "        # Each batch consists of measurement batches, where seq_len measurements are put into one batch. In such a \n",
    "        # measurement batch, every measurement has the same label as it needs to be from the same element an phase. \n",
    "        # This leads to a target array where the target class is contained for each measurement in the measurement \n",
    "        # batch. With this, CrossEntropyLoss would not work as the predictions are made for the whole measurement \n",
    "        # batch and CEL therefore expects only on class label per measurement batch. Therefore, only the first \n",
    "        # element of the last dimension of d is considered as target (all the entries in the last dimension are the \n",
    "        # same anyways so it could be any entry)\n",
    "        targets = d[:, :, -1][:, 0].long()\n",
    "                \n",
    "        correct += (predictions.argmax(dim=-1) == targets).sum().item()\n",
    "        incorrect += len(targets) - (predictions.argmax(dim=-1) == targets).sum().item()\n",
    "        \n",
    "        #print(predictions.argmax(dim=-1), targets)\n",
    "        \n",
    "        # Calculate the loss\n",
    "        loss = loss_func(predictions, targets)\n",
    "        epoch_losses[i] = loss\n",
    "        \n",
    "        # Backward step\n",
    "        net.zero_grad()\n",
    "        loss.backward()\n",
    "        optimizer.step()\n",
    "    \n",
    "    print('Training accuracy: ', correct/(correct + incorrect))\n",
    "    \n",
    "    return epoch_losses.mean()"
   ]
  },
  {
   "cell_type": "code",
   "execution_count": 9,
   "id": "1bcc489a",
   "metadata": {},
   "outputs": [],
   "source": [
    "# Training and testing routines\n",
    "\n",
    "def train(net, train_loader, batch_size, seq_len, save=True):\n",
    "    # Hyperparameters\n",
    "    nr_epochs = 500\n",
    "    lr = 0.01\n",
    "    \n",
    "    loss_func = nn.CrossEntropyLoss()\n",
    "    optimizer = Adam(net.parameters(), lr=lr)\n",
    "    \n",
    "    losses = np.zeros([nr_epochs, ])\n",
    "    \n",
    "    # Save the net with the lowest training loss as the best net\n",
    "    best_net = net\n",
    "    best_loss = epoch(net, train_loader, loss_func, optimizer, batch_size, seq_len)\n",
    "    \n",
    "    for i in range(nr_epochs):\n",
    "        losses[i] = epoch(net, train_loader, loss_func, optimizer, batch_size, seq_len)\n",
    "        \n",
    "        if losses[i] < best_loss:\n",
    "            best_net = net\n",
    "        \n",
    "        if i % 10 == 0:\n",
    "            print(losses[i])\n",
    "            \n",
    "    return best_net\n",
    "        \n",
    "def test(net, test_loader): \n",
    "    correct = 0\n",
    "    incorrect = 0\n",
    "\n",
    "    for d in test_loader:\n",
    "        inp = d[:, :, :-1]\n",
    "        inp[:, :, 0] /= 1000\n",
    "        predictions = net(inp.float())\n",
    "        targets = d[:, :, -1][:, 0].long()\n",
    "        \n",
    "        correct += (predictions.argmax(dim=-1).flatten() == targets).sum().item()\n",
    "        incorrect += len(targets) - (predictions.argmax(dim=-1).flatten() == targets).sum().item()\n",
    "\n",
    "    accuracy = correct/(correct + incorrect)\n",
    "    print('Test accuracy: ', accuracy)\n",
    "    \n",
    "    return accuracy"
   ]
  },
  {
   "cell_type": "code",
   "execution_count": 14,
   "id": "df4dd515",
   "metadata": {
    "scrolled": false
   },
   "outputs": [
    {
     "ename": "KeyboardInterrupt",
     "evalue": "",
     "output_type": "error",
     "traceback": [
      "\u001b[1;31m---------------------------------------------------------------------------\u001b[0m",
      "\u001b[1;31mKeyboardInterrupt\u001b[0m                         Traceback (most recent call last)",
      "\u001b[1;32m<ipython-input-14-115d632a14b4>\u001b[0m in \u001b[0;36m<module>\u001b[1;34m\u001b[0m\n\u001b[0;32m      5\u001b[0m \u001b[1;31m# Create the dataset\u001b[0m\u001b[1;33m\u001b[0m\u001b[1;33m\u001b[0m\u001b[1;33m\u001b[0m\u001b[0m\n\u001b[0;32m      6\u001b[0m \u001b[0mmeasurement\u001b[0m \u001b[1;33m=\u001b[0m \u001b[1;34m'C'\u001b[0m\u001b[1;33m\u001b[0m\u001b[1;33m\u001b[0m\u001b[0m\n\u001b[1;32m----> 7\u001b[1;33m \u001b[0mdc\u001b[0m \u001b[1;33m=\u001b[0m \u001b[0mDatasetCreator\u001b[0m\u001b[1;33m(\u001b[0m\u001b[0melements\u001b[0m\u001b[1;33m=\u001b[0m\u001b[1;32mNone\u001b[0m\u001b[1;33m,\u001b[0m \u001b[0msplits\u001b[0m\u001b[1;33m=\u001b[0m\u001b[1;33m(\u001b[0m\u001b[1;36m0.8\u001b[0m\u001b[1;33m,\u001b[0m \u001b[1;36m0.2\u001b[0m\u001b[1;33m)\u001b[0m\u001b[1;33m,\u001b[0m \u001b[0mvalidation\u001b[0m\u001b[1;33m=\u001b[0m\u001b[1;32mFalse\u001b[0m\u001b[1;33m,\u001b[0m \u001b[0mseq_len\u001b[0m\u001b[1;33m=\u001b[0m\u001b[0mseq_len\u001b[0m\u001b[1;33m,\u001b[0m \u001b[0mmeasurement\u001b[0m\u001b[1;33m=\u001b[0m\u001b[0mmeasurement\u001b[0m\u001b[1;33m,\u001b[0m \u001b[0muser\u001b[0m\u001b[1;33m=\u001b[0m\u001b[1;34m'phase'\u001b[0m\u001b[1;33m,\u001b[0m \u001b[0mstep\u001b[0m\u001b[1;33m=\u001b[0m\u001b[1;36m0.05\u001b[0m\u001b[1;33m)\u001b[0m\u001b[1;33m\u001b[0m\u001b[1;33m\u001b[0m\u001b[0m\n\u001b[0m\u001b[0;32m      8\u001b[0m \u001b[0mtrain_dataset\u001b[0m\u001b[1;33m,\u001b[0m \u001b[0mtest_dataset\u001b[0m\u001b[1;33m,\u001b[0m \u001b[0mval_dataset\u001b[0m \u001b[1;33m=\u001b[0m \u001b[0mdc\u001b[0m\u001b[1;33m.\u001b[0m\u001b[0mget_datasets\u001b[0m\u001b[1;33m(\u001b[0m\u001b[1;33m)\u001b[0m\u001b[1;33m\u001b[0m\u001b[1;33m\u001b[0m\u001b[0m\n\u001b[0;32m      9\u001b[0m \u001b[1;33m\u001b[0m\u001b[0m\n",
      "\u001b[1;32mc:\\users\\danie\\documents\\montanuni\\masterarbeit\\5 programmcodes\\packages\\thermoclassifier\\thermoclassifier\\dataset\\dataset_creator.py\u001b[0m in \u001b[0;36m__init__\u001b[1;34m(self, temp_range, measurement, seq_len, splits, validation, elements, user, step, p)\u001b[0m\n\u001b[0;32m     75\u001b[0m             \u001b[1;31m# Encode the element name to its label\u001b[0m\u001b[1;33m\u001b[0m\u001b[1;33m\u001b[0m\u001b[1;33m\u001b[0m\u001b[0m\n\u001b[0;32m     76\u001b[0m             \u001b[0melement_label\u001b[0m \u001b[1;33m=\u001b[0m \u001b[0mEncoder\u001b[0m\u001b[1;33m(\u001b[0m\u001b[1;33m)\u001b[0m\u001b[1;33m(\u001b[0m\u001b[0melement\u001b[0m\u001b[1;33m)\u001b[0m\u001b[1;33m\u001b[0m\u001b[1;33m\u001b[0m\u001b[0m\n\u001b[1;32m---> 77\u001b[1;33m             edc = ElementDatasetCreator(element_label=element_label, element=element, temp_range=temp_range,\n\u001b[0m\u001b[0;32m     78\u001b[0m                                         \u001b[0mmeasurement\u001b[0m\u001b[1;33m=\u001b[0m\u001b[0mmeasurement\u001b[0m\u001b[1;33m,\u001b[0m \u001b[0mseq_len\u001b[0m\u001b[1;33m=\u001b[0m\u001b[0mseq_len\u001b[0m\u001b[1;33m,\u001b[0m \u001b[0msplits\u001b[0m\u001b[1;33m=\u001b[0m\u001b[0msplits\u001b[0m\u001b[1;33m,\u001b[0m \u001b[0mvalidation\u001b[0m\u001b[1;33m=\u001b[0m\u001b[0mvalidation\u001b[0m\u001b[1;33m,\u001b[0m\u001b[1;33m\u001b[0m\u001b[1;33m\u001b[0m\u001b[0m\n\u001b[0;32m     79\u001b[0m                                         step=step, p=p, user=user)\n",
      "\u001b[1;32mc:\\users\\danie\\documents\\montanuni\\masterarbeit\\5 programmcodes\\packages\\thermoclassifier\\thermoclassifier\\dataset\\element_dataset_creator.py\u001b[0m in \u001b[0;36m__init__\u001b[1;34m(self, element_label, element, temp_range, measurement, seq_len, splits, validation, step, p, user)\u001b[0m\n\u001b[0;32m     67\u001b[0m \u001b[1;33m\u001b[0m\u001b[0m\n\u001b[0;32m     68\u001b[0m         \u001b[1;31m# Create the data sets for all phases of the element. self.val_data is only not None, if validation is True\u001b[0m\u001b[1;33m\u001b[0m\u001b[1;33m\u001b[0m\u001b[1;33m\u001b[0m\u001b[0m\n\u001b[1;32m---> 69\u001b[1;33m         \u001b[0mself\u001b[0m\u001b[1;33m.\u001b[0m\u001b[0mtrain_data\u001b[0m\u001b[1;33m,\u001b[0m \u001b[0mself\u001b[0m\u001b[1;33m.\u001b[0m\u001b[0mtest_data\u001b[0m\u001b[1;33m,\u001b[0m \u001b[0mself\u001b[0m\u001b[1;33m.\u001b[0m\u001b[0mval_data\u001b[0m \u001b[1;33m=\u001b[0m \u001b[0mself\u001b[0m\u001b[1;33m.\u001b[0m\u001b[0mcreate_batches\u001b[0m\u001b[1;33m(\u001b[0m\u001b[0melement_label\u001b[0m\u001b[1;33m)\u001b[0m\u001b[1;33m\u001b[0m\u001b[1;33m\u001b[0m\u001b[0m\n\u001b[0m\u001b[0;32m     70\u001b[0m \u001b[1;33m\u001b[0m\u001b[0m\n\u001b[0;32m     71\u001b[0m     \u001b[1;32mdef\u001b[0m \u001b[0mget_data\u001b[0m\u001b[1;33m(\u001b[0m\u001b[0mself\u001b[0m\u001b[1;33m)\u001b[0m\u001b[1;33m:\u001b[0m\u001b[1;33m\u001b[0m\u001b[1;33m\u001b[0m\u001b[0m\n",
      "\u001b[1;32mc:\\users\\danie\\documents\\montanuni\\masterarbeit\\5 programmcodes\\packages\\thermoclassifier\\thermoclassifier\\dataset\\element_dataset_creator.py\u001b[0m in \u001b[0;36mcreate_batches\u001b[1;34m(self, label)\u001b[0m\n\u001b[0;32m    128\u001b[0m \u001b[1;33m\u001b[0m\u001b[0m\n\u001b[0;32m    129\u001b[0m         \u001b[1;31m# Sort the datasets by temperature\u001b[0m\u001b[1;33m\u001b[0m\u001b[1;33m\u001b[0m\u001b[1;33m\u001b[0m\u001b[0m\n\u001b[1;32m--> 130\u001b[1;33m         \u001b[0mtrain_data\u001b[0m \u001b[1;33m=\u001b[0m \u001b[0mtrain_data\u001b[0m\u001b[1;33m[\u001b[0m\u001b[1;33m:\u001b[0m\u001b[1;33m,\u001b[0m \u001b[0mtrain_data\u001b[0m\u001b[1;33m[\u001b[0m\u001b[1;33m:\u001b[0m\u001b[1;33m,\u001b[0m \u001b[1;33m:\u001b[0m\u001b[1;33m,\u001b[0m \u001b[1;36m0\u001b[0m\u001b[1;33m]\u001b[0m\u001b[1;33m.\u001b[0m\u001b[0margsort\u001b[0m\u001b[1;33m(\u001b[0m\u001b[1;33m)\u001b[0m\u001b[1;33m]\u001b[0m\u001b[1;33m[\u001b[0m\u001b[0mnp\u001b[0m\u001b[1;33m.\u001b[0m\u001b[0mdiag_indices\u001b[0m\u001b[1;33m(\u001b[0m\u001b[0mtrain_data\u001b[0m\u001b[1;33m.\u001b[0m\u001b[0mshape\u001b[0m\u001b[1;33m[\u001b[0m\u001b[1;36m0\u001b[0m\u001b[1;33m]\u001b[0m\u001b[1;33m)\u001b[0m\u001b[1;33m]\u001b[0m\u001b[1;33m\u001b[0m\u001b[1;33m\u001b[0m\u001b[0m\n\u001b[0m\u001b[0;32m    131\u001b[0m         \u001b[0mtest_data\u001b[0m \u001b[1;33m=\u001b[0m \u001b[0mtest_data\u001b[0m\u001b[1;33m[\u001b[0m\u001b[1;33m:\u001b[0m\u001b[1;33m,\u001b[0m \u001b[0mtest_data\u001b[0m\u001b[1;33m[\u001b[0m\u001b[1;33m:\u001b[0m\u001b[1;33m,\u001b[0m \u001b[1;33m:\u001b[0m\u001b[1;33m,\u001b[0m \u001b[1;36m0\u001b[0m\u001b[1;33m]\u001b[0m\u001b[1;33m.\u001b[0m\u001b[0margsort\u001b[0m\u001b[1;33m(\u001b[0m\u001b[1;33m)\u001b[0m\u001b[1;33m]\u001b[0m\u001b[1;33m[\u001b[0m\u001b[0mnp\u001b[0m\u001b[1;33m.\u001b[0m\u001b[0mdiag_indices\u001b[0m\u001b[1;33m(\u001b[0m\u001b[0mtest_data\u001b[0m\u001b[1;33m.\u001b[0m\u001b[0mshape\u001b[0m\u001b[1;33m[\u001b[0m\u001b[1;36m0\u001b[0m\u001b[1;33m]\u001b[0m\u001b[1;33m)\u001b[0m\u001b[1;33m]\u001b[0m\u001b[1;33m\u001b[0m\u001b[1;33m\u001b[0m\u001b[0m\n\u001b[0;32m    132\u001b[0m         \u001b[1;32mif\u001b[0m \u001b[0mval_data\u001b[0m \u001b[1;32mis\u001b[0m \u001b[1;32mnot\u001b[0m \u001b[1;32mNone\u001b[0m\u001b[1;33m:\u001b[0m\u001b[1;33m\u001b[0m\u001b[1;33m\u001b[0m\u001b[0m\n",
      "\u001b[1;31mKeyboardInterrupt\u001b[0m: "
     ]
    }
   ],
   "source": [
    "# Hyperparameters\n",
    "seq_len = 1\n",
    "batch_size = 256\n",
    "\n",
    "# Create the dataset\n",
    "measurement = 'C'\n",
    "dc = DatasetCreator(elements=None, splits=(0.8, 0.2), validation=False, seq_len=seq_len, measurement=measurement, user='phase', step=0.05)\n",
    "train_dataset, test_dataset, val_dataset = dc.get_datasets()\n",
    "\n",
    "# Create the DataLoaders\n",
    "train_loader = DataLoader(train_dataset, batch_size=batch_size, shuffle=True)\n",
    "test_loader = DataLoader(test_dataset, batch_size=batch_size, shuffle=True)\n",
    "if val_dataset:\n",
    "    val_loader = DataLoader(val_dataset)"
   ]
  },
  {
   "cell_type": "code",
   "execution_count": null,
   "id": "2b4a8790",
   "metadata": {},
   "outputs": [],
   "source": [
    "# Create the network\n",
    "t = True\n",
    "net = PhaseClassifier(train=t, measurement=measurement)"
   ]
  },
  {
   "cell_type": "code",
   "execution_count": null,
   "id": "b2226823",
   "metadata": {
    "scrolled": false
   },
   "outputs": [],
   "source": [
    "# Train the network\n",
    "best_net = train(net, train_loader, batch_size, seq_len)\n",
    "\n",
    "# Test the trained network\n",
    "test(best_net, test_loader)"
   ]
  },
  {
   "cell_type": "code",
   "execution_count": 43,
   "id": "0738b73e",
   "metadata": {
    "scrolled": false
   },
   "outputs": [
    {
     "name": "stdout",
     "output_type": "stream",
     "text": [
      "22862 2896\n",
      "Test accuracy:  0.8875689106297073\n"
     ]
    },
    {
     "data": {
      "text/plain": [
       "0.8875689106297073"
      ]
     },
     "execution_count": 43,
     "metadata": {},
     "output_type": "execute_result"
    }
   ],
   "source": [
    "net = torch.load(r\"C:\\Users\\danie\\Documents\\Montanuni\\Masterarbeit\\5 Programmcodes\\packages\\ThermoClassifier\\ThermoClassifier\\phases\\models\\new\\PhaseClassifier.pth\")\n",
    "test(net, test_loader)"
   ]
  },
  {
   "cell_type": "code",
   "execution_count": 55,
   "id": "c94881d0",
   "metadata": {},
   "outputs": [],
   "source": [
    "#torch.save(best_net, 'PhaseClassifier_8778.pth')"
   ]
  },
  {
   "cell_type": "code",
   "execution_count": null,
   "id": "fc37e6ef",
   "metadata": {},
   "outputs": [],
   "source": []
  }
 ],
 "metadata": {
  "kernelspec": {
   "display_name": "Python 3 (ipykernel)",
   "language": "python",
   "name": "python3"
  },
  "language_info": {
   "codemirror_mode": {
    "name": "ipython",
    "version": 3
   },
   "file_extension": ".py",
   "mimetype": "text/x-python",
   "name": "python",
   "nbconvert_exporter": "python",
   "pygments_lexer": "ipython3",
   "version": "3.8.12"
  }
 },
 "nbformat": 4,
 "nbformat_minor": 5
}
