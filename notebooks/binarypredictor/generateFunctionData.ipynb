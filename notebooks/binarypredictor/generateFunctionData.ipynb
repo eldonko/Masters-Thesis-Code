{
 "cells": [
  {
   "cell_type": "code",
   "execution_count": 1,
   "id": "58cd4308",
   "metadata": {},
   "outputs": [],
   "source": [
    "from binarypredictor.datagen import DataGenerator, PolyGenerator"
   ]
  },
  {
   "cell_type": "code",
   "execution_count": null,
   "id": "5d814b45",
   "metadata": {
    "scrolled": false
   },
   "outputs": [
    {
     "name": "stderr",
     "output_type": "stream",
     "text": [
      "100%|██████████████████████████████████████████████████████████████████████████████| 1000/1000 [55:59<00:00,  3.36s/it]\n",
      "100%|██████████████████████████████████████████████████████████████████████████████| 1000/1000 [44:52<00:00,  2.69s/it]\n",
      "100%|██████████████████████████████████████████████████████████████████████████████| 1000/1000 [33:44<00:00,  2.02s/it]\n",
      "100%|██████████████████████████████████████████████████████████████████████████████| 1000/1000 [34:38<00:00,  2.08s/it]\n",
      "100%|██████████████████████████████████████████████████████████████████████████████| 1000/1000 [34:11<00:00,  2.05s/it]\n",
      "100%|██████████████████████████████████████████████████████████████████████████████| 1000/1000 [52:55<00:00,  3.18s/it]\n",
      "100%|██████████████████████████████████████████████████████████████████████████████| 1000/1000 [36:17<00:00,  2.18s/it]\n",
      "100%|██████████████████████████████████████████████████████████████████████████████| 1000/1000 [35:17<00:00,  2.12s/it]\n",
      " 12%|█████████▏                                                                     | 116/1000 [04:03<38:21,  2.60s/it]"
     ]
    }
   ],
   "source": [
    "dg = DataGenerator()\n",
    "for i in range(23, 33):\n",
    "    filename = r\"C:\\Users\\danie\\Documents\\Montanuni\\Masterarbeit\\5 Programmcodes\\packages\\binarypredictor\\binarypredictor\\data\\polyData\" + str(i) + \".json\"\n",
    "    dg.generate_data(1000, filename)"
   ]
  },
  {
   "cell_type": "code",
   "execution_count": 4,
   "id": "8c0fb093",
   "metadata": {},
   "outputs": [
    {
     "name": "stdout",
     "output_type": "stream",
     "text": [
      "C:\\Users\\danie\\Documents\\Montanuni\\Masterarbeit\\5 Programmcodes\\packages\\binarypredictor\\binarypredictor\\data\\polyData2.json\n"
     ]
    }
   ],
   "source": [
    "print(filename)"
   ]
  },
  {
   "cell_type": "code",
   "execution_count": null,
   "id": "af48ea3b",
   "metadata": {},
   "outputs": [],
   "source": []
  }
 ],
 "metadata": {
  "kernelspec": {
   "display_name": "Python 3 (ipykernel)",
   "language": "python",
   "name": "python3"
  },
  "language_info": {
   "codemirror_mode": {
    "name": "ipython",
    "version": 3
   },
   "file_extension": ".py",
   "mimetype": "text/x-python",
   "name": "python",
   "nbconvert_exporter": "python",
   "pygments_lexer": "ipython3",
   "version": "3.8.12"
  }
 },
 "nbformat": 4,
 "nbformat_minor": 5
}
