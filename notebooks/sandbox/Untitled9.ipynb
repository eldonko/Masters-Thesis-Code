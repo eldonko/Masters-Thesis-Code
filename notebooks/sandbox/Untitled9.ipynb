{
 "cells": [
  {
   "cell_type": "code",
   "execution_count": 1,
   "id": "638b4ab9",
   "metadata": {},
   "outputs": [
    {
     "data": {
      "text/plain": [
       " active_mask: array([0, 0])\n",
       "        cost: 2.524354896707238e-29\n",
       "         fun: array([7.10542736e-15, 0.00000000e+00])\n",
       "        grad: array([1.93525199e-13, 1.34611132e-13])\n",
       "         jac: array([[27.23625045, 18.94483256],\n",
       "       [66.10672633, -0.        ]])\n",
       "     message: '`gtol` termination condition is satisfied.'\n",
       "        nfev: 8\n",
       "        njev: 8\n",
       "  optimality: 2.4802477446153134e-13\n",
       "      status: 1\n",
       "     success: True\n",
       "           x: array([ 2.26968753, -0.15747203])"
      ]
     },
     "execution_count": 1,
     "metadata": {},
     "output_type": "execute_result"
    }
   ],
   "source": [
    "f1 = lambda x: 2*x**3 + 20\n",
    "df1 = lambda x: 6*x**2   # derivative of f1. \n",
    "f2 = lambda x: (x-3)**3 + x\n",
    "df2 = lambda x: 3*(x-3)**2 + 1\n",
    "\n",
    "def eqns(x):\n",
    "    x1, x2 = x[0], x[1]\n",
    "    eq1 = df1(x1) - df2(x2)\n",
    "    eq2 = df1(x1)*(x1 - x2) - (f1(x1) - f2(x2))\n",
    "    return [eq1, eq2]\n",
    "\n",
    "from scipy.optimize import least_squares\n",
    "lb = (2, -2)   # lower bounds on x1, x2\n",
    "ub = (5, 3)    # upper bounds\n",
    "least_squares(eqns, [3, 1], bounds=(lb, ub))  "
   ]
  },
  {
   "cell_type": "code",
   "execution_count": 2,
   "id": "b1bfcd07",
   "metadata": {},
   "outputs": [
    {
     "data": {
      "text/plain": [
       "[5, 77]"
      ]
     },
     "execution_count": 2,
     "metadata": {},
     "output_type": "execute_result"
    }
   ],
   "source": [
    "eqns([ 3, -1])"
   ]
  },
  {
   "cell_type": "code",
   "execution_count": 3,
   "id": "faa9ac96",
   "metadata": {},
   "outputs": [],
   "source": [
    "import numpy as np\n",
    "import matplotlib.pyplot as plt\n",
    "x = np.arange(-10, 10)"
   ]
  },
  {
   "cell_type": "code",
   "execution_count": 4,
   "id": "da6fefda",
   "metadata": {},
   "outputs": [
    {
     "data": {
      "text/plain": [
       "[<matplotlib.lines.Line2D at 0x165864ecac0>]"
      ]
     },
     "execution_count": 4,
     "metadata": {},
     "output_type": "execute_result"
    },
    {
     "data": {
      "image/png": "[encoded data removed]",
      "text/plain": [
       "<Figure size 432x288 with 1 Axes>"
      ]
     },
     "metadata": {
      "needs_background": "light"
     },
     "output_type": "display_data"
    }
   ],
   "source": [
    "plt.plot(x, f1(x))\n",
    "plt.plot(x, f2(x))"
   ]
  },
  {
   "cell_type": "code",
   "execution_count": null,
   "id": "5988754e",
   "metadata": {},
   "outputs": [],
   "source": []
  }
 ],
 "metadata": {
  "kernelspec": {
   "display_name": "Python 3 (ipykernel)",
   "language": "python",
   "name": "python3"
  },
  "language_info": {
   "codemirror_mode": {
    "name": "ipython",
    "version": 3
   },
   "file_extension": ".py",
   "mimetype": "text/x-python",
   "name": "python",
   "nbconvert_exporter": "python",
   "pygments_lexer": "ipython3",
   "version": "3.8.12"
  }
 },
 "nbformat": 4,
 "nbformat_minor": 5
}
