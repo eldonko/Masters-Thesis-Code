{
 "cells": [
  {
   "cell_type": "code",
   "execution_count": 1,
   "id": "638b4ab9",
   "metadata": {},
   "outputs": [
    {
     "name": "stdout",
     "output_type": "stream",
     "text": [
      " active_mask: array([0, 0])\n",
      "        cost: 1.1393480681821689e-23\n",
      "         fun: array([-4.66782168e-12, -9.99200722e-13])\n",
      "        grad: array([-8.60489621e-12, -2.04786313e-12])\n",
      "         jac: array([[  4.        ,   0.43871923],\n",
      "       [-10.0744428 ,   0.        ]])\n",
      "     message: '`gtol` termination condition is satisfied.'\n",
      "        nfev: 9\n",
      "        njev: 9\n",
      "  optimality: 4.076974302078894e-11\n",
      "      status: 1\n",
      "     success: True\n",
      "           x: array([0.26202966, 2.78064037])\n"
     ]
    }
   ],
   "source": [
    "f1 = lambda x: 2*x**2 \n",
    "df1 = lambda x: 4*x   # derivative of f1. \n",
    "f2 = lambda x: 1/3 * (x-3)**3 + x\n",
    "df2 = lambda x: (x-3)**2 + 1\n",
    "\n",
    "def eqns(x):\n",
    "    x1, x2 = x[0], x[1]\n",
    "    eq1 = df1(x1) - df2(x2)\n",
    "    eq2 = df1(x1)*(x1 - x2) - (f1(x1) - f2(x2))\n",
    "    return [eq1, eq2]\n",
    "\n",
    "from scipy.optimize import least_squares\n",
    "lb = (-3, -3)   # lower bounds on x1, x2\n",
    "ub = (5, 5)    # upper bounds\n",
    "res = least_squares(eqns, [0.1, .9], bounds=(lb, ub))  \n",
    "print(res)"
   ]
  },
  {
   "cell_type": "code",
   "execution_count": 9,
   "id": "b1bfcd07",
   "metadata": {},
   "outputs": [
    {
     "data": {
      "text/plain": [
       "[-5.296416433135246, -1.2463740396372174]"
      ]
     },
     "execution_count": 9,
     "metadata": {},
     "output_type": "execute_result"
    }
   ],
   "source": [
    "eqns(res.x)"
   ]
  },
  {
   "cell_type": "code",
   "execution_count": 2,
   "id": "faa9ac96",
   "metadata": {},
   "outputs": [],
   "source": [
    "import numpy as np\n",
    "import matplotlib.pyplot as plt"
   ]
  },
  {
   "cell_type": "code",
   "execution_count": 5,
   "id": "da6fefda",
   "metadata": {},
   "outputs": [
    {
     "data": {
      "text/plain": [
       "[<matplotlib.lines.Line2D at 0x1ea29ff8f10>]"
      ]
     },
     "execution_count": 5,
     "metadata": {},
     "output_type": "execute_result"
    },
    {
     "data": {
      "image/png": "[encoded data removed]",
      "text/plain": [
       "<Figure size 432x288 with 1 Axes>"
      ]
     },
     "metadata": {
      "needs_background": "light"
     },
     "output_type": "display_data"
    }
   ],
   "source": [
    "x = np.arange(-3, 3, step=1/100)\n",
    "plt.plot(x, f1(x))\n",
    "plt.plot(x, f2(x))\n",
    "plt.plot(res.x, [f1(res.x[0]), f2(res.x[1])], 'ro-')"
   ]
  },
  {
   "cell_type": "code",
   "execution_count": null,
   "id": "5988754e",
   "metadata": {},
   "outputs": [],
   "source": []
  }
 ],
 "metadata": {
  "kernelspec": {
   "display_name": "Python 3 (ipykernel)",
   "language": "python",
   "name": "python3"
  },
  "language_info": {
   "codemirror_mode": {
    "name": "ipython",
    "version": 3
   },
   "file_extension": ".py",
   "mimetype": "text/x-python",
   "name": "python",
   "nbconvert_exporter": "python",
   "pygments_lexer": "ipython3",
   "version": "3.8.12"
  }
 },
 "nbformat": 4,
 "nbformat_minor": 5
}
