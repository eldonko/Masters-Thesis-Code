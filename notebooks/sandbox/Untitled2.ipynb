{
 "cells": [
  {
   "cell_type": "code",
   "execution_count": 1,
   "id": "e227b9f8",
   "metadata": {},
   "outputs": [],
   "source": [
    "import numpy as np\n",
    "from torch.utils.data import DataLoader\n",
    "\n",
    "from thermonet.dataset import ThermoDatasetNew"
   ]
  },
  {
   "cell_type": "code",
   "execution_count": 4,
   "id": "281e671b",
   "metadata": {},
   "outputs": [],
   "source": [
    "tdn = ThermoDatasetNew(elements=None)\n",
    "loader = DataLoader(tdn)"
   ]
  },
  {
   "cell_type": "code",
   "execution_count": 5,
   "id": "eb7e2974",
   "metadata": {},
   "outputs": [
    {
     "name": "stdout",
     "output_type": "stream",
     "text": [
      "tensor([[ 2.9900e+02, -1.2722e+01,  4.2622e+01,  2.1588e-02,  2.5400e+01,\n",
      "          0.0000e+00,  0.0000e+00]], dtype=torch.float64)\n"
     ]
    }
   ],
   "source": [
    "for d in loader:\n",
    "    print(d)\n",
    "    break"
   ]
  },
  {
   "cell_type": "code",
   "execution_count": null,
   "id": "abc5251c",
   "metadata": {},
   "outputs": [],
   "source": []
  }
 ],
 "metadata": {
  "kernelspec": {
   "display_name": "Python 3 (ipykernel)",
   "language": "python",
   "name": "python3"
  },
  "language_info": {
   "codemirror_mode": {
    "name": "ipython",
    "version": 3
   },
   "file_extension": ".py",
   "mimetype": "text/x-python",
   "name": "python",
   "nbconvert_exporter": "python",
   "pygments_lexer": "ipython3",
   "version": "3.8.12"
  }
 },
 "nbformat": 4,
 "nbformat_minor": 5
}
