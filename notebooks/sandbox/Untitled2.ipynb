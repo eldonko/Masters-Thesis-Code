{
 "cells": [
  {
   "cell_type": "code",
   "execution_count": 1,
   "id": "0a446f4e",
   "metadata": {},
   "outputs": [],
   "source": [
    "import torch\n",
    "from torch.utils.data import DataLoader\n",
    "\n",
    "from thermoclassifier.dataset.test_data import TestData\n",
    "from thermoclassifier.elements.net import ElementClassifier"
   ]
  },
  {
   "cell_type": "code",
   "execution_count": 2,
   "id": "278d5c2e",
   "metadata": {},
   "outputs": [],
   "source": [
    "seq_len = 5"
   ]
  },
  {
   "cell_type": "code",
   "execution_count": 4,
   "id": "0867039a",
   "metadata": {},
   "outputs": [
    {
     "name": "stdout",
     "output_type": "stream",
     "text": [
      "[[[ 600.      26.948    0.   ]\n",
      "  [ 800.      28.263    0.   ]\n",
      "  [1100.      30.636    0.   ]\n",
      "  [1233.95    32.03     0.   ]\n",
      "  [1800.      33.472    0.   ]]\n",
      "\n",
      " [[ 400.      25.784    0.   ]\n",
      "  [ 900.      29.02     0.   ]\n",
      "  [1233.95    33.472    0.   ]\n",
      "  [1300.      33.472    0.   ]\n",
      "  [2000.      33.472    0.   ]]\n",
      "\n",
      " [[ 298.15    25.407    0.   ]\n",
      "  [ 500.      26.332    0.   ]\n",
      "  [ 700.      27.597    0.   ]\n",
      "  [1000.      29.857    0.   ]\n",
      "  [1500.      33.472    0.   ]]\n",
      "\n",
      " ...\n",
      "\n",
      " [[ 500.      26.564   77.   ]\n",
      "  [ 600.      27.281   77.   ]\n",
      "  [1300.      28.879   77.   ]\n",
      "  [1600.      30.621   77.   ]\n",
      "  [2000.      34.433   77.   ]]\n",
      "\n",
      " [[ 300.      25.218   77.   ]\n",
      "  [ 700.      28.053   77.   ]\n",
      "  [ 900.      30.003   77.   ]\n",
      "  [1000.      31.128   77.   ]\n",
      "  [1135.      32.724   77.   ]]\n",
      "\n",
      " [[1100.      32.306   77.   ]\n",
      "  [1200.      28.511   77.   ]\n",
      "  [1400.      29.353   77.   ]\n",
      "  [1700.      31.414   77.   ]\n",
      "  [1800.      32.314   77.   ]]]\n"
     ]
    }
   ],
   "source": [
    "td = TestData()\n",
    "data = td(r'C:\\Users\\danie\\Documents\\Montanuni\\Masterarbeit\\4 Daten\\Barin\\Excel', 'barin', seq_len, (200, 2000))\n",
    "\n",
    "test_loader = DataLoader(data, batch_size=1, shuffle=True)"
   ]
  },
  {
   "cell_type": "code",
   "execution_count": 5,
   "id": "1ce66f21",
   "metadata": {
    "scrolled": false
   },
   "outputs": [],
   "source": [
    "def test(net, test_loader): \n",
    "    correct = 0\n",
    "    incorrect = 0\n",
    "    \n",
    "    for d in test_loader:\n",
    "        inp = d[:, :, :-1]\n",
    "        inp[:, :, 0] /= 1000\n",
    "        predictions = net(inp.float())\n",
    "        targets = d[:, :, -1][:, 0].long()\n",
    "        \n",
    "        correct += (predictions.argmax(dim=-1) == targets).sum().item()\n",
    "        incorrect += len(targets) - (predictions.argmax(dim=-1) == targets).sum().item()\n",
    "\n",
    "    accuracy = correct/(correct + incorrect)\n",
    "    print('Test accuracy: ', accuracy)\n",
    "    \n",
    "    return accuracy"
   ]
  },
  {
   "cell_type": "code",
   "execution_count": 11,
   "id": "16ae3cf2",
   "metadata": {},
   "outputs": [],
   "source": [
    "t = True\n",
    "hidden_size_linear = 128\n",
    "hidden_layers = 2\n",
    "net = ElementClassifier(train=t, in_features=seq_len * 2, hidden_size_linear=hidden_size_linear, hidden_layers=hidden_layers)"
   ]
  },
  {
   "cell_type": "code",
   "execution_count": 15,
   "id": "0b00053d",
   "metadata": {},
   "outputs": [],
   "source": [
    "net = torch.load(r'C:\\Users\\danie\\Documents\\Montanuni\\Masterarbeit\\5 Programmcodes\\packages\\thermoclassifier\\thermoclassifier\\elements\\models\\ElementClassifier_9781_5.pth')"
   ]
  },
  {
   "cell_type": "code",
   "execution_count": 16,
   "id": "ab1c253b",
   "metadata": {},
   "outputs": [
    {
     "name": "stdout",
     "output_type": "stream",
     "text": [
      "Test accuracy:  0.656934306569343\n"
     ]
    },
    {
     "data": {
      "text/plain": [
       "0.656934306569343"
      ]
     },
     "execution_count": 16,
     "metadata": {},
     "output_type": "execute_result"
    }
   ],
   "source": [
    "test(net, test_loader)"
   ]
  },
  {
   "cell_type": "code",
   "execution_count": null,
   "id": "7758085d",
   "metadata": {},
   "outputs": [],
   "source": []
  }
 ],
 "metadata": {
  "kernelspec": {
   "display_name": "Python 3 (ipykernel)",
   "language": "python",
   "name": "python3"
  },
  "language_info": {
   "codemirror_mode": {
    "name": "ipython",
    "version": 3
   },
   "file_extension": ".py",
   "mimetype": "text/x-python",
   "name": "python",
   "nbconvert_exporter": "python",
   "pygments_lexer": "ipython3",
   "version": "3.8.12"
  }
 },
 "nbformat": 4,
 "nbformat_minor": 5
}
