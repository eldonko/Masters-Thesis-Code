{
 "cells": [
  {
   "cell_type": "code",
   "execution_count": 1,
   "id": "b0b44fc3",
   "metadata": {},
   "outputs": [],
   "source": [
    "import matplotlib.pyplot as plt\n",
    "import numpy as np\n",
    "import torch\n",
    "import torch.nn as nn\n",
    "from torch.autograd import grad\n",
    "\n",
    "from binarypredictor.datagen import PolyGenerator, DataGenerator\n",
    "from binarypredictor.poly import Polynomial, PolynomialSet, PolynomialBatch, PolynomialDataLoader\n",
    "from binarypredictor.net import DerivativeNet"
   ]
  },
  {
   "cell_type": "code",
   "execution_count": 2,
   "id": "c3daa6b1",
   "metadata": {},
   "outputs": [],
   "source": [
    "pg = PolyGenerator(4)\n",
    "pg.add_constraint(0.5, 1, 0)\n",
    "pg.add_constraint(0.1, 0, 1)\n",
    "pg.add_constraint(0.8, 0, 1)\n",
    "pg.add_constraint(0.5, 0, 2)\n",
    "pg.add_constraint(0.9, 0, 5)\n",
    "#pg.add_constraint(0.2, 0, 2.5)\n",
    "\n",
    "qg = PolyGenerator(4)\n",
    "qg.add_constraint(0.5, 1, 0)\n",
    "qg.add_constraint(0.1, 0, 2)\n",
    "qg.add_constraint(0.5, 0, -.2)\n",
    "qg.add_constraint(0.9, 1, -6)\n",
    "qg.add_constraint(0.9, 0, 8)\n",
    "#qg.add_constraint(0.2, 0, 1.5)\n",
    "\n",
    "rg = PolyGenerator(4)\n",
    "rg.add_constraint(0.5, 1, 0)\n",
    "rg.add_constraint(0.1, 0, 1)\n",
    "rg.add_constraint(0.8, 0, 1)\n",
    "rg.add_constraint(0.5, 0, 2)\n",
    "rg.add_constraint(0.9, 0, 5)\n",
    "#pg.add_constraint(0.2, 0, 2.5)\n",
    "\n",
    "sg = PolyGenerator(4)\n",
    "sg.add_constraint(0.5, 1, 0)\n",
    "sg.add_constraint(0.1, 0, 2)\n",
    "sg.add_constraint(0.5, 0, -.2)\n",
    "sg.add_constraint(0.9, 1, -6)\n",
    "sg.add_constraint(0.9, 0, 8)\n",
    "#qg.add_constraint(0.2, 0, 1.5)"
   ]
  },
  {
   "cell_type": "code",
   "execution_count": 3,
   "id": "a983e9b0",
   "metadata": {},
   "outputs": [],
   "source": [
    "poly_set = PolynomialSet() \n",
    "poly_set.append(Polynomial(pg.get_cfs())) \n",
    "poly_set.append(Polynomial(qg.get_cfs()))\n",
    "\n",
    "poly_set_ = PolynomialSet() \n",
    "poly_set_.append(Polynomial(rg.get_cfs())) \n",
    "poly_set_.append(Polynomial(sg.get_cfs()))"
   ]
  },
  {
   "cell_type": "code",
   "execution_count": 4,
   "id": "6622d750",
   "metadata": {},
   "outputs": [],
   "source": [
    "#pdl = PolynomialDataLoader([poly_set, poly_set_], 4)\n",
    "\n",
    "#for p in pdl:\n",
    "#    print(p.get_values(x))"
   ]
  },
  {
   "cell_type": "code",
   "execution_count": 5,
   "id": "c4582427",
   "metadata": {},
   "outputs": [
    {
     "name": "stderr",
     "output_type": "stream",
     "text": [
      "100%|███████████████████████████████████████████████████████████████████████████████| 200/200 [00:00<00:00, 348.26it/s]\n"
     ]
    },
    {
     "data": {
      "image/png": "[encoded data removed]",
      "text/plain": [
       "<Figure size 432x288 with 1 Axes>"
      ]
     },
     "metadata": {
      "needs_background": "light"
     },
     "output_type": "display_data"
    }
   ],
   "source": [
    "dg = DataGenerator()\n",
    "dg.generate_data(200)\n",
    "\n",
    "polys = dg.get_polys()\n",
    "x = torch.arange(0., 1.0, step=0.01)\n",
    "\n",
    "for p in polys:\n",
    "    p.plot(x)\n",
    "    break"
   ]
  },
  {
   "cell_type": "code",
   "execution_count": 6,
   "id": "f38a30c0",
   "metadata": {},
   "outputs": [],
   "source": [
    "pdl = PolynomialDataLoader(polys, 4)"
   ]
  },
  {
   "cell_type": "code",
   "execution_count": 7,
   "id": "e57689d6",
   "metadata": {},
   "outputs": [
    {
     "name": "stdout",
     "output_type": "stream",
     "text": [
      "torch.Size([4, 200, 1])\n",
      "torch.Size([4, 100, 2])\n"
     ]
    }
   ],
   "source": [
    "for i, p in enumerate(pdl):\n",
    "    print(p.get_values(x, o=0, stack='v').shape)\n",
    "    print(p.get_values(x, o=1).shape)\n",
    "    \n",
    "    break"
   ]
  },
  {
   "cell_type": "code",
   "execution_count": null,
   "id": "78f3440b",
   "metadata": {},
   "outputs": [],
   "source": []
  }
 ],
 "metadata": {
  "kernelspec": {
   "display_name": "Python 3 (ipykernel)",
   "language": "python",
   "name": "python3"
  },
  "language_info": {
   "codemirror_mode": {
    "name": "ipython",
    "version": 3
   },
   "file_extension": ".py",
   "mimetype": "text/x-python",
   "name": "python",
   "nbconvert_exporter": "python",
   "pygments_lexer": "ipython3",
   "version": "3.8.12"
  }
 },
 "nbformat": 4,
 "nbformat_minor": 5
}
