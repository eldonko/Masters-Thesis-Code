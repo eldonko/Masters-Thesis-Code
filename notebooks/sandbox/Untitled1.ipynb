{
 "cells": [
  {
   "cell_type": "code",
   "execution_count": 1,
   "id": "cb7ffee7",
   "metadata": {},
   "outputs": [],
   "source": [
    "from thermoclassifier.dataset.dataset_creator import DatasetCreator\n",
    "from torch.utils.data import DataLoader"
   ]
  },
  {
   "cell_type": "code",
   "execution_count": 2,
   "id": "e51a2507",
   "metadata": {
    "scrolled": false
   },
   "outputs": [
    {
     "name": "stdout",
     "output_type": "stream",
     "text": [
      "Ag 1\n",
      "Al 2\n",
      "Am 3\n",
      "As 4\n",
      "Au 5\n",
      "B 6\n",
      "Ba 7\n",
      "Be 8\n",
      "Bi 9\n",
      "C 10\n",
      "Ca 11\n",
      "Cd 12\n",
      "Ce 13\n",
      "Co 14\n",
      "Cr 15\n",
      "Cs 16\n",
      "Cu 17\n",
      "Dy 18\n",
      "Er 19\n",
      "Eu 20\n",
      "Fe 21\n",
      "Ga 22\n",
      "Gd 23\n",
      "Ge 24\n",
      "Hf 25\n",
      "Hg 26\n",
      "Ho 27\n",
      "In 28\n",
      "Ir 29\n",
      "K 30\n",
      "La 31\n",
      "Li 32\n",
      "Lu 33\n",
      "Mg 34\n",
      "Mn 35\n",
      "Mo 36\n",
      "N 37\n",
      "Na 38\n",
      "Nb 39\n",
      "Nd 40\n",
      "Ni 41\n",
      "Np 42\n",
      "O 43\n",
      "Os 44\n",
      "P 45\n",
      "Pa 46\n",
      "Pb 47\n",
      "Pd 48\n",
      "Pr 49\n",
      "Pt 50\n",
      "Pu 51\n",
      "Rb 52\n",
      "Re 53\n",
      "Rh 54\n",
      "Ru 55\n",
      "S 56\n",
      "Sb 57\n",
      "Sc 58\n",
      "Se 59\n",
      "Si 60\n",
      "Sm 61\n",
      "Sn 62\n",
      "Sr 63\n",
      "Ta 64\n",
      "Tb 65\n",
      "Tc 66\n",
      "Te 67\n",
      "Th 68\n",
      "Ti 69\n",
      "Tl 70\n",
      "Tm 71\n",
      "U 72\n",
      "V 73\n",
      "W 74\n",
      "Y 75\n",
      "Yb 76\n",
      "Zn 77\n",
      "Zr 78\n",
      "Dataset shape:  (20466, 5, 4)\n"
     ]
    }
   ],
   "source": [
    "dc = DatasetCreator(user='phase', measurement='C', elements=None)\n",
    "train_dataset, test_dataset, val_dataset = dc.get_datasets()\n",
    "\n",
    "# Create the DataLoaders\n",
    "train_loader = DataLoader(train_dataset, batch_size=1, shuffle=True)"
   ]
  },
  {
   "cell_type": "code",
   "execution_count": 3,
   "id": "3ecbd8ea",
   "metadata": {},
   "outputs": [
    {
     "name": "stdout",
     "output_type": "stream",
     "text": [
      "tensor([[[ 451.0000,   28.2385,   21.0000,    3.0000],\n",
      "         [ 483.0000,   28.9602,   21.0000,    3.0000],\n",
      "         [ 730.0000,   36.2099,   21.0000,    3.0000],\n",
      "         [1424.0000,   36.0064,   21.0000,    0.0000],\n",
      "         [1534.0000,   36.9586,   21.0000,    0.0000]]], dtype=torch.float64)\n"
     ]
    }
   ],
   "source": [
    "for d in train_loader:\n",
    "    print(d)\n",
    "    break"
   ]
  },
  {
   "cell_type": "code",
   "execution_count": null,
   "id": "b725c07a",
   "metadata": {},
   "outputs": [],
   "source": []
  }
 ],
 "metadata": {
  "kernelspec": {
   "display_name": "Python 3 (ipykernel)",
   "language": "python",
   "name": "python3"
  },
  "language_info": {
   "codemirror_mode": {
    "name": "ipython",
    "version": 3
   },
   "file_extension": ".py",
   "mimetype": "text/x-python",
   "name": "python",
   "nbconvert_exporter": "python",
   "pygments_lexer": "ipython3",
   "version": "3.8.12"
  }
 },
 "nbformat": 4,
 "nbformat_minor": 5
}
