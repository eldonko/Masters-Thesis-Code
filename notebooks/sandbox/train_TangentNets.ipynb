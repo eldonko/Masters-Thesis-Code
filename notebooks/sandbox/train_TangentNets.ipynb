{
 "cells": [
  {
   "cell_type": "code",
   "execution_count": 1,
   "id": "3cdb6b11",
   "metadata": {},
   "outputs": [],
   "source": [
    "import matplotlib.pyplot as plt\n",
    "import numpy as np\n",
    "import pandas as pd\n",
    "import torch\n",
    "import torch.nn as nn\n",
    "from torch.optim import Adam\n",
    "from torch.utils.data import DataLoader\n",
    "\n",
    "from binarypredictor import split_functions\n",
    "from binarypredictor.dataset import FunctionPairDataset\n",
    "from binarypredictor.net import DerivativeNet, TangentNet"
   ]
  },
  {
   "cell_type": "code",
   "execution_count": 2,
   "id": "e7fd366c",
   "metadata": {},
   "outputs": [],
   "source": [
    "@torch.enable_grad()\n",
    "def epoch(net, train_loader, loss_func, optimizer, f_func, g_func):\n",
    "    \"\"\"\n",
    "    Training epoch of the network\n",
    "    \n",
    "    Parameters\n",
    "    ----------\n",
    "    net : TangentNet \n",
    "        neural network to train\n",
    "    train_loader : DataLoader\n",
    "        training data\n",
    "    loss_func : torch.nn loss function\n",
    "        loss function\n",
    "    optimizer : torch.optim optimizer\n",
    "        optimizer\n",
    "    f_func : callable\n",
    "        function which is evaluated with the network outputs and compared to g_func\n",
    "    g_func : callable\n",
    "        function which is evaluated at x and compared to f_func\n",
    "        \n",
    "    Returns\n",
    "    -------\n",
    "    float :\n",
    "        mean epoch loss\n",
    "    \"\"\"\n",
    "    \n",
    "    epoch_losses = np.zeros([len(train_loader), ])\n",
    "    \n",
    "    for i, d in enumerate(train_loader):\n",
    "        inp = torch.hstack((d[0][:, :, 0], d[0][:, :, 1]))  # network input\n",
    "        out = net(inp)  # network output\n",
    "        out = torch.clamp(out, min=1e-10, max=1.-1e-4)  # clamp outputs for numerical stability\n",
    "        \n",
    "        # Evaluate the functions for the loss (common tangent equations)\n",
    "        f = f_func(out, d[1][0])/d[2].unsqueeze(-1)\n",
    "        g = g_func(x, d[1][1])/d[2].unsqueeze(-1)\n",
    "        \n",
    "        # Calculate the loss\n",
    "        loss = loss_func(f, g)\n",
    "        epoch_losses[i] = loss\n",
    "        \n",
    "        # Backward step\n",
    "        optimizer.zero_grad()\n",
    "        loss.backward()\n",
    "        optimizer.step()\n",
    "    \n",
    "    return epoch_losses.mean()"
   ]
  },
  {
   "cell_type": "code",
   "execution_count": 3,
   "id": "32a6a472",
   "metadata": {},
   "outputs": [],
   "source": [
    "@torch.enable_grad()\n",
    "def train(net, train_loader, test_loader, f_func, g_func, nr_epochs, lr, print_every=10, net_filename='net_1.pth'):\n",
    "    \"\"\"\n",
    "    Training of the network\n",
    "    \n",
    "    Parameters\n",
    "    ----------\n",
    "    net : TangentNet \n",
    "        neural network to train\n",
    "    train_loader : DataLoader\n",
    "        training data\n",
    "    test_loader : DataLoader\n",
    "        test data\n",
    "    f_func : callable\n",
    "        function which is evaluated with the network outputs and compared to g_func\n",
    "    g_func : callable\n",
    "        function which is evaluated at x and compared to f_func\n",
    "    nr_epochs : int\n",
    "        number of epochs to train\n",
    "    lr : float\n",
    "        learning rate\n",
    "    print_every : int\n",
    "        multiple of epochs where losses are printed\n",
    "    net_filename : str\n",
    "        filename to save to net at\n",
    "        \n",
    "    Returns \n",
    "    -------\n",
    "    DerivativeNet :\n",
    "        net with best training loss\n",
    "    \"\"\"\n",
    "    \n",
    "    loss_func = nn.L1Loss()\n",
    "    optimizer = Adam(net.parameters(), lr=lr)\n",
    "    \n",
    "    losses = np.zeros([nr_epochs, ])\n",
    "\n",
    "    best_loss = epoch(net, train_loader, loss_func, optimizer, f_func, g_func)\n",
    "    best_net = net\n",
    "    \n",
    "    for i in range(nr_epochs):\n",
    "        losses[i] = epoch(net, train_loader, loss_func, optimizer, f_func, g_func)\n",
    "        if losses[i] < best_loss:\n",
    "            best_net = net\n",
    "            best_loss = losses[i]\n",
    "\n",
    "        if i % print_every == 0:\n",
    "            print('Train loss : ', losses[i])\n",
    "            print('Test loss: ', test(best_net, test_loader, f_func, g_func, loss_func))\n",
    "            \n",
    "            torch.save(best_net, net_filename)\n",
    "    \n",
    "    return best_net\n",
    "\n",
    "@torch.no_grad()\n",
    "def test(net, test_loader, f_func, g_func, metric): \n",
    "    \"\"\"\n",
    "    Training of the network\n",
    "    \n",
    "    Parameters\n",
    "    ----------\n",
    "    net : TangentNet \n",
    "        neural network to test\n",
    "    test_loader : DataLoader\n",
    "        test data\n",
    "    f_func : callable\n",
    "        function which is evaluated with the network outputs and compared to g_func\n",
    "    g_func : callable\n",
    "        function which is evaluated at x and compared to f_func\n",
    "    metric : callable\n",
    "        metric to evaluate the network with\n",
    "        \n",
    "    Returns \n",
    "    -------\n",
    "    float :\n",
    "        loss on the test set\n",
    "    \"\"\"\n",
    "        \n",
    "    test_losses = np.zeros([len(train_loader), ])\n",
    "\n",
    "    for i, d in enumerate(test_loader):\n",
    "        inp = torch.hstack((d[0][:, :, 0], d[0][:, :, 1]))  # network input\n",
    "        out = net(inp)  # network output\n",
    "        \n",
    "        # Evaluate the functions for the loss (common tangent equations)\n",
    "        f = f_func(out, d[1][0])/d[2].unsqueeze(-1)\n",
    "        g = g_func(x, d[1][1])/d[2].unsqueeze(-1)\n",
    "        \n",
    "        # Calculate the loss\n",
    "        loss = metric(f, g)\n",
    "        test_losses[i] = loss\n",
    "    \n",
    "    return test_losses.mean()"
   ]
  },
  {
   "cell_type": "code",
   "execution_count": 261,
   "id": "24a859ac",
   "metadata": {},
   "outputs": [],
   "source": [
    "@torch.no_grad()\n",
    "def predict(net_1, net_2, f, g, df, dg, scale=1., plot=False, acc=4, threshold=0.3):\n",
    "    \"\"\"\n",
    "    Predicts the equilibrium compositions of a binary system\n",
    "    \n",
    "    Parameters\n",
    "    ----------\n",
    "    net_1 : TangentNet\n",
    "        network to predict equation 1\n",
    "    net_2 : TangentNet \n",
    "        network to predict equation 2\n",
    "    f : callable\n",
    "        function for f\n",
    "    g : callable\n",
    "        function for g \n",
    "    df : torch.tensor\n",
    "        first derivative values of f at x\n",
    "    dg : torch.tensor\n",
    "        first derivative values of g at x\n",
    "    scale : float\n",
    "        scaling factor so that the maximum function value is 1\n",
    "    plot : bool\n",
    "        whether to plot the results\n",
    "    acc : int\n",
    "        accuracy of output values (number of decimals)\n",
    "    threshold : float\n",
    "        threshold for the deviation from the tangent's slope and the functions' slopes\n",
    "    \"\"\"\n",
    "    net_1.eval(), net_2.eval()\n",
    "    \n",
    "    # Network input\n",
    "    f_, g_ = f(x)/scale, g(x)/scale\n",
    "    inp = torch.hstack((f_, g_))\n",
    "    \n",
    "    # Network outputs\n",
    "    out_1 = net_1(inp)\n",
    "    out_2 = net_2(inp)\n",
    "                \n",
    "    # Get the equilibrium compositions by calculating the points of intersections (by approximating as the intersection\n",
    "    # of the lines connecting the values of out_1 and out_2 at sign changes)\n",
    "    out_diff = out_1 - out_2\n",
    "    #out_diff_sign = torch.sign(out_diff)\n",
    "    idx = torch.where(abs(out_diff) < 0.1)[0][:-1]\n",
    "    #idx = torch.where(torch.diff(out_diff_sign) != 0)[0]\n",
    "    \n",
    "    if len(idx) == 0:\n",
    "        return torch.tensor([]), torch.tensor([])\n",
    "    \n",
    "    def get_x_f(idx):\n",
    "        # Line intersections\n",
    "        delta_x = x[idx + 1] - x[idx]\n",
    "        d_1, d_2 = out_1[idx], out_2[idx]\n",
    "        k_1, k_2 = (out_1[idx + 1] - out_1[idx])/delta_x, (out_2[idx + 1] - out_2[idx])/delta_x\n",
    "        \n",
    "        x_f = (k_2 * d_1 - k_1 * d_2)/(k_2 - k_1)\n",
    "        x_f = torch.clamp(x_f, min=1e-10, max=1.-1e-4) \n",
    "        \n",
    "        x_g = x[idx] + (x_f - d_1)/k_1\n",
    "    \n",
    "        return x_f, x_g\n",
    "    \n",
    "    x_f, x_g = (out_1[idx] + out_2[idx])/2, x[idx]\n",
    "    #x_f, x_g = get_x_f(idx)#, x[idx]\n",
    "    #x_f, x_g = get_x_f(idx)[0], get_x_f(idx)[1]\n",
    "    #x_cond = (x_f > 0) & (x_f < 1) & (x_g > 0) & (x_g < 1)\n",
    "    #x_f, x_g = x_f[x_cond], x_g[x_cond]\n",
    "    \n",
    "    # Get the function values at the equilibria\n",
    "    y_f, y_g = f(x_f)/scale, g(x_g)/scale\n",
    "            \n",
    "    # Get the slopes of the lines between the equilibria points\n",
    "    slopes = (y_g - y_f)/(x_g - x_f)\n",
    "        \n",
    "    # Remove lines that are not tangents\n",
    "    slope_dist = torch.sqrt((slopes[idx] - dg(x_g)/scale) ** 2 + (slopes[idx] - df(x_f)/scale) ** 2)\n",
    "    slope_cond = (abs(slopes - dg(x_g)/scale) <= threshold) & (abs(slopes - df(x_f)/scale) <= threshold)\n",
    "    idx = torch.where(slope_cond)[0]\n",
    "    \n",
    "    print(len(idx))\n",
    "    \n",
    "    # Recalculate x and y values for all points that are tangent points\n",
    "    x_f, x_g = x_f[idx], x_g[idx]    \n",
    "    y_f, y_g = f(x_f)/scale, g(x_g)/scale\n",
    "    slope_dist = torch.sqrt((slopes[idx] - dg(x_g)/scale) ** 2 + (slopes[idx] - df(x_f)/scale) ** 2)\n",
    "        \n",
    "    # Choose the best tangent if there are multiple results for the same tangent\n",
    "    if len(x_f) > 0:\n",
    "        x_eqs = torch.tensor(list(zip(x_f, x_g)))\n",
    "        x_eqs_dist = torch.cdist(x_eqs, x_eqs)\n",
    "        s_idx = torch.where(abs(x_eqs_dist) < 0.05)\n",
    "        \n",
    "        cs = []\n",
    "        \n",
    "        if len(x_eqs) == 1:\n",
    "            cs.append([0])\n",
    "        else:\n",
    "            for i, j in zip(s_idx[0], s_idx[1]):\n",
    "                if i != j:\n",
    "                    in_c = False\n",
    "                    for c in cs:\n",
    "                        if i in c or j in c: \n",
    "                            in_c = True\n",
    "                            c.append(i.item()) if not i in c else None\n",
    "                            c.append(j.item()) if not j in c else None\n",
    "                            break\n",
    "\n",
    "                    if not in_c: \n",
    "                        cs.append([i.item(), j.item()])\n",
    "        \n",
    "        cis = []\n",
    "        for c in cs: \n",
    "            best_i, min_slope = c[0], slope_dist[c[0]]\n",
    "            for i in c:\n",
    "                if slope_dist[i] < min_slope: \n",
    "                    min_slope = slope_dist[i]\n",
    "                    best_i = i\n",
    "            cis.append(best_i)\n",
    "            \n",
    "        x_f, x_g = x_f[cis], x_g[cis]\n",
    "        y_f, y_g = f(x_f)/scale, g(x_g)/scale\n",
    "    \n",
    "    # Plot the outputs\n",
    "    if plot:\n",
    "        plt.scatter(x, out_1.detach(), s=0.2)\n",
    "        plt.scatter(x, out_2.detach(), s=0.2)\n",
    "        plt.title('Network outputs')\n",
    "        plt.xlabel('x\\'\\'')\n",
    "        plt.ylabel('x\\'')\n",
    "        plt.grid()\n",
    "        plt.show()\n",
    "\n",
    "        plt.scatter(x, out_diff.detach(), s=0.2)\n",
    "        plt.title('Difference between network outputs')\n",
    "        plt.xlabel('x\\'\\'')\n",
    "        plt.ylabel('Difference')\n",
    "        plt.grid()\n",
    "        plt.show()\n",
    "        \n",
    "        print('x\\'_eq: ', np.round(x_f.tolist(), decimals=acc))\n",
    "        print('x\\'\\'_eq: ', np.round(x_g.tolist(), decimals=acc))\n",
    "        \n",
    "        for x_f_eq, x_g_eq, y_f_eq, y_g_eq in zip(x_f, x_g, y_f, y_g):\n",
    "            plt.plot([x_f_eq, x_g_eq], [y_f_eq, y_g_eq], 'ro-')\n",
    "            plt.plot(x, f_)\n",
    "            plt.plot(x, g_)\n",
    "            plt.show()\n",
    "            \n",
    "    return x_f, x_g"
   ]
  },
  {
   "cell_type": "code",
   "execution_count": 5,
   "id": "8a295897",
   "metadata": {},
   "outputs": [],
   "source": [
    "out_features = 500\n",
    "in_features = out_features"
   ]
  },
  {
   "cell_type": "code",
   "execution_count": 6,
   "id": "e8f7fa32",
   "metadata": {},
   "outputs": [],
   "source": [
    "#fpd = FunctionPairDataset(n_functions=100000, filename=\"train_.csv\", overwrite=True, step=1/in_features)\n",
    "#fpd.create_functions()\n",
    "\n",
    "fpd_test = FunctionPairDataset(n_functions=1000, filename=\"test_.csv\", overwrite=True, step=1/in_features)\n",
    "fpd_test.create_functions()"
   ]
  },
  {
   "cell_type": "code",
   "execution_count": 8,
   "id": "ffe6fc46",
   "metadata": {},
   "outputs": [],
   "source": [
    "#train_loader = DataLoader(fpd, batch_size=1028)\n",
    "test_loader = DataLoader(fpd_test, batch_size=1028)\n",
    "net_1 = TangentNet(train=True, in_features=in_features * 2, out_features=out_features, hidden_size_linear=500, hidden_layers=2)\n",
    "net_2 = TangentNet(train=True, in_features=in_features * 2, out_features=out_features, hidden_size_linear=500, hidden_layers=2)"
   ]
  },
  {
   "cell_type": "code",
   "execution_count": 22,
   "id": "10e40015",
   "metadata": {},
   "outputs": [],
   "source": [
    "x = torch.arange(1e-10, 1., step=fpd_test.step)"
   ]
  },
  {
   "cell_type": "code",
   "execution_count": null,
   "id": "19f7b73d",
   "metadata": {},
   "outputs": [],
   "source": [
    "# Hyperparameters\n",
    "nr_epochs = 250\n",
    "lr = 1e-3\n",
    "\n",
    "# Train for equation 1\n",
    "func_1 = lambda x_, d: fpd.first_derivative(**d, x=x_)\n",
    "best_net_1 = train(net_1, train_loader, test_loader, func_1, func_1, nr_epochs, lr, print_every=10)\n",
    "\n",
    "print('Trained network 1 \\n')\n",
    "\n",
    "# Train for equation 2\n",
    "func_2 = lambda x_, d: fpd.base_function(**d, x=x_) - x_ * fpd.first_derivative(**d, x=x_)\n",
    "best_net_2 = train(net_2, train_loader, test_loader, func_2, func_2, nr_epochs, lr, print_every=10, net_filename='net_2.pth')\n",
    "\n",
    "print('Trained network 2')"
   ]
  },
  {
   "cell_type": "code",
   "execution_count": 27,
   "id": "ea3c86b5",
   "metadata": {},
   "outputs": [],
   "source": [
    "net_1 = torch.load('net_1.pth')\n",
    "net_2 = torch.load('net_2.pth')\n",
    "\n",
    "derivative_net = torch.load('FirstDerivativeNet_500.pth')"
   ]
  },
  {
   "cell_type": "code",
   "execution_count": 255,
   "id": "7aabe412",
   "metadata": {
    "scrolled": false
   },
   "outputs": [
    {
     "data": {
      "image/png": "[encoded data removed]",
      "text/plain": [
       "<Figure size 432x288 with 1 Axes>"
      ]
     },
     "metadata": {
      "needs_background": "light"
     },
     "output_type": "display_data"
    },
    {
     "name": "stdout",
     "output_type": "stream",
     "text": [
      "22\n"
     ]
    },
    {
     "data": {
      "image/png": "[encoded data removed]",
      "text/plain": [
       "<Figure size 432x288 with 1 Axes>"
      ]
     },
     "metadata": {
      "needs_background": "light"
     },
     "output_type": "display_data"
    },
    {
     "data": {
      "image/png": "[encoded data removed]",
      "text/plain": [
       "<Figure size 432x288 with 1 Axes>"
      ]
     },
     "metadata": {
      "needs_background": "light"
     },
     "output_type": "display_data"
    },
    {
     "name": "stdout",
     "output_type": "stream",
     "text": [
      "x'_eq:  [0.0303]\n",
      "x''_eq:  [0.408]\n"
     ]
    },
    {
     "data": {
      "image/png": "[encoded data removed]",
      "text/plain": [
       "<Figure size 432x288 with 1 Axes>"
      ]
     },
     "metadata": {
      "needs_background": "light"
     },
     "output_type": "display_data"
    },
    {
     "data": {
      "text/plain": [
       "(tensor([0.0303]), tensor([0.4080]))"
      ]
     },
     "execution_count": 255,
     "metadata": {},
     "output_type": "execute_result"
    }
   ],
   "source": [
    "#d = fpd[32]\n",
    "data = fpd_test\n",
    "\n",
    "d = data[17]\n",
    "scale = d[2].unsqueeze(-1)\n",
    "\n",
    "f = data.base_function(**d[1][0])/scale\n",
    "g = data.base_function(**d[1][1])/scale\n",
    "plt.plot(x, f)\n",
    "plt.plot(x, g)\n",
    "plt.grid()\n",
    "plt.show()\n",
    "\n",
    "f = lambda x_: data.base_function(**d[1][0], x=x_)/scale\n",
    "g = lambda x_: data.base_function(**d[1][1], x=x_)/scale\n",
    "df = lambda x_: data.first_derivative(**d[1][0], x=x_)/scale\n",
    "dg = lambda x_: data.first_derivative(**d[1][1], x=x_)/scale\n",
    "\n",
    "predict(net_1, net_2, f, g, df, dg, plot=True)"
   ]
  },
  {
   "cell_type": "code",
   "execution_count": 16,
   "id": "f79dc32e",
   "metadata": {},
   "outputs": [],
   "source": [
    "import time\n",
    "import timeit"
   ]
  },
  {
   "cell_type": "code",
   "execution_count": 262,
   "id": "20780a44",
   "metadata": {
    "scrolled": false
   },
   "outputs": [
    {
     "name": "stdout",
     "output_type": "stream",
     "text": [
      "0\n",
      "4\n",
      "4\n",
      "6\n",
      "7\n",
      "8\n",
      "9\n",
      "10\n",
      "12\n",
      "12\n",
      "13\n",
      "14\n",
      "15\n",
      "15\n",
      "15\n",
      "16\n",
      "16\n",
      "17\n",
      "17\n",
      "17\n",
      "16\n",
      "17\n",
      "18\n",
      "19\n",
      "20\n",
      "21\n",
      "20\n",
      "22\n",
      "22\n",
      "24\n",
      "24\n",
      "26\n",
      "27\n",
      "27\n",
      "28\n",
      "29\n",
      "31\n",
      "32\n",
      "32\n",
      "34\n",
      "35\n",
      "35\n",
      "36\n",
      "37\n",
      "38\n",
      "39\n",
      "40\n",
      "41\n",
      "42\n",
      "43\n",
      "43\n",
      "43\n",
      "46\n",
      "45\n",
      "46\n",
      "46\n",
      "46\n",
      "48\n",
      "47\n",
      "47\n"
     ]
    },
    {
     "ename": "KeyboardInterrupt",
     "evalue": "",
     "output_type": "error",
     "traceback": [
      "\u001b[1;31m---------------------------------------------------------------------------\u001b[0m",
      "\u001b[1;31mKeyboardInterrupt\u001b[0m                         Traceback (most recent call last)",
      "\u001b[1;32m<ipython-input-262-a1893bdbe14e>\u001b[0m in \u001b[0;36m<module>\u001b[1;34m\u001b[0m\n\u001b[0;32m     21\u001b[0m     \u001b[0mscale\u001b[0m \u001b[1;33m=\u001b[0m \u001b[0mmax\u001b[0m\u001b[1;33m(\u001b[0m\u001b[0mtorch\u001b[0m\u001b[1;33m.\u001b[0m\u001b[0mmax\u001b[0m\u001b[1;33m(\u001b[0m\u001b[0mabs\u001b[0m\u001b[1;33m(\u001b[0m\u001b[0mf\u001b[0m\u001b[1;33m(\u001b[0m\u001b[0mx\u001b[0m\u001b[1;33m)\u001b[0m\u001b[1;33m)\u001b[0m\u001b[1;33m)\u001b[0m\u001b[1;33m,\u001b[0m \u001b[0mtorch\u001b[0m\u001b[1;33m.\u001b[0m\u001b[0mmax\u001b[0m\u001b[1;33m(\u001b[0m\u001b[0mabs\u001b[0m\u001b[1;33m(\u001b[0m\u001b[0mg\u001b[0m\u001b[1;33m(\u001b[0m\u001b[0mx\u001b[0m\u001b[1;33m)\u001b[0m\u001b[1;33m)\u001b[0m\u001b[1;33m)\u001b[0m\u001b[1;33m)\u001b[0m\u001b[1;33m\u001b[0m\u001b[1;33m\u001b[0m\u001b[0m\n\u001b[0;32m     22\u001b[0m \u001b[1;33m\u001b[0m\u001b[0m\n\u001b[1;32m---> 23\u001b[1;33m     \u001b[0mx_f\u001b[0m\u001b[1;33m,\u001b[0m \u001b[0mx_g\u001b[0m \u001b[1;33m=\u001b[0m \u001b[0mpredict\u001b[0m\u001b[1;33m(\u001b[0m\u001b[0mnet_1\u001b[0m\u001b[1;33m,\u001b[0m \u001b[0mnet_2\u001b[0m\u001b[1;33m,\u001b[0m \u001b[0mf\u001b[0m\u001b[1;33m,\u001b[0m \u001b[0mg\u001b[0m\u001b[1;33m,\u001b[0m \u001b[0mdf\u001b[0m\u001b[1;33m,\u001b[0m \u001b[0mdg\u001b[0m\u001b[1;33m,\u001b[0m \u001b[0mscale\u001b[0m\u001b[1;33m=\u001b[0m\u001b[0mscale\u001b[0m\u001b[1;33m,\u001b[0m \u001b[0mplot\u001b[0m\u001b[1;33m=\u001b[0m\u001b[1;32mFalse\u001b[0m\u001b[1;33m,\u001b[0m \u001b[0mthreshold\u001b[0m\u001b[1;33m=\u001b[0m\u001b[1;36m0.2\u001b[0m\u001b[1;33m)\u001b[0m\u001b[1;33m\u001b[0m\u001b[1;33m\u001b[0m\u001b[0m\n\u001b[0m\u001b[0;32m     24\u001b[0m \u001b[1;33m\u001b[0m\u001b[0m\n\u001b[0;32m     25\u001b[0m     \u001b[0mx_fs\u001b[0m\u001b[1;33m.\u001b[0m\u001b[0mappend\u001b[0m\u001b[1;33m(\u001b[0m\u001b[0mx_f\u001b[0m\u001b[1;33m)\u001b[0m \u001b[1;32mif\u001b[0m \u001b[0mlen\u001b[0m\u001b[1;33m(\u001b[0m\u001b[0mx_f\u001b[0m\u001b[1;33m)\u001b[0m \u001b[1;33m>\u001b[0m \u001b[1;36m0\u001b[0m \u001b[1;32melse\u001b[0m \u001b[1;32mNone\u001b[0m\u001b[1;33m\u001b[0m\u001b[1;33m\u001b[0m\u001b[0m\n",
      "\u001b[1;32m~\\anaconda3\\envs\\5_Programmcodes\\lib\\site-packages\\torch\\autograd\\grad_mode.py\u001b[0m in \u001b[0;36mdecorate_context\u001b[1;34m(*args, **kwargs)\u001b[0m\n\u001b[0;32m     26\u001b[0m         \u001b[1;32mdef\u001b[0m \u001b[0mdecorate_context\u001b[0m\u001b[1;33m(\u001b[0m\u001b[1;33m*\u001b[0m\u001b[0margs\u001b[0m\u001b[1;33m,\u001b[0m \u001b[1;33m**\u001b[0m\u001b[0mkwargs\u001b[0m\u001b[1;33m)\u001b[0m\u001b[1;33m:\u001b[0m\u001b[1;33m\u001b[0m\u001b[1;33m\u001b[0m\u001b[0m\n\u001b[0;32m     27\u001b[0m             \u001b[1;32mwith\u001b[0m \u001b[0mself\u001b[0m\u001b[1;33m.\u001b[0m\u001b[0m__class__\u001b[0m\u001b[1;33m(\u001b[0m\u001b[1;33m)\u001b[0m\u001b[1;33m:\u001b[0m\u001b[1;33m\u001b[0m\u001b[1;33m\u001b[0m\u001b[0m\n\u001b[1;32m---> 28\u001b[1;33m                 \u001b[1;32mreturn\u001b[0m \u001b[0mfunc\u001b[0m\u001b[1;33m(\u001b[0m\u001b[1;33m*\u001b[0m\u001b[0margs\u001b[0m\u001b[1;33m,\u001b[0m \u001b[1;33m**\u001b[0m\u001b[0mkwargs\u001b[0m\u001b[1;33m)\u001b[0m\u001b[1;33m\u001b[0m\u001b[1;33m\u001b[0m\u001b[0m\n\u001b[0m\u001b[0;32m     29\u001b[0m         \u001b[1;32mreturn\u001b[0m \u001b[0mcast\u001b[0m\u001b[1;33m(\u001b[0m\u001b[0mF\u001b[0m\u001b[1;33m,\u001b[0m \u001b[0mdecorate_context\u001b[0m\u001b[1;33m)\u001b[0m\u001b[1;33m\u001b[0m\u001b[1;33m\u001b[0m\u001b[0m\n\u001b[0;32m     30\u001b[0m \u001b[1;33m\u001b[0m\u001b[0m\n",
      "\u001b[1;32m<ipython-input-261-d7c7f5b10622>\u001b[0m in \u001b[0;36mpredict\u001b[1;34m(net_1, net_2, f, g, df, dg, scale, plot, acc, threshold)\u001b[0m\n\u001b[0;32m    102\u001b[0m                             \u001b[0min_c\u001b[0m \u001b[1;33m=\u001b[0m \u001b[1;32mTrue\u001b[0m\u001b[1;33m\u001b[0m\u001b[1;33m\u001b[0m\u001b[0m\n\u001b[0;32m    103\u001b[0m                             \u001b[0mc\u001b[0m\u001b[1;33m.\u001b[0m\u001b[0mappend\u001b[0m\u001b[1;33m(\u001b[0m\u001b[0mi\u001b[0m\u001b[1;33m.\u001b[0m\u001b[0mitem\u001b[0m\u001b[1;33m(\u001b[0m\u001b[1;33m)\u001b[0m\u001b[1;33m)\u001b[0m \u001b[1;32mif\u001b[0m \u001b[1;32mnot\u001b[0m \u001b[0mi\u001b[0m \u001b[1;32min\u001b[0m \u001b[0mc\u001b[0m \u001b[1;32melse\u001b[0m \u001b[1;32mNone\u001b[0m\u001b[1;33m\u001b[0m\u001b[1;33m\u001b[0m\u001b[0m\n\u001b[1;32m--> 104\u001b[1;33m                             \u001b[0mc\u001b[0m\u001b[1;33m.\u001b[0m\u001b[0mappend\u001b[0m\u001b[1;33m(\u001b[0m\u001b[0mj\u001b[0m\u001b[1;33m.\u001b[0m\u001b[0mitem\u001b[0m\u001b[1;33m(\u001b[0m\u001b[1;33m)\u001b[0m\u001b[1;33m)\u001b[0m \u001b[1;32mif\u001b[0m \u001b[1;32mnot\u001b[0m \u001b[0mj\u001b[0m \u001b[1;32min\u001b[0m \u001b[0mc\u001b[0m \u001b[1;32melse\u001b[0m \u001b[1;32mNone\u001b[0m\u001b[1;33m\u001b[0m\u001b[1;33m\u001b[0m\u001b[0m\n\u001b[0m\u001b[0;32m    105\u001b[0m                             \u001b[1;32mbreak\u001b[0m\u001b[1;33m\u001b[0m\u001b[1;33m\u001b[0m\u001b[0m\n\u001b[0;32m    106\u001b[0m \u001b[1;33m\u001b[0m\u001b[0m\n",
      "\u001b[1;31mKeyboardInterrupt\u001b[0m: "
     ]
    }
   ],
   "source": [
    "start_time = time.time()\n",
    "\n",
    "x_fs = []\n",
    "x_gs = []\n",
    "ts = []\n",
    "\n",
    "R = 8.3143\n",
    "\n",
    "gf = lambda t: 3815.93 + 109.3029 * t - 1.044523e-20 * t ** 7 - (-7209.5 + 118.2007 * t)\n",
    "gg = lambda t: -3352 + 215.88 * t - 3.5899325e-21 * t ** 7 - (-15745 + 225.14 * t)\n",
    "\n",
    "t_range = range(1235, 1337)\n",
    "for t in t_range:\n",
    "\n",
    "    f = lambda x: (1 - x) * gf(t) + x * gg(t) + R * t * ((1 - x) * torch.log(1 - x) + x * torch.log(x)) + (1 - x) * x * (-16402 + 1.14 * t)\n",
    "    g = lambda x: R * t * ((1 - x) * torch.log(1 - x) + x * torch.log(x)) + (1 - x) * x * (-15599)\n",
    "    \n",
    "    df = lambda x: -16402 - gf(t) + gg(t) + 1.14 * t + 32804 * x - 2.28 * t * x - R * t * torch.log(1 - x) + R * t * torch.log(x)\n",
    "    dg = lambda x: 15599 * (-1 + 2 * x) - R * t * torch.log(1 - x) + R * t * torch.log(x)\n",
    "\n",
    "    scale = max(torch.max(abs(f(x))), torch.max(abs(g(x))))\n",
    "    \n",
    "    x_f, x_g = predict(net_1, net_2, f, g, df, dg, scale=scale, plot=False, threshold=0.2)\n",
    "        \n",
    "    x_fs.append(x_f) if len(x_f) > 0 else None\n",
    "    x_gs.append(x_g) if len(x_g) > 0 else None\n",
    "    ts.append(t) if len(x_f) > 0 else None\n",
    "    \n",
    "#print(x_fs)\n",
    "#print(x_gs)\n",
    "\n",
    "print(time.time() - start_time)"
   ]
  },
  {
   "cell_type": "code",
   "execution_count": 250,
   "id": "4f25a854",
   "metadata": {},
   "outputs": [],
   "source": [
    "x_fs_ = []\n",
    "for x_ in x_fs: \n",
    "    x_fs_.append(x_[0])\n",
    "    \n",
    "x_gs_ = []\n",
    "for x_ in x_gs: \n",
    "    x_gs_.append(x_[0])"
   ]
  },
  {
   "cell_type": "code",
   "execution_count": 251,
   "id": "d998438b",
   "metadata": {},
   "outputs": [
    {
     "data": {
      "text/plain": [
       "[<matplotlib.lines.Line2D at 0x25a58180160>]"
      ]
     },
     "execution_count": 251,
     "metadata": {},
     "output_type": "execute_result"
    },
    {
     "data": {
      "image/png": "[encoded data removed]",
      "text/plain": [
       "<Figure size 432x288 with 1 Axes>"
      ]
     },
     "metadata": {
      "needs_background": "light"
     },
     "output_type": "display_data"
    }
   ],
   "source": [
    "plt.plot(x_fs_, ts)\n",
    "plt.plot(x_gs_, ts)"
   ]
  },
  {
   "cell_type": "code",
   "execution_count": 252,
   "id": "17e5a739",
   "metadata": {},
   "outputs": [],
   "source": [
    "real_data = pd.read_csv('auag.txt', delimiter='\\t')"
   ]
  },
  {
   "cell_type": "code",
   "execution_count": 253,
   "id": "a31d1c18",
   "metadata": {},
   "outputs": [
    {
     "data": {
      "text/plain": [
       "[<matplotlib.lines.Line2D at 0x25a581e71f0>]"
      ]
     },
     "execution_count": 253,
     "metadata": {},
     "output_type": "execute_result"
    },
    {
     "data": {
      "image/png": "[encoded data removed]",
      "text/plain": [
       "<Figure size 1440x720 with 1 Axes>"
      ]
     },
     "metadata": {
      "needs_background": "light"
     },
     "output_type": "display_data"
    }
   ],
   "source": [
    "fig, ax = plt.subplots(1, 1, figsize=(20, 10))\n",
    "ax.scatter(real_data['Mole fraction Au'], real_data['LIQUID + FCC_A1'], s=0.2)\n",
    "ax.scatter(real_data['Mole fraction Au [1]'], real_data['Tieline'], s=0.2)\n",
    "ax.plot(x_fs_, ts)\n",
    "ax.plot(x_gs_, ts)"
   ]
  },
  {
   "cell_type": "code",
   "execution_count": 221,
   "id": "d1e3bdfa",
   "metadata": {},
   "outputs": [
    {
     "name": "stdout",
     "output_type": "stream",
     "text": [
      "2.27 ms ± 377 µs per loop (mean ± std. dev. of 7 runs, 1000 loops each)\n"
     ]
    }
   ],
   "source": [
    "%%timeit\n",
    "x_f, x_g = predict(net_1, net_2, f, g, df, dg, scale=scale, plot=False)"
   ]
  },
  {
   "cell_type": "code",
   "execution_count": null,
   "id": "cecc3278",
   "metadata": {},
   "outputs": [],
   "source": []
  }
 ],
 "metadata": {
  "kernelspec": {
   "display_name": "Python 3 (ipykernel)",
   "language": "python",
   "name": "python3"
  },
  "language_info": {
   "codemirror_mode": {
    "name": "ipython",
    "version": 3
   },
   "file_extension": ".py",
   "mimetype": "text/x-python",
   "name": "python",
   "nbconvert_exporter": "python",
   "pygments_lexer": "ipython3",
   "version": "3.8.12"
  }
 },
 "nbformat": 4,
 "nbformat_minor": 5
}
