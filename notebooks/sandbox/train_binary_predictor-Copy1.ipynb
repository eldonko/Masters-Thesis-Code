{
 "cells": [
  {
   "cell_type": "code",
   "execution_count": 1,
   "id": "81a245d1",
   "metadata": {},
   "outputs": [],
   "source": [
    "import matplotlib.pyplot as plt\n",
    "import numpy as np\n",
    "import torch\n",
    "import torch.nn as nn\n",
    "from torch.autograd import grad\n",
    "from torch.optim.lr_scheduler import ExponentialLR\n",
    "\n",
    "from binarypredictor.datagen import PolyGenerator, DataGenerator\n",
    "from binarypredictor.poly import Polynomial, PolynomialSet, PolynomialBatch, PolynomialDataLoader\n",
    "from binarypredictor.net import DerivativeNet"
   ]
  },
  {
   "cell_type": "code",
   "execution_count": 2,
   "id": "d9ef1f28",
   "metadata": {},
   "outputs": [
    {
     "name": "stderr",
     "output_type": "stream",
     "text": [
      "100%|███████████████████████████████████████████████████████████████████████████| 20000/20000 [01:57<00:00, 169.65it/s]\n"
     ]
    }
   ],
   "source": [
    "# Create dataset\n",
    "dg = DataGenerator()\n",
    "dg.generate_data(20000)\n",
    "\n",
    "polys = dg.get_polys()\n",
    "\n",
    "batch_size = 200\n",
    "train_loader = PolynomialDataLoader(polys, batch_size, shuffle=True)"
   ]
  },
  {
   "cell_type": "code",
   "execution_count": 3,
   "id": "e6548c30",
   "metadata": {},
   "outputs": [],
   "source": [
    "out_features = 50\n",
    "lr = 1e-3\n",
    "\n",
    "net_p = DerivativeNet(train=True, in_features=100, hidden_size_linear=256, out_features=out_features, hidden_layers=1)\n",
    "net_q = DerivativeNet(train=True, in_features=100, hidden_size_linear=256, out_features=out_features, hidden_layers=1)\n",
    "optimizer_p = torch.optim.Adam(net_p.parameters(), lr=lr)\n",
    "optimizer_q = torch.optim.Adam(net_q.parameters(), lr=lr)\n",
    "#scheduler = ExponentialLR(optimizer, gamma=0.995)"
   ]
  },
  {
   "cell_type": "code",
   "execution_count": 7,
   "id": "102e4a54",
   "metadata": {
    "scrolled": false
   },
   "outputs": [
    {
     "ename": "KeyboardInterrupt",
     "evalue": "",
     "output_type": "error",
     "traceback": [
      "\u001b[1;31m---------------------------------------------------------------------------\u001b[0m",
      "\u001b[1;31mKeyboardInterrupt\u001b[0m                         Traceback (most recent call last)",
      "\u001b[1;32m<ipython-input-7-9e295f2abd6e>\u001b[0m in \u001b[0;36m<module>\u001b[1;34m\u001b[0m\n\u001b[0;32m     17\u001b[0m         \u001b[0moptimizer_p\u001b[0m\u001b[1;33m.\u001b[0m\u001b[0mzero_grad\u001b[0m\u001b[1;33m(\u001b[0m\u001b[1;33m)\u001b[0m\u001b[1;33m,\u001b[0m \u001b[0moptimizer_q\u001b[0m\u001b[1;33m.\u001b[0m\u001b[0mzero_grad\u001b[0m\u001b[1;33m(\u001b[0m\u001b[1;33m)\u001b[0m\u001b[1;33m\u001b[0m\u001b[1;33m\u001b[0m\u001b[0m\n\u001b[0;32m     18\u001b[0m         \u001b[0mloss\u001b[0m \u001b[1;33m=\u001b[0m \u001b[0mnn\u001b[0m\u001b[1;33m.\u001b[0m\u001b[0mMSELoss\u001b[0m\u001b[1;33m(\u001b[0m\u001b[1;33m)\u001b[0m\u001b[1;33m(\u001b[0m\u001b[0mp_vals\u001b[0m\u001b[1;33m[\u001b[0m\u001b[1;33m:\u001b[0m\u001b[1;33m,\u001b[0m \u001b[1;33m:\u001b[0m\u001b[1;33m,\u001b[0m \u001b[1;36m0\u001b[0m\u001b[1;33m]\u001b[0m \u001b[1;33m-\u001b[0m \u001b[0mout_p\u001b[0m \u001b[1;33m*\u001b[0m \u001b[0mdp_vals\u001b[0m\u001b[1;33m[\u001b[0m\u001b[1;33m:\u001b[0m\u001b[1;33m,\u001b[0m \u001b[1;33m:\u001b[0m\u001b[1;33m,\u001b[0m \u001b[1;36m0\u001b[0m\u001b[1;33m]\u001b[0m\u001b[1;33m,\u001b[0m \u001b[0mp_vals\u001b[0m\u001b[1;33m[\u001b[0m\u001b[1;33m:\u001b[0m\u001b[1;33m,\u001b[0m \u001b[1;33m:\u001b[0m\u001b[1;33m,\u001b[0m \u001b[1;36m1\u001b[0m\u001b[1;33m]\u001b[0m \u001b[1;33m-\u001b[0m \u001b[0mout_q\u001b[0m \u001b[1;33m*\u001b[0m \u001b[0mdp_vals\u001b[0m\u001b[1;33m[\u001b[0m\u001b[1;33m:\u001b[0m\u001b[1;33m,\u001b[0m \u001b[1;33m:\u001b[0m\u001b[1;33m,\u001b[0m \u001b[1;36m1\u001b[0m\u001b[1;33m]\u001b[0m\u001b[1;33m)\u001b[0m\u001b[1;33m\u001b[0m\u001b[1;33m\u001b[0m\u001b[0m\n\u001b[1;32m---> 19\u001b[1;33m         \u001b[0mloss\u001b[0m\u001b[1;33m.\u001b[0m\u001b[0mbackward\u001b[0m\u001b[1;33m(\u001b[0m\u001b[0mretain_graph\u001b[0m\u001b[1;33m=\u001b[0m\u001b[1;32mTrue\u001b[0m\u001b[1;33m)\u001b[0m\u001b[1;33m\u001b[0m\u001b[1;33m\u001b[0m\u001b[0m\n\u001b[0m\u001b[0;32m     20\u001b[0m         \u001b[0moptimizer_p\u001b[0m\u001b[1;33m.\u001b[0m\u001b[0mstep\u001b[0m\u001b[1;33m(\u001b[0m\u001b[1;33m)\u001b[0m\u001b[1;33m\u001b[0m\u001b[1;33m\u001b[0m\u001b[0m\n\u001b[0;32m     21\u001b[0m         \u001b[0moptimizer_q\u001b[0m\u001b[1;33m.\u001b[0m\u001b[0mstep\u001b[0m\u001b[1;33m(\u001b[0m\u001b[1;33m)\u001b[0m\u001b[1;33m\u001b[0m\u001b[1;33m\u001b[0m\u001b[0m\n",
      "\u001b[1;32m~\\anaconda3\\envs\\5_Programmcodes\\lib\\site-packages\\torch\\_tensor.py\u001b[0m in \u001b[0;36mbackward\u001b[1;34m(self, gradient, retain_graph, create_graph, inputs)\u001b[0m\n\u001b[0;32m    305\u001b[0m                 \u001b[0mcreate_graph\u001b[0m\u001b[1;33m=\u001b[0m\u001b[0mcreate_graph\u001b[0m\u001b[1;33m,\u001b[0m\u001b[1;33m\u001b[0m\u001b[1;33m\u001b[0m\u001b[0m\n\u001b[0;32m    306\u001b[0m                 inputs=inputs)\n\u001b[1;32m--> 307\u001b[1;33m         \u001b[0mtorch\u001b[0m\u001b[1;33m.\u001b[0m\u001b[0mautograd\u001b[0m\u001b[1;33m.\u001b[0m\u001b[0mbackward\u001b[0m\u001b[1;33m(\u001b[0m\u001b[0mself\u001b[0m\u001b[1;33m,\u001b[0m \u001b[0mgradient\u001b[0m\u001b[1;33m,\u001b[0m \u001b[0mretain_graph\u001b[0m\u001b[1;33m,\u001b[0m \u001b[0mcreate_graph\u001b[0m\u001b[1;33m,\u001b[0m \u001b[0minputs\u001b[0m\u001b[1;33m=\u001b[0m\u001b[0minputs\u001b[0m\u001b[1;33m)\u001b[0m\u001b[1;33m\u001b[0m\u001b[1;33m\u001b[0m\u001b[0m\n\u001b[0m\u001b[0;32m    308\u001b[0m \u001b[1;33m\u001b[0m\u001b[0m\n\u001b[0;32m    309\u001b[0m     \u001b[1;32mdef\u001b[0m \u001b[0mregister_hook\u001b[0m\u001b[1;33m(\u001b[0m\u001b[0mself\u001b[0m\u001b[1;33m,\u001b[0m \u001b[0mhook\u001b[0m\u001b[1;33m)\u001b[0m\u001b[1;33m:\u001b[0m\u001b[1;33m\u001b[0m\u001b[1;33m\u001b[0m\u001b[0m\n",
      "\u001b[1;32m~\\anaconda3\\envs\\5_Programmcodes\\lib\\site-packages\\torch\\autograd\\__init__.py\u001b[0m in \u001b[0;36mbackward\u001b[1;34m(tensors, grad_tensors, retain_graph, create_graph, grad_variables, inputs)\u001b[0m\n\u001b[0;32m    152\u001b[0m         \u001b[0mretain_graph\u001b[0m \u001b[1;33m=\u001b[0m \u001b[0mcreate_graph\u001b[0m\u001b[1;33m\u001b[0m\u001b[1;33m\u001b[0m\u001b[0m\n\u001b[0;32m    153\u001b[0m \u001b[1;33m\u001b[0m\u001b[0m\n\u001b[1;32m--> 154\u001b[1;33m     Variable._execution_engine.run_backward(\n\u001b[0m\u001b[0;32m    155\u001b[0m         \u001b[0mtensors\u001b[0m\u001b[1;33m,\u001b[0m \u001b[0mgrad_tensors_\u001b[0m\u001b[1;33m,\u001b[0m \u001b[0mretain_graph\u001b[0m\u001b[1;33m,\u001b[0m \u001b[0mcreate_graph\u001b[0m\u001b[1;33m,\u001b[0m \u001b[0minputs\u001b[0m\u001b[1;33m,\u001b[0m\u001b[1;33m\u001b[0m\u001b[1;33m\u001b[0m\u001b[0m\n\u001b[0;32m    156\u001b[0m         allow_unreachable=True, accumulate_grad=True)  # allow_unreachable flag\n",
      "\u001b[1;31mKeyboardInterrupt\u001b[0m: "
     ]
    }
   ],
   "source": [
    "low, high = 0., 1.\n",
    "\n",
    "x_in = torch.arange(low, high, step=0.01 * (high - low))\n",
    "x_out = torch.zeros((batch_size, out_features))\n",
    "x_out[:] = torch.arange(low, high, step=1/out_features * (high - low))\n",
    "\n",
    "for i in range(5000):\n",
    "    for p in train_loader:\n",
    "        inp = p.get_values(x_in, o=0, stack='h')\n",
    "        out_p = net_p(inp[:, :, 0].squeeze().float())\n",
    "        out_q = net_q(inp[:, :, 1].squeeze().float())\n",
    "                        \n",
    "        x_range = torch.stack((out_p, out_q), dim=2)\n",
    "        p_vals = p.get_values(x_range)\n",
    "        dp_vals = p.get_values(x_range, o=1)\n",
    "\n",
    "        optimizer_p.zero_grad(), optimizer_q.zero_grad()\n",
    "        loss = nn.MSELoss()(p_vals[:, :, 0] - out_p * dp_vals[:, :, 0], p_vals[:, :, 1] - out_q * dp_vals[:, :, 1])\n",
    "        loss.backward(retain_graph=True)\n",
    "        optimizer_p.step()\n",
    "        optimizer_q.step()\n",
    "    #scheduler.step()\n",
    "    \n",
    "    if i % 5 == 0:\n",
    "        print(loss)"
   ]
  },
  {
   "cell_type": "code",
   "execution_count": 7,
   "id": "9009378d",
   "metadata": {},
   "outputs": [],
   "source": [
    "#torch.save(net_q, 'binary_q.pth')"
   ]
  },
  {
   "cell_type": "code",
   "execution_count": 5,
   "id": "c926160b",
   "metadata": {},
   "outputs": [],
   "source": [
    "net_p = torch.load('binary_p.pth')\n",
    "net_q = torch.load('binary_q.pth')"
   ]
  },
  {
   "cell_type": "code",
   "execution_count": 17,
   "id": "df4ad969",
   "metadata": {},
   "outputs": [],
   "source": [
    "pg = PolyGenerator(2)\n",
    "pg.add_constraint(0.5, 1, 0)\n",
    "pg.add_constraint(0.1, 0, 1)\n",
    "#pg.add_constraint(0.8, 0, 1)\n",
    "pg.add_constraint(0.5, 0, 0)\n",
    "#pg.add_constraint(0.9, 0, 5)\n",
    "#pg.add_constraint(0.2, 0, 2.5)\n",
    "\n",
    "qg = PolyGenerator(2)\n",
    "qg.add_constraint(0.5, 1, 0)\n",
    "qg.add_constraint(0.1, 0, 2)\n",
    "qg.add_constraint(0.5, 0, -.2)\n",
    "#qg.add_constraint(0.9, 1, -6)\n",
    "#qg.add_constraint(0.9, 0, 8)\n",
    "#qg.add_constraint(0.2, 0, 1.5)"
   ]
  },
  {
   "cell_type": "code",
   "execution_count": 24,
   "id": "e4b43e36",
   "metadata": {},
   "outputs": [
    {
     "data": {
      "image/png": "[encoded data removed]",
      "text/plain": [
       "<Figure size 432x288 with 1 Axes>"
      ]
     },
     "metadata": {
      "needs_background": "light"
     },
     "output_type": "display_data"
    },
    {
     "data": {
      "image/png": "[encoded data removed]",
      "text/plain": [
       "<Figure size 432x288 with 1 Axes>"
      ]
     },
     "metadata": {
      "needs_background": "light"
     },
     "output_type": "display_data"
    }
   ],
   "source": [
    "x_in = torch.arange(low, high, step=0.01 * (high - low))\n",
    "\n",
    "poly_set = train_loader[0][6]\n",
    "#poly_set = PolynomialSet() \n",
    "#poly_set.append(Polynomial(pg.get_cfs())) \n",
    "#poly_set.append(Polynomial(qg.get_cfs()))\n",
    "\n",
    "d_poly_set = poly_set.get_derivatives()\n",
    "\n",
    "#poly_set.scale_by_max(x_in)\n",
    "poly_set.plot(x_in)\n",
    "plt.show()\n",
    "\n",
    "d_poly_set.plot(x_in)\n",
    "plt.show()"
   ]
  },
  {
   "cell_type": "code",
   "execution_count": 25,
   "id": "b34c42b0",
   "metadata": {
    "scrolled": false
   },
   "outputs": [
    {
     "data": {
      "image/png": "[encoded data removed]",
      "text/plain": [
       "<Figure size 432x288 with 1 Axes>"
      ]
     },
     "metadata": {
      "needs_background": "light"
     },
     "output_type": "display_data"
    },
    {
     "data": {
      "image/png": "[encoded data removed]",
      "text/plain": [
       "<Figure size 1120x1120 with 1 Axes>"
      ]
     },
     "metadata": {
      "needs_background": "light"
     },
     "output_type": "display_data"
    }
   ],
   "source": [
    "inp = poly_set.get_values(x_in, stack='h')\n",
    "\n",
    "out_p = (net_p(inp[:, 0].squeeze().float()))\n",
    "out_q = (net_q(inp[:, 1].squeeze().float()))\n",
    "\n",
    "plt.scatter(out_p.detach(), out_q.detach(), s=.5)\n",
    "plt.show()\n",
    "\n",
    "x_range = torch.vstack((out_p, out_q)).T\n",
    "dp_vals = d_poly_set.get_values(x_range)\n",
    "plt.figure(figsize=(14, 14), dpi=80)\n",
    "plt.scatter(range(len(out_p)), dp_vals[:, 0].detach(), s=2)\n",
    "plt.scatter(range(len(out_q)), dp_vals[:, 1].detach(), s=2)\n",
    "plt.scatter(range(len(out_q)), ((dp_vals[:, 0] - dp_vals[:, 1])*torch.max(dp_vals, dim=-1)[0]).detach(), s=10)\n",
    "plt.ylim(-.1, .1)\n",
    "plt.show()"
   ]
  },
  {
   "cell_type": "code",
   "execution_count": 20,
   "id": "d32ac72a",
   "metadata": {},
   "outputs": [],
   "source": [
    "eqns_ = poly_set.get_values(x_range) - x_range * d_poly_set.get_values(x_range)\n",
    "eqn_poly_set_ = PolynomialSet()\n",
    "eqn_poly_set_.from_values(x_range, eqns_)"
   ]
  },
  {
   "cell_type": "code",
   "execution_count": 21,
   "id": "90e153ff",
   "metadata": {},
   "outputs": [
    {
     "name": "stdout",
     "output_type": "stream",
     "text": [
      "tensor([], dtype=torch.int64)\n"
     ]
    }
   ],
   "source": [
    "idx = torch.where((abs((dp_vals[:, 0] - dp_vals[:, 1])) < .5e-1) & (abs(eqns_[:, 0] - eqns_[:, 1]) < 1e-1))[0]\n",
    "print(idx)"
   ]
  },
  {
   "cell_type": "code",
   "execution_count": 22,
   "id": "7e0532d0",
   "metadata": {
    "scrolled": false
   },
   "outputs": [
    {
     "name": "stdout",
     "output_type": "stream",
     "text": [
      "No common tangents!\n"
     ]
    }
   ],
   "source": [
    "if len(idx) > 0:\n",
    "    \n",
    "    xpq = x_range[idx]\n",
    "    print(xpq)\n",
    "    \n",
    "    xp, xq = xpq[:, 0], xpq[:, 1]\n",
    "\n",
    "    print(*zip(xp.detach().numpy(), xq.detach().numpy()))\n",
    "    y = poly_set.get_values(xpq)\n",
    "    poly_set.plot(x_in)\n",
    "    plt.plot([xp.detach().numpy(), xq.detach().numpy()], [y[:, 0].detach().numpy(), y[:, 1].detach().numpy()], marker='o')\n",
    "    plt.show()\n",
    "    \n",
    "    for xp_, xq_, y_ in zip(xp, xq, y):\n",
    "        poly_set.plot(x_in)\n",
    "        plt.plot([xp_.detach().numpy(), xq_.detach().numpy()], [y_[0].detach().numpy(), y_[1].detach().numpy()], marker='o')\n",
    "        plt.show()\n",
    "else:\n",
    "    print('No common tangents!')"
   ]
  },
  {
   "cell_type": "code",
   "execution_count": 23,
   "id": "ec666f5e",
   "metadata": {},
   "outputs": [
    {
     "name": "stdout",
     "output_type": "stream",
     "text": [
      "tensor([[ 0.3975, -2.0270],\n",
      "        [ 0.5128,  1.8258],\n",
      "        [ 0.5174,  1.8244],\n",
      "        [ 0.5321,  1.8165],\n",
      "        [ 0.5393,  1.8280],\n",
      "        [ 0.4307, -2.0963],\n",
      "        [ 0.5400,  1.8284],\n",
      "        [ 0.5359,  1.8261]], grad_fn=<CatBackward0>)\n",
      "tensor([[-0.8868,  3.1025],\n",
      "        [-1.2092, -5.9678],\n",
      "        [-1.2230, -5.9586],\n",
      "        [-1.2671, -5.9073],\n",
      "        [-1.2892, -5.9824],\n",
      "        [-0.9759,  3.2007],\n",
      "        [-1.2913, -5.9846],\n",
      "        [-1.2788, -5.9697]], grad_fn=<CatBackward0>)\n"
     ]
    }
   ],
   "source": [
    "print(eqn_poly_set_.get_values(xpq))\n",
    "print(d_poly_set.get_values(xpq))"
   ]
  }
 ],
 "metadata": {
  "kernelspec": {
   "display_name": "Python 3 (ipykernel)",
   "language": "python",
   "name": "python3"
  },
  "language_info": {
   "codemirror_mode": {
    "name": "ipython",
    "version": 3
   },
   "file_extension": ".py",
   "mimetype": "text/x-python",
   "name": "python",
   "nbconvert_exporter": "python",
   "pygments_lexer": "ipython3",
   "version": "3.8.12"
  }
 },
 "nbformat": 4,
 "nbformat_minor": 5
}
