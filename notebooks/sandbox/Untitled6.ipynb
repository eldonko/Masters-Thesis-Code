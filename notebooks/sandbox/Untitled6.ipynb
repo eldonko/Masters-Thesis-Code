{
 "cells": [
  {
   "cell_type": "code",
   "execution_count": 13,
   "id": "37c11d4d",
   "metadata": {},
   "outputs": [],
   "source": [
    "import numpy as np\n",
    "import torch\n",
    "import torch.nn as nn\n",
    "import matplotlib.pyplot as plt\n",
    "\n",
    "from binarypredictor.datagen import DataGenerator, PolyGenerator"
   ]
  },
  {
   "cell_type": "code",
   "execution_count": 14,
   "id": "9fb31c94",
   "metadata": {},
   "outputs": [],
   "source": [
    "pg = PolyGenerator(4)\n",
    "\n",
    "x = np.arange(0, 101)/100\n",
    "\n",
    "pg.add_constraint(np.array([0.9]), 0, 0)\n",
    "pg.add_constraint(np.array([0.9]), 1, 0)\n",
    "pg.add_constraint(np.array([0.5]), 0, 5)\n",
    "pg.add_constraint(np.array([0.1]), 0, 0)\n",
    "pg.add_constraint(np.array([0.1]), 1, 0)"
   ]
  },
  {
   "cell_type": "code",
   "execution_count": 15,
   "id": "d59021f0",
   "metadata": {},
   "outputs": [],
   "source": [
    "qg = PolyGenerator(2)\n",
    "\n",
    "x = np.arange(0, 101)/100\n",
    "\n",
    "qg.add_constraint(np.array([0.3]), 0, 0)\n",
    "qg.add_constraint(np.array([0.3]), 1, 0)\n",
    "qg.add_constraint(np.array([0.5]), 0, 2)"
   ]
  },
  {
   "cell_type": "code",
   "execution_count": 16,
   "id": "9107f667",
   "metadata": {},
   "outputs": [],
   "source": [
    "tk = 1313\n",
    "R = 8.3143\n",
    "\n",
    "gagfcc=-7209.5+118.2007*tk\n",
    "gagl=3815.93+109.3029*tk-1.044523e-20*tk**7\n",
    "glag=gagl-gagfcc;\n",
    "gaufcc=-15745+225.14*tk\n",
    "gaul=-3352+215.88*tk-3.5899325e-21*tk**7\n",
    "glau1=gaul-gaufcc\n",
    "glau=12552-9.385866*tk"
   ]
  },
  {
   "cell_type": "code",
   "execution_count": 17,
   "id": "5827dda7",
   "metadata": {},
   "outputs": [],
   "source": [
    "def funcs(xl, xs, tk, a=True, b=False):\n",
    "    if a:\n",
    "        gl = (1-xl)*glag+xl*glau1+R*tk*((1-xl)*torch.log(1-xl)+xl*torch.log(xl))+(1-xl)*xl*(-16402+1.14*tk)\n",
    "        gs = R*tk*((1-xs)*torch.log(1-xs)+xs*torch.log(xs))+(1-xs)*xs*(-15599)\n",
    "        glxl = 1367.57-0.3622*tk+0.68552975*10**-20*tk**7+R*tk*(-torch.log(1-xl)+torch.log(xl))-xl*(-16402+1.14*tk)+(1-xl)*(-16402+1.14*tk)\n",
    "        gsxs = R*tk*(-torch.log(1-xs)+torch.log(xs))+31198*xs-15599\n",
    "    else:\n",
    "        gl = 2*xl**3 + 20\n",
    "        glxl = 6*xl**2   \n",
    "        gs = (xs-3)**3 + xs\n",
    "        gsxs = 3*(xs-3)**2 + 1\n",
    "        \n",
    "    if b: \n",
    "        gl = torch.tensor(pg.get_value_at_x(xl.detach().numpy(), 0), requires_grad=True)\n",
    "        glxl = torch.tensor(pg.get_value_at_x(xl.detach().numpy(), 1), requires_grad=True)\n",
    "        gs = torch.tensor(qg.get_value_at_x(xs.detach().numpy(), 0), requires_grad=True)\n",
    "        gsxs = torch.tensor(qg.get_value_at_x(xs.detach().numpy(), 1), requires_grad=True)\n",
    "    \n",
    "    return gl, gs, glxl, gsxs"
   ]
  },
  {
   "cell_type": "code",
   "execution_count": 18,
   "id": "375fab70",
   "metadata": {},
   "outputs": [],
   "source": [
    "seq1 = nn.Sequential(\n",
    "    nn.Linear(200, 128),\n",
    "    nn.ReLU(),\n",
    "    nn.Linear(128, 128),\n",
    "    nn.ReLU(),\n",
    "    nn.Linear(128, 64),\n",
    "    nn.ReLU(),\n",
    "    nn.Linear(64, 32),\n",
    "    nn.ReLU(),\n",
    "    nn.Linear(32, 2),\n",
    "    nn.Sigmoid()\n",
    "    )\n",
    "\n",
    "seq2 = nn.Sequential(\n",
    "    nn.Linear(100, 128),\n",
    "    nn.ReLU(),\n",
    "    nn.Linear(128, 128),\n",
    "    nn.ReLU(),\n",
    "    nn.Linear(128, 64),\n",
    "    nn.ReLU(),\n",
    "    nn.Linear(64, 32),\n",
    "    nn.ReLU(),\n",
    "    nn.Linear(32, 10),\n",
    "    nn.Sigmoid()\n",
    "    )"
   ]
  },
  {
   "cell_type": "code",
   "execution_count": 19,
   "id": "c64b56b0",
   "metadata": {},
   "outputs": [],
   "source": [
    "x = torch.arange(1e-6, 100, step=101/100)/100"
   ]
  },
  {
   "cell_type": "code",
   "execution_count": 20,
   "id": "13f23a24",
   "metadata": {},
   "outputs": [],
   "source": [
    "a = True\n",
    "b = False"
   ]
  },
  {
   "cell_type": "code",
   "execution_count": 21,
   "id": "3bd43358",
   "metadata": {},
   "outputs": [],
   "source": [
    "glx, gsx, glxlx, gsxsx = funcs(x, x, tk, a, b)"
   ]
  },
  {
   "cell_type": "code",
   "execution_count": 33,
   "id": "2e8caa5b",
   "metadata": {},
   "outputs": [
    {
     "name": "stdout",
     "output_type": "stream",
     "text": [
      "tensor([  -727.6537,  -1483.5604,  -2082.4521,  -2619.4736,  -3114.8406,\n",
      "         -3578.1465,  -4015.0369,  -4429.2397,  -4823.3975,  -5199.4839,\n",
      "         -5559.0283,  -5903.2490,  -6233.1382,  -6549.5215,  -6853.0908,\n",
      "         -7144.4395,  -7424.0801,  -7692.4551,  -7949.9551,  -8196.9248,\n",
      "         -8433.6699,  -8660.4619,  -8877.5488,  -9085.1484,  -9283.4619,\n",
      "         -9472.6680,  -9652.9326,  -9824.4033,  -9987.2188, -10141.5000,\n",
      "        -10287.3652, -10424.9121, -10554.2422, -10675.4395, -10788.5830,\n",
      "        -10893.7461, -10990.9961, -11080.3906, -11161.9863, -11235.8320,\n",
      "        -11301.9717, -11360.4453, -11411.2881, -11454.5303, -11490.1973,\n",
      "        -11518.3135, -11538.8965, -11551.9619, -11557.5195, -11555.5791,\n",
      "        -11546.1396, -11529.2061, -11504.7715, -11472.8320, -11433.3730,\n",
      "        -11386.3809, -11331.8379, -11269.7207, -11200.0049, -11122.6562,\n",
      "        -11037.6426, -10944.9238, -10844.4551, -10736.1875, -10620.0664,\n",
      "        -10496.0312, -10364.0176, -10223.9512, -10075.7520,  -9919.3340,\n",
      "         -9754.6045,  -9581.4561,  -9399.7754,  -9209.4404,  -9010.3145,\n",
      "         -8802.2461,  -8585.0742,  -8358.6162,  -8122.6758,  -7877.0308,\n",
      "         -7621.4355,  -7355.6182,  -7079.2754,  -6792.0596,  -6493.5811,\n",
      "         -6183.3999,  -5861.0059,  -5525.8027,  -5177.1025,  -4814.0781,\n",
      "         -4435.7427,  -4040.8745,  -3627.9541,  -3195.0115,  -2739.4136,\n",
      "         -2257.4424,  -1743.4806,  -1187.9883,   -570.9412,    197.7364])\n",
      "\n",
      "tensor([-2.1669e-03, -7.7232e+02, -1.3875e+03, -1.9406e+03, -2.4520e+03,\n",
      "        -2.9311e+03, -3.3837e+03, -3.8135e+03, -4.2231e+03, -4.6144e+03,\n",
      "        -4.9891e+03, -5.3483e+03, -5.6931e+03, -6.0242e+03, -6.3423e+03,\n",
      "        -6.6481e+03, -6.9420e+03, -7.2246e+03, -7.4961e+03, -7.7569e+03,\n",
      "        -8.0074e+03, -8.2477e+03, -8.4783e+03, -8.6992e+03, -8.9106e+03,\n",
      "        -9.1128e+03, -9.3060e+03, -9.4902e+03, -9.6656e+03, -9.8323e+03,\n",
      "        -9.9905e+03, -1.0140e+04, -1.0282e+04, -1.0415e+04, -1.0540e+04,\n",
      "        -1.0656e+04, -1.0765e+04, -1.0866e+04, -1.0958e+04, -1.1043e+04,\n",
      "        -1.1120e+04, -1.1190e+04, -1.1251e+04, -1.1305e+04, -1.1351e+04,\n",
      "        -1.1389e+04, -1.1420e+04, -1.1443e+04, -1.1458e+04, -1.1466e+04,\n",
      "        -1.1466e+04, -1.1458e+04, -1.1443e+04, -1.1420e+04, -1.1389e+04,\n",
      "        -1.1351e+04, -1.1305e+04, -1.1252e+04, -1.1190e+04, -1.1121e+04,\n",
      "        -1.1044e+04, -1.0959e+04, -1.0867e+04, -1.0766e+04, -1.0657e+04,\n",
      "        -1.0541e+04, -1.0416e+04, -1.0283e+04, -1.0142e+04, -9.9920e+03,\n",
      "        -9.8339e+03, -9.6673e+03, -9.4920e+03, -9.3078e+03, -9.1148e+03,\n",
      "        -8.9127e+03, -8.7013e+03, -8.4805e+03, -8.2501e+03, -8.0098e+03,\n",
      "        -7.7594e+03, -7.4987e+03, -7.2273e+03, -6.9449e+03, -6.6511e+03,\n",
      "        -6.3454e+03, -6.0274e+03, -5.6964e+03, -5.3518e+03, -4.9928e+03,\n",
      "        -4.6182e+03, -4.2270e+03, -3.8176e+03, -3.3881e+03, -2.9357e+03,\n",
      "        -2.4569e+03, -1.9459e+03, -1.3932e+03, -7.7885e+02, -1.2708e+01])\n",
      "tensor([-7.2765e-01, -1.4836e+00, -2.0825e+00, -2.6195e+00, -3.1148e+00,\n",
      "        -3.5781e+00, -4.0150e+00, -4.4292e+00, -4.8234e+00, -5.1995e+00,\n",
      "        -5.5590e+00, -5.9032e+00, -6.2331e+00, -6.5495e+00, -6.8531e+00,\n",
      "        -7.1444e+00, -7.4241e+00, -7.6925e+00, -7.9500e+00, -8.1969e+00,\n",
      "        -8.4337e+00, -8.6605e+00, -8.8775e+00, -9.0851e+00, -9.2835e+00,\n",
      "        -9.4727e+00, -9.6529e+00, -9.8244e+00, -9.9872e+00, -1.0142e+01,\n",
      "        -1.0287e+01, -1.0425e+01, -1.0554e+01, -1.0675e+01, -1.0789e+01,\n",
      "        -1.0894e+01, -1.0991e+01, -1.1080e+01, -1.1162e+01, -1.1236e+01,\n",
      "        -1.1302e+01, -1.1360e+01, -1.1411e+01, -1.1455e+01, -1.1490e+01,\n",
      "        -1.1518e+01, -1.1539e+01, -1.1552e+01, -1.1558e+01, -1.1556e+01,\n",
      "        -1.1546e+01, -1.1529e+01, -1.1505e+01, -1.1473e+01, -1.1433e+01,\n",
      "        -1.1386e+01, -1.1332e+01, -1.1270e+01, -1.1200e+01, -1.1123e+01,\n",
      "        -1.1038e+01, -1.0945e+01, -1.0844e+01, -1.0736e+01, -1.0620e+01,\n",
      "        -1.0496e+01, -1.0364e+01, -1.0224e+01, -1.0076e+01, -9.9193e+00,\n",
      "        -9.7546e+00, -9.5815e+00, -9.3998e+00, -9.2094e+00, -9.0103e+00,\n",
      "        -8.8022e+00, -8.5851e+00, -8.3586e+00, -8.1227e+00, -7.8770e+00,\n",
      "        -7.6214e+00, -7.3556e+00, -7.0793e+00, -6.7921e+00, -6.4936e+00,\n",
      "        -6.1834e+00, -5.8610e+00, -5.5258e+00, -5.1771e+00, -4.8141e+00,\n",
      "        -4.4357e+00, -4.0409e+00, -3.6280e+00, -3.1950e+00, -2.7394e+00,\n",
      "        -2.2574e+00, -1.7435e+00, -1.1880e+00, -5.7094e-01,  1.9774e-01,\n",
      "        -2.1669e-06, -7.7232e-01, -1.3875e+00, -1.9406e+00, -2.4520e+00,\n",
      "        -2.9311e+00, -3.3837e+00, -3.8135e+00, -4.2231e+00, -4.6144e+00,\n",
      "        -4.9891e+00, -5.3483e+00, -5.6931e+00, -6.0242e+00, -6.3423e+00,\n",
      "        -6.6481e+00, -6.9420e+00, -7.2246e+00, -7.4961e+00, -7.7569e+00,\n",
      "        -8.0074e+00, -8.2477e+00, -8.4783e+00, -8.6992e+00, -8.9106e+00,\n",
      "        -9.1128e+00, -9.3060e+00, -9.4902e+00, -9.6656e+00, -9.8323e+00,\n",
      "        -9.9905e+00, -1.0140e+01, -1.0282e+01, -1.0415e+01, -1.0540e+01,\n",
      "        -1.0656e+01, -1.0765e+01, -1.0866e+01, -1.0958e+01, -1.1043e+01,\n",
      "        -1.1120e+01, -1.1190e+01, -1.1251e+01, -1.1305e+01, -1.1351e+01,\n",
      "        -1.1389e+01, -1.1420e+01, -1.1443e+01, -1.1458e+01, -1.1466e+01,\n",
      "        -1.1466e+01, -1.1458e+01, -1.1443e+01, -1.1420e+01, -1.1389e+01,\n",
      "        -1.1351e+01, -1.1305e+01, -1.1252e+01, -1.1190e+01, -1.1121e+01,\n",
      "        -1.1044e+01, -1.0959e+01, -1.0867e+01, -1.0766e+01, -1.0657e+01,\n",
      "        -1.0541e+01, -1.0416e+01, -1.0283e+01, -1.0142e+01, -9.9920e+00,\n",
      "        -9.8339e+00, -9.6673e+00, -9.4920e+00, -9.3078e+00, -9.1148e+00,\n",
      "        -8.9127e+00, -8.7013e+00, -8.4805e+00, -8.2501e+00, -8.0098e+00,\n",
      "        -7.7594e+00, -7.4987e+00, -7.2273e+00, -6.9449e+00, -6.6511e+00,\n",
      "        -6.3454e+00, -6.0274e+00, -5.6964e+00, -5.3518e+00, -4.9928e+00,\n",
      "        -4.6182e+00, -4.2270e+00, -3.8176e+00, -3.3881e+00, -2.9357e+00,\n",
      "        -2.4569e+00, -1.9459e+00, -1.3932e+00, -7.7885e-01, -1.2708e-02])\n"
     ]
    }
   ],
   "source": [
    "print(glx)\n",
    "print()\n",
    "print(gsx)\n",
    "print(torch.hstack((glx, gsx))/1000)"
   ]
  },
  {
   "cell_type": "code",
   "execution_count": 22,
   "id": "233e6d8c",
   "metadata": {},
   "outputs": [
    {
     "data": {
      "text/plain": [
       "[<matplotlib.lines.Line2D at 0x249adfeb940>]"
      ]
     },
     "execution_count": 22,
     "metadata": {},
     "output_type": "execute_result"
    },
    {
     "data": {
      "image/png": "[encoded data removed]",
      "text/plain": [
       "<Figure size 432x288 with 1 Axes>"
      ]
     },
     "metadata": {
      "needs_background": "light"
     },
     "output_type": "display_data"
    }
   ],
   "source": [
    "plt.plot(x, glx.detach().numpy())\n",
    "plt.plot(x, gsx.detach().numpy())"
   ]
  },
  {
   "cell_type": "code",
   "execution_count": 23,
   "id": "76d6163d",
   "metadata": {},
   "outputs": [],
   "source": [
    "class custom_loss(nn.Module):\n",
    "    def __init__(self):\n",
    "        super(custom_loss, self).__init__()\n",
    "\n",
    "        # Initialize parameters\n",
    "        self.a = nn.Parameter(torch.tensor(0.1), requires_grad=True)\n",
    "        \n",
    "    def forward(self, c1l, c1r, c2l, c2r):\n",
    "        return self.a * nn.MSELoss()(c1l, c1r) + (1 - self.a) * nn.MSELoss()(c2l, c2r)"
   ]
  },
  {
   "cell_type": "code",
   "execution_count": 34,
   "id": "444e0332",
   "metadata": {
    "scrolled": false
   },
   "outputs": [
    {
     "name": "stdout",
     "output_type": "stream",
     "text": [
      "tensor(41871812., grad_fn=<AddBackward0>)\n",
      "tensor(56252.7695, grad_fn=<AddBackward0>)\n",
      "tensor(826.3285, grad_fn=<AddBackward0>)\n",
      "tensor(826.1981, grad_fn=<AddBackward0>)\n",
      "tensor(826.0547, grad_fn=<AddBackward0>)\n",
      "tensor(825.8832, grad_fn=<AddBackward0>)\n",
      "tensor(825.6785, grad_fn=<AddBackward0>)\n",
      "tensor(825.4075, grad_fn=<AddBackward0>)\n",
      "tensor(825.1711, grad_fn=<AddBackward0>)\n",
      "tensor(824.8170, grad_fn=<AddBackward0>)\n",
      "tensor(824.4400, grad_fn=<AddBackward0>)\n",
      "tensor(823.9856, grad_fn=<AddBackward0>)\n",
      "tensor(823.4084, grad_fn=<AddBackward0>)\n",
      "tensor(822.8098, grad_fn=<AddBackward0>)\n",
      "tensor(822.1285, grad_fn=<AddBackward0>)\n",
      "tensor(821.3560, grad_fn=<AddBackward0>)\n",
      "tensor(820.4435, grad_fn=<AddBackward0>)\n",
      "tensor(819.4537, grad_fn=<AddBackward0>)\n",
      "tensor(818.3813, grad_fn=<AddBackward0>)\n",
      "tensor(817.1226, grad_fn=<AddBackward0>)\n",
      "tensor(815.7252, grad_fn=<AddBackward0>)\n",
      "tensor(814.1904, grad_fn=<AddBackward0>)\n",
      "tensor(812.4620, grad_fn=<AddBackward0>)\n",
      "tensor(810.5052, grad_fn=<AddBackward0>)\n",
      "tensor(808.3943, grad_fn=<AddBackward0>)\n",
      "tensor(806.0920, grad_fn=<AddBackward0>)\n",
      "tensor(803.4691, grad_fn=<AddBackward0>)\n",
      "tensor(800.6013, grad_fn=<AddBackward0>)\n",
      "tensor(797.4405, grad_fn=<AddBackward0>)\n",
      "tensor(793.9735, grad_fn=<AddBackward0>)\n",
      "tensor(790.1239, grad_fn=<AddBackward0>)\n",
      "tensor(785.8955, grad_fn=<AddBackward0>)\n",
      "tensor(781.2227, grad_fn=<AddBackward0>)\n",
      "tensor(776.0972, grad_fn=<AddBackward0>)\n",
      "tensor(770.4976, grad_fn=<AddBackward0>)\n",
      "tensor(764.2827, grad_fn=<AddBackward0>)\n",
      "tensor(757.4769, grad_fn=<AddBackward0>)\n",
      "tensor(750.0711, grad_fn=<AddBackward0>)\n",
      "tensor(741.8844, grad_fn=<AddBackward0>)\n",
      "tensor(732.9383, grad_fn=<AddBackward0>)\n",
      "tensor(723.1534, grad_fn=<AddBackward0>)\n",
      "tensor(712.4827, grad_fn=<AddBackward0>)\n",
      "tensor(700.5371, grad_fn=<AddBackward0>)\n",
      "tensor(687.2301, grad_fn=<AddBackward0>)\n",
      "tensor(672.7769, grad_fn=<AddBackward0>)\n",
      "tensor(657.2189, grad_fn=<AddBackward0>)\n",
      "tensor(640.3727, grad_fn=<AddBackward0>)\n",
      "tensor(622.2387, grad_fn=<AddBackward0>)\n",
      "tensor(602.6675, grad_fn=<AddBackward0>)\n",
      "tensor(581.5748, grad_fn=<AddBackward0>)\n",
      "tensor(559.0040, grad_fn=<AddBackward0>)\n",
      "tensor(534.8345, grad_fn=<AddBackward0>)\n",
      "tensor(509.5615, grad_fn=<AddBackward0>)\n",
      "tensor(483.9479, grad_fn=<AddBackward0>)\n",
      "tensor(453.2428, grad_fn=<AddBackward0>)\n",
      "tensor(417.1471, grad_fn=<AddBackward0>)\n",
      "tensor(352.8653, grad_fn=<AddBackward0>)\n",
      "tensor(311.0573, grad_fn=<AddBackward0>)\n",
      "tensor(272.0060, grad_fn=<AddBackward0>)\n",
      "tensor(238.7305, grad_fn=<AddBackward0>)\n",
      "tensor(208.6438, grad_fn=<AddBackward0>)\n",
      "tensor(180.1358, grad_fn=<AddBackward0>)\n",
      "tensor(153.1400, grad_fn=<AddBackward0>)\n",
      "tensor(129.0021, grad_fn=<AddBackward0>)\n",
      "tensor(108.8510, grad_fn=<AddBackward0>)\n",
      "tensor(93.0204, grad_fn=<AddBackward0>)\n",
      "tensor(79.8528, grad_fn=<AddBackward0>)\n",
      "tensor(69.3160, grad_fn=<AddBackward0>)\n",
      "tensor(59.8975, grad_fn=<AddBackward0>)\n",
      "tensor(50.7784, grad_fn=<AddBackward0>)\n",
      "tensor(43.4930, grad_fn=<AddBackward0>)\n",
      "tensor(38.2759, grad_fn=<AddBackward0>)\n",
      "tensor(31.5845, grad_fn=<AddBackward0>)\n",
      "tensor(27.3235, grad_fn=<AddBackward0>)\n",
      "tensor(23.2663, grad_fn=<AddBackward0>)\n",
      "tensor(20.7876, grad_fn=<AddBackward0>)\n",
      "tensor(17.7608, grad_fn=<AddBackward0>)\n",
      "tensor(15.0566, grad_fn=<AddBackward0>)\n",
      "tensor(13.0523, grad_fn=<AddBackward0>)\n",
      "tensor(11.2583, grad_fn=<AddBackward0>)\n",
      "tensor(9.7451, grad_fn=<AddBackward0>)\n",
      "tensor(11.7391, grad_fn=<AddBackward0>)\n",
      "tensor(7.7731, grad_fn=<AddBackward0>)\n",
      "tensor(6.5121, grad_fn=<AddBackward0>)\n",
      "tensor(5.7622, grad_fn=<AddBackward0>)\n",
      "tensor(5.0381, grad_fn=<AddBackward0>)\n",
      "tensor(4.3427, grad_fn=<AddBackward0>)\n",
      "tensor(3.6836, grad_fn=<AddBackward0>)\n",
      "tensor(3.0726, grad_fn=<AddBackward0>)\n",
      "tensor(2.5891, grad_fn=<AddBackward0>)\n",
      "tensor(2.2038, grad_fn=<AddBackward0>)\n",
      "tensor(1.8566, grad_fn=<AddBackward0>)\n",
      "tensor(1.6120, grad_fn=<AddBackward0>)\n",
      "tensor(2.6360, grad_fn=<AddBackward0>)\n",
      "tensor(1.0744, grad_fn=<AddBackward0>)\n",
      "tensor(4.5181, grad_fn=<AddBackward0>)\n",
      "tensor(1.2691, grad_fn=<AddBackward0>)\n",
      "tensor(0.6638, grad_fn=<AddBackward0>)\n",
      "tensor(1.3609, grad_fn=<AddBackward0>)\n",
      "tensor(0.4007, grad_fn=<AddBackward0>)\n"
     ]
    }
   ],
   "source": [
    "#loss_fn = nn.MSELoss()\n",
    "\n",
    "opt1 = torch.optim.Adam(seq1.parameters(), lr=0.00001/2)\n",
    "opt2 = torch.optim.Adam(seq2.parameters(), lr=0.00001/2)\n",
    "nr_epochs = 20000\n",
    "\n",
    "loss_fn = custom_loss()\n",
    "\n",
    "for i in range(nr_epochs):\n",
    "    inp = torch.tensor([tk/1000], dtype=torch.float)\n",
    "    xl, xs = seq1(torch.hstack((glx, gsx)).float()/1000)#, seq2(gsx.float()/1000)\n",
    "\n",
    "    gl, gs, glxl, gsxs = funcs(xl, xs, tk, a=a, b=b)\n",
    "    \n",
    "    opt1.zero_grad(), opt2.zero_grad()\n",
    "    #loss = loss_fn(gl - xl * glxl, gs - xs * gsxs) + loss_fn(gsxs, glxl)\n",
    "    loss = loss_fn(gl - xl * glxl, gs - xs * gsxs, gsxs, glxl)\n",
    "    if i % (nr_epochs / 100) == 0:\n",
    "        print(loss)\n",
    "    loss.backward()\n",
    "    opt1.step(), opt2.step()\n",
    "    #print()"
   ]
  },
  {
   "cell_type": "code",
   "execution_count": 35,
   "id": "fb33eb70",
   "metadata": {},
   "outputs": [
    {
     "name": "stdout",
     "output_type": "stream",
     "text": [
      "\n",
      "tensor(0.5902, grad_fn=<UnbindBackward0>)\n",
      "tensor(0.6008, grad_fn=<UnbindBackward0>)\n",
      "\n",
      "tensor(7609.9995, grad_fn=<AddBackward0>)\n",
      "tensor(7610.5762, grad_fn=<SubBackward0>)\n",
      "\n",
      "tensor(-15658.6709, grad_fn=<SubBackward0>)\n",
      "tensor(-15657.1826, grad_fn=<SubBackward0>)\n"
     ]
    }
   ],
   "source": [
    "print()\n",
    "print(xl)\n",
    "print(xs)\n",
    "print()\n",
    "print(glxl)\n",
    "print(gsxs)\n",
    "print()\n",
    "print(gl - xl * glxl)\n",
    "print(gs - xs * gsxs)"
   ]
  },
  {
   "cell_type": "code",
   "execution_count": null,
   "id": "0663dfca",
   "metadata": {},
   "outputs": [],
   "source": []
  }
 ],
 "metadata": {
  "kernelspec": {
   "display_name": "Python 3 (ipykernel)",
   "language": "python",
   "name": "python3"
  },
  "language_info": {
   "codemirror_mode": {
    "name": "ipython",
    "version": 3
   },
   "file_extension": ".py",
   "mimetype": "text/x-python",
   "name": "python",
   "nbconvert_exporter": "python",
   "pygments_lexer": "ipython3",
   "version": "3.8.12"
  }
 },
 "nbformat": 4,
 "nbformat_minor": 5
}
