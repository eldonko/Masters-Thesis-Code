{
 "cells": [
  {
   "cell_type": "code",
   "execution_count": 1,
   "id": "37c11d4d",
   "metadata": {},
   "outputs": [],
   "source": [
    "import numpy as np\n",
    "import torch\n",
    "import torch.nn as nn\n",
    "from torch.autograd import grad\n",
    "import matplotlib.pyplot as plt"
   ]
  },
  {
   "cell_type": "code",
   "execution_count": 2,
   "id": "9107f667",
   "metadata": {},
   "outputs": [],
   "source": [
    "tk = 1313\n",
    "R = 8.3143\n",
    "\n",
    "gagfcc=-7209.5+118.2007*tk\n",
    "gagl=3815.93+109.3029*tk-1.044523e-20*tk**7\n",
    "glag=gagl-gagfcc;\n",
    "gaufcc=-15745+225.14*tk\n",
    "gaul=-3352+215.88*tk-3.5899325e-21*tk**7\n",
    "glau1=gaul-gaufcc\n",
    "glau=12552-9.385866*tk"
   ]
  },
  {
   "cell_type": "code",
   "execution_count": 3,
   "id": "5827dda7",
   "metadata": {},
   "outputs": [],
   "source": [
    "def funcs(xl, xs, tk):\n",
    "    gl = (1-xl)*glag+xl*glau1+R*tk*((1-xl)*torch.log(1-xl)+xl*torch.log(xl))+(1-xl)*xl*(-16402+1.14*tk)\n",
    "    gs = R*tk*((1-xs)*torch.log(1-xs)+xs*torch.log(xs))+(1-xs)*xs*(-15599)\n",
    "    glxl = 1367.57-0.3622*tk+0.68552975*10**-20*tk**7+R*tk*(-torch.log(1-xl)+torch.log(xl))-xl*(-16402+1.14*tk)+(1-xl)*(-16402+1.14*tk)\n",
    "    gsxs = R*tk*(-torch.log(1-xs)+torch.log(xs))+31198*xs-15599\n",
    "    \n",
    "    return gl, gs, glxl, gsxs"
   ]
  },
  {
   "cell_type": "code",
   "execution_count": 4,
   "id": "375fab70",
   "metadata": {},
   "outputs": [],
   "source": [
    "seq1 = nn.Sequential(\n",
    "    nn.Linear(100, 64),\n",
    "    nn.ReLU(),\n",
    "    nn.Linear(64, 32),\n",
    "    nn.ReLU(),\n",
    "    nn.Linear(32, 16),\n",
    "    nn.ReLU(),\n",
    "    nn.Linear(16, 1),\n",
    "    nn.Sigmoid()\n",
    "    )\n",
    "\n",
    "seq2 = nn.Sequential(\n",
    "    nn.Linear(100, 64),\n",
    "    nn.ReLU(),\n",
    "    nn.Linear(64, 32),\n",
    "    nn.ReLU(),\n",
    "    nn.Linear(32, 16),\n",
    "    nn.ReLU(),\n",
    "    nn.Linear(16, 1),\n",
    "    nn.Sigmoid()\n",
    "    )"
   ]
  },
  {
   "cell_type": "code",
   "execution_count": 39,
   "id": "c64b56b0",
   "metadata": {},
   "outputs": [],
   "source": [
    "x = torch.arange(1e-6, 100, step=101/100, requires_grad=True)/100"
   ]
  },
  {
   "cell_type": "code",
   "execution_count": 6,
   "id": "3bd43358",
   "metadata": {},
   "outputs": [],
   "source": [
    "glx, gsx, glxlx, gsxsx = funcs(x, x, tk)"
   ]
  },
  {
   "cell_type": "code",
   "execution_count": null,
   "id": "444e0332",
   "metadata": {
    "scrolled": false
   },
   "outputs": [],
   "source": [
    "loss_fn = nn.MSELoss()\n",
    "\n",
    "opt1 = torch.optim.Adam(seq1.parameters(), lr=0.0001/2)\n",
    "opt2 = torch.optim.Adam(seq2.parameters(), lr=0.0001/2)\n",
    "nr_epochs = 15000\n",
    "inp = torch.tensor([tk/1000], dtype=torch.float)\n",
    "\n",
    "for i in range(nr_epochs):\n",
    "    xl, xs = seq1(glx/1000), seq2(gsx/1000)\n",
    "    #print(xl, xs)\n",
    "\n",
    "    gl, gs, glxl, gsxs = funcs(xl, xs, tk)\n",
    "    #print(glxl, gsxs)\n",
    "    #print(gl - xl * glxl, gs - xs * gsxs)\n",
    "    \n",
    "    opt1.zero_grad(), opt2.zero_grad()\n",
    "    loss = loss_fn(gl - xl * glxl, gs - xs * gsxs) + loss_fn(gsxs, glxl)\n",
    "    if i % (nr_epochs / 100) == 0:\n",
    "        print(loss)\n",
    "    loss.backward()\n",
    "    opt1.step(), opt2.step()\n",
    "    #print()\n",
    "\n",
    "print()\n",
    "print(xl, xs)\n",
    "print(glxl, gsxs)\n",
    "print(gl - xl * glxl, gs - xs * gsxs)"
   ]
  },
  {
   "cell_type": "code",
   "execution_count": 72,
   "id": "fa38b917",
   "metadata": {},
   "outputs": [],
   "source": [
    "x2 = (x * 1.00) ** 3 #- 12000"
   ]
  },
  {
   "cell_type": "code",
   "execution_count": 29,
   "id": "9cc6ff44",
   "metadata": {},
   "outputs": [],
   "source": [
    "xl, xs = seq1(x2), seq2(gsx/1000)"
   ]
  },
  {
   "cell_type": "code",
   "execution_count": 30,
   "id": "571ab4ae",
   "metadata": {},
   "outputs": [
    {
     "name": "stdout",
     "output_type": "stream",
     "text": [
      "tensor([1.], grad_fn=<SigmoidBackward0>) tensor([0.6026], grad_fn=<SigmoidBackward0>)\n"
     ]
    }
   ],
   "source": [
    "print(xl, xs)"
   ]
  },
  {
   "cell_type": "code",
   "execution_count": 26,
   "id": "5568b792",
   "metadata": {},
   "outputs": [
    {
     "data": {
      "text/plain": [
       "[<matplotlib.lines.Line2D at 0x28557a2a250>]"
      ]
     },
     "execution_count": 26,
     "metadata": {},
     "output_type": "execute_result"
    },
    {
     "data": {
      "image/png": "[encoded data removed]",
      "text/plain": [
       "<Figure size 432x288 with 1 Axes>"
      ]
     },
     "metadata": {
      "needs_background": "light"
     },
     "output_type": "display_data"
    }
   ],
   "source": [
    "plt.plot(x, x2)\n",
    "plt.plot(x, gsx)"
   ]
  },
  {
   "cell_type": "code",
   "execution_count": 73,
   "id": "8549d8ee",
   "metadata": {},
   "outputs": [
    {
     "name": "stdout",
     "output_type": "stream",
     "text": [
      "dy/da:\n",
      " tensor([3.0000e-16, 3.0603e-04, 1.2241e-03, 2.7543e-03, 4.8965e-03, 7.6508e-03,\n",
      "        1.1017e-02, 1.4995e-02, 1.9586e-02, 2.4788e-02, 3.0603e-02, 3.7030e-02,\n",
      "        4.4068e-02, 5.1719e-02, 5.9982e-02, 6.8857e-02, 7.8344e-02, 8.8443e-02,\n",
      "        9.9154e-02, 1.1048e-01, 1.2241e-01, 1.3496e-01, 1.4812e-01, 1.6189e-01,\n",
      "        1.7627e-01, 1.9127e-01, 2.0688e-01, 2.2310e-01, 2.3993e-01, 2.5737e-01,\n",
      "        2.7543e-01, 2.9409e-01, 3.1337e-01, 3.3327e-01, 3.5377e-01, 3.7489e-01,\n",
      "        3.9661e-01, 4.1896e-01, 4.4191e-01, 4.6547e-01, 4.8965e-01, 5.1444e-01,\n",
      "        5.3984e-01, 5.6585e-01, 5.9247e-01, 6.1971e-01, 6.4756e-01, 6.7602e-01,\n",
      "        7.0509e-01, 7.3478e-01, 7.6507e-01, 7.9598e-01, 8.2751e-01, 8.5964e-01,\n",
      "        8.9238e-01, 9.2574e-01, 9.5971e-01, 9.9429e-01, 1.0295e+00, 1.0653e+00,\n",
      "        1.1017e+00, 1.1387e+00, 1.1764e+00, 1.2146e+00, 1.2535e+00, 1.2930e+00,\n",
      "        1.3331e+00, 1.3738e+00, 1.4151e+00, 1.4570e+00, 1.4995e+00, 1.5427e+00,\n",
      "        1.5865e+00, 1.6308e+00, 1.6758e+00, 1.7214e+00, 1.7676e+00, 1.8145e+00,\n",
      "        1.8619e+00, 1.9099e+00, 1.9586e+00, 2.0079e+00, 2.0577e+00, 2.1082e+00,\n",
      "        2.1593e+00, 2.2111e+00, 2.2634e+00, 2.3163e+00, 2.3699e+00, 2.4241e+00,\n",
      "        2.4788e+00, 2.5342e+00, 2.5902e+00, 2.6469e+00, 2.7041e+00, 2.7619e+00,\n",
      "        2.8204e+00, 2.8794e+00, 2.9391e+00, 2.9994e+00])\n"
     ]
    }
   ],
   "source": [
    "dx2_dx = grad(outputs=x2, inputs=x, grad_outputs=torch.ones_like(x2))[0]\n",
    "print(f'dy/da:\\n {dx2_dx}')"
   ]
  },
  {
   "cell_type": "code",
   "execution_count": 75,
   "id": "5fa55da8",
   "metadata": {},
   "outputs": [
    {
     "data": {
      "text/plain": [
       "[<matplotlib.lines.Line2D at 0x285580a8c10>]"
      ]
     },
     "execution_count": 75,
     "metadata": {},
     "output_type": "execute_result"
    },
    {
     "data": {
      "image/png": "[encoded data removed]",
      "text/plain": [
       "<Figure size 432x288 with 1 Axes>"
      ]
     },
     "metadata": {
      "needs_background": "light"
     },
     "output_type": "display_data"
    }
   ],
   "source": [
    "plt.plot(x.detach().numpy(), x2.detach().numpy())\n",
    "plt.plot(x.detach().numpy(), x.detach().numpy() ** 2)"
   ]
  },
  {
   "cell_type": "code",
   "execution_count": 77,
   "id": "0edee845",
   "metadata": {},
   "outputs": [
    {
     "data": {
      "text/plain": [
       "[<matplotlib.lines.Line2D at 0x285581796a0>]"
      ]
     },
     "execution_count": 77,
     "metadata": {},
     "output_type": "execute_result"
    },
    {
     "data": {
      "image/png": "[encoded data removed]",
      "text/plain": [
       "<Figure size 432x288 with 1 Axes>"
      ]
     },
     "metadata": {
      "needs_background": "light"
     },
     "output_type": "display_data"
    }
   ],
   "source": [
    "plt.plot(x.detach().numpy(), dx2_dx.detach().numpy())\n",
    "plt.plot(x.detach().numpy(), x.detach().numpy())"
   ]
  },
  {
   "cell_type": "code",
   "execution_count": null,
   "id": "6439a315",
   "metadata": {},
   "outputs": [],
   "source": []
  }
 ],
 "metadata": {
  "kernelspec": {
   "display_name": "Python 3 (ipykernel)",
   "language": "python",
   "name": "python3"
  },
  "language_info": {
   "codemirror_mode": {
    "name": "ipython",
    "version": 3
   },
   "file_extension": ".py",
   "mimetype": "text/x-python",
   "name": "python",
   "nbconvert_exporter": "python",
   "pygments_lexer": "ipython3",
   "version": "3.8.12"
  }
 },
 "nbformat": 4,
 "nbformat_minor": 5
}
