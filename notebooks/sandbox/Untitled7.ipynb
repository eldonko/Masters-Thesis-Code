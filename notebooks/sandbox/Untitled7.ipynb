{
 "cells": [
  {
   "cell_type": "code",
   "execution_count": 1,
   "id": "79293a17",
   "metadata": {},
   "outputs": [],
   "source": [
    "import matplotlib.pyplot as plt\n",
    "import pandas as pd\n",
    "import torch\n",
    "import torch.nn as nn\n",
    "from torch.optim import Adam\n",
    "from torch.utils.data import DataLoader\n",
    "\n",
    "from binarypredictor import split_functions\n",
    "from binarypredictor.dataset import FunctionPairDataset\n",
    "from binarypredictor.net import DerivativeNet, TangentNet"
   ]
  },
  {
   "cell_type": "code",
   "execution_count": 2,
   "id": "d943f30b",
   "metadata": {},
   "outputs": [],
   "source": [
    "out_features = 500\n",
    "in_features = out_features"
   ]
  },
  {
   "cell_type": "code",
   "execution_count": 3,
   "id": "892c172d",
   "metadata": {},
   "outputs": [],
   "source": [
    "net_0 = DerivativeNet(train=False, net='FirstDerivativeNet_250_s.pth')\n",
    "net_1 = DerivativeNet(train=False, net='SecondDerivativeNet_250_s.pth')"
   ]
  },
  {
   "cell_type": "code",
   "execution_count": 4,
   "id": "1344b495",
   "metadata": {},
   "outputs": [],
   "source": [
    "fpd = FunctionPairDataset(n_functions=1000, filename=\"test_.csv\", overwrite=False, step=1/in_features)\n",
    "fpd.create_functions()"
   ]
  },
  {
   "cell_type": "code",
   "execution_count": 5,
   "id": "d5e8af31",
   "metadata": {},
   "outputs": [],
   "source": [
    "x = torch.arange(1e-10, 1., step=fpd.step)"
   ]
  },
  {
   "cell_type": "code",
   "execution_count": 14,
   "id": "cd5c836d",
   "metadata": {},
   "outputs": [
    {
     "name": "stdout",
     "output_type": "stream",
     "text": [
      "[{'o': 0, 'T': 2021.3972702069009, 'tm1': 1535.3910315932442, 'tm2': 291.0869538910844, 'tm': 913.2389927421643, 'a': -22778.006956975063, 's1': 1.2537977923922594, 's2': 8.443917957196431}, {'o': 0, 'T': 2021.3972702069009, 'tm1': 1535.3910315932442, 'tm2': 291.0869538910844, 'tm': 913.2389927421643, 'a': 7592.668985658354, 's1': 0, 's2': 0}]\n"
     ]
    }
   ],
   "source": [
    "d = fpd[2]\n",
    "print(d[1])\n",
    "scale = d[2].unsqueeze(-1)\n",
    "inp = torch.hstack((d[0][:, 0], d[0][:, 1]))"
   ]
  },
  {
   "cell_type": "code",
   "execution_count": 15,
   "id": "9450e775",
   "metadata": {},
   "outputs": [
    {
     "data": {
      "image/png": "[encoded data removed]",
      "text/plain": [
       "<Figure size 432x288 with 1 Axes>"
      ]
     },
     "metadata": {
      "needs_background": "light"
     },
     "output_type": "display_data"
    }
   ],
   "source": [
    "plt.plot(x, d[0][:, 0])\n",
    "plt.plot(x, d[0][:, 1])\n",
    "plt.show()"
   ]
  },
  {
   "cell_type": "code",
   "execution_count": 8,
   "id": "0f54148e",
   "metadata": {},
   "outputs": [
    {
     "name": "stdout",
     "output_type": "stream",
     "text": [
      "([], [])\n"
     ]
    }
   ],
   "source": [
    "new_idx = torch.arange(1, len(d[0][:, 0]), 2)\n",
    "inp_ = d[0][new_idx].unsqueeze(0)\n",
    "splits = split_functions(net_0, net_1, inp_)"
   ]
  },
  {
   "cell_type": "code",
   "execution_count": null,
   "id": "2fe9dbd6",
   "metadata": {},
   "outputs": [],
   "source": []
  }
 ],
 "metadata": {
  "kernelspec": {
   "display_name": "Python 3 (ipykernel)",
   "language": "python",
   "name": "python3"
  },
  "language_info": {
   "codemirror_mode": {
    "name": "ipython",
    "version": 3
   },
   "file_extension": ".py",
   "mimetype": "text/x-python",
   "name": "python",
   "nbconvert_exporter": "python",
   "pygments_lexer": "ipython3",
   "version": "3.8.12"
  }
 },
 "nbformat": 4,
 "nbformat_minor": 5
}
