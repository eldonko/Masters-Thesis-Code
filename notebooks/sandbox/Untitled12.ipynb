{
 "cells": [
  {
   "cell_type": "code",
   "execution_count": 1,
   "id": "cc4cd1da",
   "metadata": {},
   "outputs": [],
   "source": [
    "import json \n",
    "\n",
    "import matplotlib.pyplot as plt\n",
    "import numpy as np\n",
    "import torch\n",
    "\n",
    "from binarypredictor.datagen import DataGenerator, PolyGenerator"
   ]
  },
  {
   "cell_type": "code",
   "execution_count": 2,
   "id": "12d5dba5",
   "metadata": {},
   "outputs": [
    {
     "name": "stdout",
     "output_type": "stream",
     "text": [
      "Order of polynomial p:  3\n",
      "Order of polynomial q:  3\n",
      "{0: {'p': array([  -8.2746,   56.7711, -110.2314,   63.7286]), 'q': [2.5769, -21.2338, 43.7691, -26.9073], 'pts': [(0.4303, 0.7958), (0.7589, 0.3518)]}}\n"
     ]
    },
    {
     "data": {
      "image/png": "[encoded data removed]",
      "text/plain": [
       "<Figure size 432x288 with 1 Axes>"
      ]
     },
     "metadata": {
      "needs_background": "light"
     },
     "output_type": "display_data"
    }
   ],
   "source": [
    "dg = DataGenerator()\n",
    "dg.generate_data(1)"
   ]
  },
  {
   "cell_type": "code",
   "execution_count": 2,
   "id": "f9b931a0",
   "metadata": {},
   "outputs": [],
   "source": [
    "pg = PolyGenerator(2)\n",
    "\n",
    "x = np.arange(0, 101)/100\n",
    "\n",
    "pg.add_constraint(np.array([0.6]), 0, -5)\n",
    "pg.add_constraint(np.array([0.2]), 0, 5)\n",
    "pg.add_constraint(np.array([1.0]), 0, 5)"
   ]
  },
  {
   "cell_type": "code",
   "execution_count": 5,
   "id": "cb684b7b",
   "metadata": {},
   "outputs": [],
   "source": [
    "qg = PolyGenerator(2)\n",
    "\n",
    "x = np.arange(0, 101)/100\n",
    "\n",
    "qg.add_constraint(np.array([0.4]), 0, -5)\n",
    "qg.add_constraint(np.array([0.0]), 0, 5)\n",
    "qg.add_constraint(np.array([0.8]), 0, 5)"
   ]
  },
  {
   "cell_type": "code",
   "execution_count": 6,
   "id": "8832491d",
   "metadata": {},
   "outputs": [
    {
     "data": {
      "text/plain": [
       "<matplotlib.legend.Legend at 0x140d972c520>"
      ]
     },
     "execution_count": 6,
     "metadata": {},
     "output_type": "execute_result"
    },
    {
     "data": {
      "image/png": "[encoded data removed]",
      "text/plain": [
       "<Figure size 432x288 with 1 Axes>"
      ]
     },
     "metadata": {
      "needs_background": "light"
     },
     "output_type": "display_data"
    }
   ],
   "source": [
    "p = pg.get_values()\n",
    "q = qg.get_values()\n",
    "\n",
    "plt.plot(pg.x, p, label='p')\n",
    "plt.plot(qg.x, q, label='q')\n",
    "plt.legend()"
   ]
  },
  {
   "cell_type": "code",
   "execution_count": 7,
   "id": "ca8ba38d",
   "metadata": {},
   "outputs": [],
   "source": [
    "x0s = np.arange(0., 1.1, step=0.1)"
   ]
  },
  {
   "cell_type": "code",
   "execution_count": 8,
   "id": "688b8e49",
   "metadata": {
    "scrolled": false
   },
   "outputs": [
    {
     "name": "stdout",
     "output_type": "stream",
     "text": [
      "[(0.6, 0.4)]\n",
      "{'p': [17.5, -75.0, 62.5], 'q': [5.0, -50.0, 62.5], 'pts': [(0.6, 0.4)]}\n"
     ]
    }
   ],
   "source": [
    "f1 = lambda x: pg.get_value_at_x(np.array([x]), 0)\n",
    "df1 = lambda x: pg.get_value_at_x(np.array([x]), 1)\n",
    "f2 = lambda x: qg.get_value_at_x(np.array([x]), 0)\n",
    "df2 = lambda x: qg.get_value_at_x(np.array([x]), 1)\n",
    "\n",
    "pts = []\n",
    "\n",
    "def eqns(x):\n",
    "    x1, x2 = x[0], x[1]\n",
    "    eq1 = (df1(x1) - df2(x2))[0]\n",
    "    eq2 = (df1(x1)*(x1 - x2) - (f1(x1) - f2(x2)))[0]\n",
    "    return [eq1, eq2]\n",
    "\n",
    "from scipy.optimize import least_squares\n",
    "lb = (0, 0)   # lower bounds on x1, x2\n",
    "ub = (1, 1)    # upper bounds\n",
    "\n",
    "for x0i in x0s:\n",
    "    for x0j in x0s:\n",
    "        res = least_squares(eqns, [x0i, x0j], bounds=(lb, ub)) \n",
    "        x1, x2 = res.x.round(decimals=4)\n",
    "        if res.cost < 1e-10 and (x1, x2) not in pts:\n",
    "            pts.append((x1, x2))\n",
    "\n",
    "print(pts)\n",
    "dictionary = {'p': list(pg.c.round(decimals=4)), 'q': list(qg.c.round(decimals=4)), 'pts': pts}\n",
    "print(dictionary)"
   ]
  },
  {
   "cell_type": "code",
   "execution_count": 8,
   "id": "7eb1bc66",
   "metadata": {},
   "outputs": [
    {
     "name": "stdout",
     "output_type": "stream",
     "text": [
      "{\n",
      "    \"p\": [\n",
      "        17.5,\n",
      "        -75.0,\n",
      "        62.5\n",
      "    ],\n",
      "    \"q\": [\n",
      "        10.625,\n",
      "        -62.5,\n",
      "        62.5\n",
      "    ],\n",
      "    \"pts\": [\n",
      "        [\n",
      "            0.6,\n",
      "            0.5\n",
      "        ]\n",
      "    ]\n",
      "}\n"
     ]
    }
   ],
   "source": [
    "json_object = json.dumps(dictionary, indent = 4) \n",
    "print(json_object)"
   ]
  },
  {
   "cell_type": "code",
   "execution_count": 9,
   "id": "730dcc73",
   "metadata": {},
   "outputs": [],
   "source": [
    "with open('json_data.json', 'a') as outfile:\n",
    "    json.dump(dictionary, outfile)"
   ]
  },
  {
   "cell_type": "code",
   "execution_count": null,
   "id": "68264fb9",
   "metadata": {},
   "outputs": [],
   "source": []
  }
 ],
 "metadata": {
  "kernelspec": {
   "display_name": "Python 3 (ipykernel)",
   "language": "python",
   "name": "python3"
  },
  "language_info": {
   "codemirror_mode": {
    "name": "ipython",
    "version": 3
   },
   "file_extension": ".py",
   "mimetype": "text/x-python",
   "name": "python",
   "nbconvert_exporter": "python",
   "pygments_lexer": "ipython3",
   "version": "3.8.12"
  }
 },
 "nbformat": 4,
 "nbformat_minor": 5
}
