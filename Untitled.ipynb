{
 "cells": [
  {
   "cell_type": "code",
   "execution_count": 1,
   "id": "b34f850c",
   "metadata": {},
   "outputs": [],
   "source": [
    "from SGTE.SGTEHandler import SGTEHandler"
   ]
  },
  {
   "cell_type": "code",
   "execution_count": 2,
   "id": "1078ecec",
   "metadata": {},
   "outputs": [],
   "source": [
    "from ThermoClassifier.PhaseClassifier.net import PhaseClassifier"
   ]
  },
  {
   "cell_type": "code",
   "execution_count": 4,
   "id": "590c0aec",
   "metadata": {},
   "outputs": [
    {
     "name": "stdout",
     "output_type": "stream",
     "text": [
      "New network had to be initialized as no network exists for this element and measurement. Training necessary!\n"
     ]
    }
   ],
   "source": [
    "net = PhaseClassifier(element='Fe', train=False, measurement='G')"
   ]
  },
  {
   "cell_type": "code",
   "execution_count": null,
   "id": "20bd73db",
   "metadata": {},
   "outputs": [],
   "source": []
  }
 ],
 "metadata": {
  "kernelspec": {
   "display_name": "Python 3 (ipykernel)",
   "language": "python",
   "name": "python3"
  },
  "language_info": {
   "codemirror_mode": {
    "name": "ipython",
    "version": 3
   },
   "file_extension": ".py",
   "mimetype": "text/x-python",
   "name": "python",
   "nbconvert_exporter": "python",
   "pygments_lexer": "ipython3",
   "version": "3.8.12"
  }
 },
 "nbformat": 4,
 "nbformat_minor": 5
}
