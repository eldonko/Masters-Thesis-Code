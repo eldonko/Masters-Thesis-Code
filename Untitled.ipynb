{
 "cells": [
  {
   "cell_type": "code",
   "execution_count": 1,
   "id": "86f48880",
   "metadata": {},
   "outputs": [],
   "source": [
    "import torch\n",
    "import pandas as pd\n",
    "import matplotlib.pyplot as plt\n",
    "import seaborn as sns\n",
    "from mpl_toolkits.mplot3d import Axes3D\n",
    "from matplotlib.colors import ListedColormap\n",
    "import numpy as np\n",
    "from Data_Handling.SGTEHandler.Development.SGTEHandler import SGTEHandler"
   ]
  },
  {
   "cell_type": "code",
   "execution_count": 2,
   "id": "237b319e",
   "metadata": {},
   "outputs": [],
   "source": [
    "df = pd.DataFrame(np.random.randint(0,100,size=(15, 4)), columns=list('ABCD'))"
   ]
  },
  {
   "cell_type": "code",
   "execution_count": 3,
   "id": "ebc77fb9",
   "metadata": {
    "scrolled": false
   },
   "outputs": [
    {
     "name": "stdout",
     "output_type": "stream",
     "text": [
      "     A   B   C   D\n",
      "0   35  22  84  29\n",
      "1   92  80   5  60\n",
      "2   52  43  59  58\n",
      "3   90  77  89  23\n",
      "4   14  37  49  40\n",
      "5   43  55  27  54\n",
      "6   70  74  36  72\n",
      "7   24  27  75  99\n",
      "8   58  44  41  24\n",
      "9   26  29  71  61\n",
      "10  75  29  81   6\n",
      "11  39  23  19  85\n",
      "12  61  83  84  43\n",
      "13  50  87  64  59\n",
      "14  67  94  66  81\n",
      "[1 2 1 3 0 2 2 0 3 0 3 2 3 0 2]\n",
      "[22  5 43 23 14 27 36 24 24 26  6 19 43 50 66]\n"
     ]
    }
   ],
   "source": [
    "print(df)\n",
    "\n",
    "inds = np.argmin(df.values, axis=1)\n",
    "print(inds)\n",
    "\n",
    "print(df.values[np.arange(len(df)), inds])"
   ]
  },
  {
   "cell_type": "code",
   "execution_count": 4,
   "id": "35446c45",
   "metadata": {},
   "outputs": [],
   "source": [
    "sgte_handler = SGTEHandler('Fe')"
   ]
  },
  {
   "cell_type": "code",
   "execution_count": 6,
   "id": "91dea9da",
   "metadata": {},
   "outputs": [
    {
     "name": "stdout",
     "output_type": "stream",
     "text": [
      "[  -8155.56835938   -8182.96484375   -8210.43261719 ... -108036.6953125\n",
      " -108128.796875   -108221.25      ]\n"
     ]
    }
   ],
   "source": [
    "m = sgte_handler.get_stable_properties(200, 2000, 1e5, measurement='G')\n",
    "\n",
    "print(m)"
   ]
  },
  {
   "cell_type": "code",
   "execution_count": null,
   "id": "008ef521",
   "metadata": {},
   "outputs": [],
   "source": []
  }
 ],
 "metadata": {
  "kernelspec": {
   "display_name": "Python 3 (ipykernel)",
   "language": "python",
   "name": "python3"
  },
  "language_info": {
   "codemirror_mode": {
    "name": "ipython",
    "version": 3
   },
   "file_extension": ".py",
   "mimetype": "text/x-python",
   "name": "python",
   "nbconvert_exporter": "python",
   "pygments_lexer": "ipython3",
   "version": "3.8.12"
  }
 },
 "nbformat": 4,
 "nbformat_minor": 5
}
