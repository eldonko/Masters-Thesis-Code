{
 "cells": [
  {
   "cell_type": "code",
   "execution_count": 2,
   "id": "8008ae63",
   "metadata": {},
   "outputs": [
    {
     "ename": "ModuleNotFoundError",
     "evalue": "No module named 'Neural_Nets.LaengeNetModified.Development.LaengeNetModifiedTorch'",
     "output_type": "error",
     "traceback": [
      "\u001b[1;31m---------------------------------------------------------------------------\u001b[0m",
      "\u001b[1;31mModuleNotFoundError\u001b[0m                       Traceback (most recent call last)",
      "\u001b[1;32m<ipython-input-2-a62eab0d3937>\u001b[0m in \u001b[0;36m<module>\u001b[1;34m\u001b[0m\n\u001b[1;32m----> 1\u001b[1;33m \u001b[1;32mfrom\u001b[0m \u001b[0mNeural_Nets\u001b[0m\u001b[1;33m.\u001b[0m\u001b[0mLaengeNetModified\u001b[0m\u001b[1;33m.\u001b[0m\u001b[0mDevelopment\u001b[0m\u001b[1;33m.\u001b[0m\u001b[0mLaengeNetModifiedTorch\u001b[0m \u001b[1;32mimport\u001b[0m \u001b[0mLaengeNetModified\u001b[0m\u001b[1;33m,\u001b[0m \u001b[0mLaengeNetModifiedLossFunc\u001b[0m\u001b[1;33m\u001b[0m\u001b[1;33m\u001b[0m\u001b[0m\n\u001b[0m\u001b[0;32m      2\u001b[0m \u001b[1;32mfrom\u001b[0m \u001b[0mNeural_Nets\u001b[0m\u001b[1;33m.\u001b[0m\u001b[0mThermoDataset\u001b[0m\u001b[1;33m.\u001b[0m\u001b[0mDevelopment\u001b[0m\u001b[1;33m.\u001b[0m\u001b[0mThermoDataset\u001b[0m \u001b[1;32mimport\u001b[0m \u001b[0mThermoDataset\u001b[0m\u001b[1;33m\u001b[0m\u001b[1;33m\u001b[0m\u001b[0m\n\u001b[0;32m      3\u001b[0m \u001b[1;32mfrom\u001b[0m \u001b[0mUtils\u001b[0m\u001b[1;33m.\u001b[0m\u001b[0mPlotHandler\u001b[0m\u001b[1;33m.\u001b[0m\u001b[0mDevelopment\u001b[0m\u001b[1;33m.\u001b[0m\u001b[0mPlotHandler\u001b[0m \u001b[1;32mimport\u001b[0m \u001b[0mPlotHandler\u001b[0m\u001b[1;33m\u001b[0m\u001b[1;33m\u001b[0m\u001b[0m\n\u001b[0;32m      4\u001b[0m \u001b[1;32mimport\u001b[0m \u001b[0mtorch\u001b[0m\u001b[1;33m\u001b[0m\u001b[1;33m\u001b[0m\u001b[0m\n\u001b[0;32m      5\u001b[0m \u001b[1;32mfrom\u001b[0m \u001b[0mtorch\u001b[0m\u001b[1;33m.\u001b[0m\u001b[0mutils\u001b[0m\u001b[1;33m.\u001b[0m\u001b[0mdata\u001b[0m \u001b[1;32mimport\u001b[0m \u001b[0mDataLoader\u001b[0m\u001b[1;33m,\u001b[0m \u001b[0mDataset\u001b[0m\u001b[1;33m\u001b[0m\u001b[1;33m\u001b[0m\u001b[0m\n",
      "\u001b[1;31mModuleNotFoundError\u001b[0m: No module named 'Neural_Nets.LaengeNetModified.Development.LaengeNetModifiedTorch'"
     ]
    }
   ],
   "source": [
    "from Neural_Nets.LaengeNetModified.Development.LaengeNetModifiedTorch import LaengeNetModified, LaengeNetModifiedLossFunc\n",
    "from Neural_Nets.ThermoDataset.Development.ThermoDataset import ThermoDataset\n",
    "from Utils.PlotHandler.Development.PlotHandler import PlotHandler \n",
    "import torch\n",
    "from torch.utils.data import DataLoader, Dataset\n",
    "import torch.nn as nn\n",
    "from torch.optim import Rprop\n",
    "from Data_Handling.SGTEHandler.Development.SGTEHandler import SGTEHandler\n",
    "import numpy as np\n",
    "import matplotlib.pyplot as plt"
   ]
  },
  {
   "cell_type": "code",
   "execution_count": null,
   "id": "03f237e0",
   "metadata": {},
   "outputs": [],
   "source": []
  }
 ],
 "metadata": {
  "kernelspec": {
   "display_name": "Python 3 (ipykernel)",
   "language": "python",
   "name": "python3"
  },
  "language_info": {
   "codemirror_mode": {
    "name": "ipython",
    "version": 3
   },
   "file_extension": ".py",
   "mimetype": "text/x-python",
   "name": "python",
   "nbconvert_exporter": "python",
   "pygments_lexer": "ipython3",
   "version": "3.8.12"
  }
 },
 "nbformat": 4,
 "nbformat_minor": 5
}
