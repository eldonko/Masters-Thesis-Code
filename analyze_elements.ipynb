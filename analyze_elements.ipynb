{
 "cells": [
  {
   "cell_type": "code",
   "execution_count": 26,
   "id": "52e98d5f",
   "metadata": {},
   "outputs": [],
   "source": [
    "import periodictable\n",
    "import pandas as pd\n",
    "import matplotlib.pyplot as plt"
   ]
  },
  {
   "cell_type": "code",
   "execution_count": 8,
   "id": "29095452",
   "metadata": {},
   "outputs": [],
   "source": [
    "elements_SGTE = ['Ag', 'Al', 'As', 'Au', 'B', 'Ba', 'Be', 'Bi', 'C', 'Ca', 'Cd', 'Ce', 'Co', 'Cr', 'Cs', 'Cu', 'Dy', 'Er', \n",
    "            'Eu', 'Fe', 'Ga', 'Gd', 'Ge', 'Hf', 'Hg', 'Ho', 'In', 'Ir', 'K', 'La', 'Li', 'Lu', 'Mg', 'Mn', 'Mo', 'Na', \n",
    "            'Nb', 'Nd', 'Ni', 'Np', 'O', 'Os', 'P', 'Pa', 'Pb', 'Pd', 'Pr', 'Pt', 'Pu', 'Rb', 'Re', 'Rh', 'Ru', 'S', \n",
    "            'Sb', 'Sc', 'Se', 'Si', 'Sm', 'Sn', 'Sr', 'Ta', 'Tb', 'Tc', 'Te', 'Th', 'Ti', 'Tl', 'Tm', 'U', 'V', 'W', \n",
    "            'Y', 'Yb', 'Zn']"
   ]
  },
  {
   "cell_type": "code",
   "execution_count": 24,
   "id": "71fb29d2",
   "metadata": {},
   "outputs": [],
   "source": [
    "elements_df = pd.DataFrame(index=elements_SGTE, columns=['number', 'mass', 'density'])\n",
    "\n",
    "for element in periodictable.elements: \n",
    "    if element.symbol in elements_SGTE:\n",
    "        elements_df['number'][element.symbol] = element.number\n",
    "        elements_df['mass'][element.symbol] = element.mass\n",
    "        elements_df['density'][element.symbol] = element.density"
   ]
  },
  {
   "cell_type": "code",
   "execution_count": 46,
   "id": "bb4e8030",
   "metadata": {},
   "outputs": [
    {
     "name": "stdout",
     "output_type": "stream",
     "text": [
      "   number       mass density\n",
      "Ag     47   107.8682    10.5\n",
      "Al     13  26.981538  2.6989\n",
      "As     33    74.9216    5.73\n",
      "Au     79  196.96655    19.3\n",
      "B       5     10.811    2.34\n",
      "..    ...        ...     ...\n",
      "V      23    50.9415    6.11\n",
      "W      74     183.84    19.3\n",
      "Y      39   88.90585   4.469\n",
      "Yb     70     173.04   6.966\n",
      "Zn     30     65.409   7.133\n",
      "\n",
      "[75 rows x 3 columns]\n"
     ]
    }
   ],
   "source": [
    "print(elements_df)"
   ]
  },
  {
   "cell_type": "code",
   "execution_count": 48,
   "id": "6040eed0",
   "metadata": {},
   "outputs": [],
   "source": [
    "elements_df.to_excel(r\"C:\\Users\\danie\\Documents\\Montanuni\\Masterarbeit\\4_Daten\\Elements.xlsx\", sheet_name='Element data')"
   ]
  }
 ],
 "metadata": {
  "kernelspec": {
   "display_name": "Python 3 (ipykernel)",
   "language": "python",
   "name": "python3"
  },
  "language_info": {
   "codemirror_mode": {
    "name": "ipython",
    "version": 3
   },
   "file_extension": ".py",
   "mimetype": "text/x-python",
   "name": "python",
   "nbconvert_exporter": "python",
   "pygments_lexer": "ipython3",
   "version": "3.8.12"
  }
 },
 "nbformat": 4,
 "nbformat_minor": 5
}
