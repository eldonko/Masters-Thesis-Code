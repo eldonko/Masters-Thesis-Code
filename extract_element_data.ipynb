{
 "cells": [
  {
   "cell_type": "code",
   "execution_count": 1,
   "id": "8620fd83",
   "metadata": {},
   "outputs": [],
   "source": [
    "import os\n",
    "import pandas as pd\n",
    "import numpy as np"
   ]
  },
  {
   "cell_type": "code",
   "execution_count": 2,
   "id": "3bffb286",
   "metadata": {},
   "outputs": [],
   "source": [
    "dir_name = r\"C:\\Users\\danie\\Documents\\Montanuni\\Masterarbeit\\4_Daten\\SGTE Data\""
   ]
  },
  {
   "cell_type": "code",
   "execution_count": 3,
   "id": "e4254b5a",
   "metadata": {},
   "outputs": [
    {
     "name": "stdout",
     "output_type": "stream",
     "text": [
      "['FCC_A1', 'LIQUID', 'HCP_A3', 'BCC_A2', 'BCT_A5', 'CUB_A13', 'HCP_ZN', 'DIAMOND_A4', 'CBCC_A12', 'RHOMBOHEDRAL_A7', 'RED_P', 'DHCP', 'BETA_RHOMBO_B', 'GRAPHITE', 'TETRAGONAL_A6', 'TET_ALPHA1', 'RHOMBO_A10', 'ORTHORHOMBIC_A20', 'ORTHORHOMBIC_GA', 'GAS (1/2N2)', 'ORTHO_Ac', 'TETRAG_Ad', 'GAS (1/2O2<g>)', 'WHITE_P', 'BCT_Aa', 'ALPHA_PU', 'BETA_PU', 'GAMMA_PU', 'ORTHORHOMBIC_S', 'MONOCLINIC', 'HEXAGONAL_A8', 'RHOMB_C19', 'D', 'TETRAGONAL_U']\n",
      "['Ag', 'Al', 'As', 'Au', 'B', 'Ba', 'Be', 'Bi', 'C', 'Ca', 'Cd', 'Ce', 'Co', 'Cr', 'Cs', 'Cu', 'Dy', 'Er', 'Eu', 'Fe', 'Ga', 'Gd', 'Ge', 'Hf', 'Hg', 'Ho', 'In', 'Ir', 'K', 'La', 'Li', 'Lu', 'Mg', 'Mn', 'Mo', 'N', 'Na', 'Nb', 'Nd', 'Ni', 'Np', 'O', 'Os', 'P', 'Pa', 'Pb', 'Pd', 'Pr', 'Pt', 'Pu', 'Rb', 'Re', 'Rh', 'Ru', 'S', 'Sb', 'Sc', 'Se', 'Si', 'Sm', 'Sn', 'Sr', 'Ta', 'Tb', 'Tc', 'Te', 'Th', 'Ti', 'Tl', 'Tm', 'U', 'V', 'W', 'Y', 'Yb', 'Zn']\n"
     ]
    }
   ],
   "source": [
    "files = os.listdir(dir_name)\n",
    "\n",
    "unique_phases = []\n",
    "elements = []\n",
    "\n",
    "for f in files: \n",
    "    if '_' not in f:\n",
    "        elements.append(f.split('.')[0])\n",
    "        \n",
    "        data = pd.read_excel(os.path.join(dir_name, f))\n",
    "        for phase in data['Phase'].unique():\n",
    "            if phase not in unique_phases:\n",
    "                unique_phases.append(phase)\n",
    "\n",
    "print(unique_phases)\n",
    "print(elements)"
   ]
  },
  {
   "cell_type": "code",
   "execution_count": 4,
   "id": "8bdd6d4c",
   "metadata": {},
   "outputs": [],
   "source": [
    "elements_file = r\"C:\\Users\\danie\\Documents\\Montanuni\\Masterarbeit\\4_Daten\\Elements.xlsx\"\n",
    "\n",
    "elements_df = pd.DataFrame(columns=elements, index=unique_phases)\n",
    "elements_df.fillna(0, inplace=True)"
   ]
  },
  {
   "cell_type": "code",
   "execution_count": 5,
   "id": "2f3b4102",
   "metadata": {},
   "outputs": [],
   "source": [
    "for f in files:\n",
    "    if '_' not in f:\n",
    "        data = pd.read_excel(os.path.join(dir_name, f))\n",
    "        elements_df[f.split('.')[0]][data['Phase'].unique()] = 1"
   ]
  },
  {
   "cell_type": "code",
   "execution_count": 6,
   "id": "4160a234",
   "metadata": {},
   "outputs": [
    {
     "name": "stdout",
     "output_type": "stream",
     "text": [
      "                  Ag  Al  As  Au  B  Ba  Be  Bi  C  Ca  ...  Th  Ti  Tl  Tm  \\\n",
      "FCC_A1             1   1   1   1  1   1   1   1  0   1  ...   1   1   1   0   \n",
      "LIQUID             1   1   1   1  1   1   1   1  1   1  ...   1   1   1   1   \n",
      "HCP_A3             1   1   1   1  1   1   1   1  0   1  ...   0   1   1   1   \n",
      "BCC_A2             1   1   1   1  1   1   1   1  0   1  ...   1   1   1   0   \n",
      "BCT_A5             1   1   0   0  0   0   0   1  0   0  ...   0   1   0   0   \n",
      "CUB_A13            1   1   0   0  0   0   0   0  0   0  ...   0   1   0   0   \n",
      "HCP_ZN             1   1   0   0  0   0   0   0  0   0  ...   0   0   0   0   \n",
      "DIAMOND_A4         0   1   0   0  1   0   0   1  1   0  ...   0   1   0   0   \n",
      "CBCC_A12           0   1   0   0  0   0   0   0  0   0  ...   0   1   0   0   \n",
      "RHOMBOHEDRAL_A7    0   0   1   0  0   0   0   1  0   0  ...   0   0   0   0   \n",
      "RED_P              0   0   1   0  0   0   0   0  0   0  ...   0   0   0   0   \n",
      "DHCP               0   0   0   1  0   0   0   0  0   0  ...   0   0   0   0   \n",
      "BETA_RHOMBO_B      0   0   0   0  1   0   0   0  0   0  ...   0   0   0   0   \n",
      "GRAPHITE           0   0   0   0  1   0   0   0  1   0  ...   0   0   0   0   \n",
      "TETRAGONAL_A6      0   0   0   0  0   0   0   1  0   0  ...   0   0   0   0   \n",
      "TET_ALPHA1         0   0   0   0  0   0   0   1  0   0  ...   0   0   0   0   \n",
      "RHOMBO_A10         0   0   0   0  0   0   0   0  0   0  ...   0   0   0   0   \n",
      "ORTHORHOMBIC_A20   0   0   0   0  0   0   0   0  0   0  ...   0   0   0   0   \n",
      "ORTHORHOMBIC_GA    0   0   0   0  0   0   0   0  0   0  ...   0   0   0   0   \n",
      "GAS (1/2N2)        0   0   0   0  0   0   0   0  0   0  ...   0   0   0   0   \n",
      "ORTHO_Ac           0   0   0   0  0   0   0   0  0   0  ...   0   0   0   0   \n",
      "TETRAG_Ad          0   0   0   0  0   0   0   0  0   0  ...   0   0   0   0   \n",
      "GAS (1/2O2<g>)     0   0   0   0  0   0   0   0  0   0  ...   0   0   0   0   \n",
      "WHITE_P            0   0   0   0  0   0   0   0  0   0  ...   0   0   0   0   \n",
      "BCT_Aa             0   0   0   0  0   0   0   0  0   0  ...   0   0   0   0   \n",
      "ALPHA_PU           0   0   0   0  0   0   0   0  0   0  ...   0   0   0   0   \n",
      "BETA_PU            0   0   0   0  0   0   0   0  0   0  ...   0   0   0   0   \n",
      "GAMMA_PU           0   0   0   0  0   0   0   0  0   0  ...   0   0   0   0   \n",
      "ORTHORHOMBIC_S     0   0   0   0  0   0   0   0  0   0  ...   0   0   0   0   \n",
      "MONOCLINIC         0   0   0   0  0   0   0   0  0   0  ...   0   0   0   0   \n",
      "HEXAGONAL_A8       0   0   0   0  0   0   0   0  0   0  ...   0   0   0   0   \n",
      "RHOMB_C19          0   0   0   0  0   0   0   0  0   0  ...   0   0   0   0   \n",
      "D                  0   0   0   0  0   0   0   0  0   0  ...   0   0   0   0   \n",
      "TETRAGONAL_U       0   0   0   0  0   0   0   0  0   0  ...   0   0   0   0   \n",
      "\n",
      "                  U  V  W  Y  Yb  Zn  \n",
      "FCC_A1            1  1  1  1   1   1  \n",
      "LIQUID            1  1  1  1   1   1  \n",
      "HCP_A3            1  1  1  1   1   1  \n",
      "BCC_A2            1  1  1  1   1   1  \n",
      "BCT_A5            0  0  0  0   0   1  \n",
      "CUB_A13           0  1  0  0   0   1  \n",
      "HCP_ZN            0  0  0  0   0   1  \n",
      "DIAMOND_A4        0  0  0  0   0   1  \n",
      "CBCC_A12          0  1  0  0   0   1  \n",
      "RHOMBOHEDRAL_A7   0  0  0  0   0   1  \n",
      "RED_P             0  0  0  0   0   0  \n",
      "DHCP              0  0  0  0   0   0  \n",
      "BETA_RHOMBO_B     0  0  0  0   0   0  \n",
      "GRAPHITE          0  0  0  0   0   0  \n",
      "TETRAGONAL_A6     0  0  0  0   0   1  \n",
      "TET_ALPHA1        0  0  0  0   0   0  \n",
      "RHOMBO_A10        0  0  0  0   0   1  \n",
      "ORTHORHOMBIC_A20  1  0  0  0   0   0  \n",
      "ORTHORHOMBIC_GA   0  0  0  0   0   0  \n",
      "GAS (1/2N2)       0  0  0  0   0   0  \n",
      "ORTHO_Ac          0  0  0  0   0   0  \n",
      "TETRAG_Ad         0  0  0  0   0   0  \n",
      "GAS (1/2O2<g>)    0  0  0  0   0   0  \n",
      "WHITE_P           0  0  0  0   0   0  \n",
      "BCT_Aa            0  0  0  0   0   0  \n",
      "ALPHA_PU          0  0  0  0   0   0  \n",
      "BETA_PU           0  0  0  0   0   0  \n",
      "GAMMA_PU          0  0  0  0   0   0  \n",
      "ORTHORHOMBIC_S    0  0  0  0   0   0  \n",
      "MONOCLINIC        0  0  0  0   0   0  \n",
      "HEXAGONAL_A8      0  0  0  0   0   0  \n",
      "RHOMB_C19         0  0  0  0   0   0  \n",
      "D                 0  0  0  0   0   0  \n",
      "TETRAGONAL_U      1  0  0  0   0   0  \n",
      "\n",
      "[34 rows x 76 columns]\n"
     ]
    }
   ],
   "source": [
    "print(elements_df)"
   ]
  },
  {
   "cell_type": "code",
   "execution_count": 7,
   "id": "21515abf",
   "metadata": {},
   "outputs": [],
   "source": [
    "elements_df.to_excel(elements_file)"
   ]
  },
  {
   "cell_type": "code",
   "execution_count": null,
   "id": "43cf7e2c",
   "metadata": {},
   "outputs": [],
   "source": []
  }
 ],
 "metadata": {
  "kernelspec": {
   "display_name": "Python 3 (ipykernel)",
   "language": "python",
   "name": "python3"
  },
  "language_info": {
   "codemirror_mode": {
    "name": "ipython",
    "version": 3
   },
   "file_extension": ".py",
   "mimetype": "text/x-python",
   "name": "python",
   "nbconvert_exporter": "python",
   "pygments_lexer": "ipython3",
   "version": "3.8.12"
  }
 },
 "nbformat": 4,
 "nbformat_minor": 5
}
