{
 "cells": [
  {
   "cell_type": "code",
   "execution_count": 24,
   "id": "bc8fae51",
   "metadata": {},
   "outputs": [],
   "source": [
    "from Neural_Nets.Classification.ThermoClassifier.Development.ThermoClassifier import ThermoClassifier\n",
    "import torch\n",
    "import numpy as np"
   ]
  },
  {
   "cell_type": "code",
   "execution_count": 23,
   "id": "3b2a65bd",
   "metadata": {},
   "outputs": [
    {
     "name": "stdout",
     "output_type": "stream",
     "text": [
      "torch.Size([3, 1, 2])\n",
      "torch.Size([1, 5])\n",
      "tensor([[0.1908, 0.1837, 0.2436, 0.1982, 0.1837]], grad_fn=<SoftmaxBackward0>)\n"
     ]
    }
   ],
   "source": [
    "net = ThermoClassifier()\n",
    "\n",
    "inp = torch.tensor([[[200., 5.]], [[250., 7.]], [[400., 50.]]])\n",
    "\n",
    "print(inp.shape)\n",
    "\n",
    "out = net(inp)\n",
    "print(out.shape)\n",
    "print(out)"
   ]
  },
  {
   "cell_type": "code",
   "execution_count": null,
   "id": "c91fde85",
   "metadata": {},
   "outputs": [],
   "source": []
  }
 ],
 "metadata": {
  "kernelspec": {
   "display_name": "Python 3 (ipykernel)",
   "language": "python",
   "name": "python3"
  },
  "language_info": {
   "codemirror_mode": {
    "name": "ipython",
    "version": 3
   },
   "file_extension": ".py",
   "mimetype": "text/x-python",
   "name": "python",
   "nbconvert_exporter": "python",
   "pygments_lexer": "ipython3",
   "version": "3.8.12"
  }
 },
 "nbformat": 4,
 "nbformat_minor": 5
}
