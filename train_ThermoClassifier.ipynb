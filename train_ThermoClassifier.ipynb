{
 "cells": [
  {
   "cell_type": "code",
   "execution_count": 10,
   "id": "9aa6c82e",
   "metadata": {},
   "outputs": [],
   "source": [
    "from Neural_Nets.Classification.ThermoClassifier.Development.ThermoClassifier import ThermoClassifier\n",
    "from Neural_Nets.Classification.ClassificationDataset.Development.ClassificationDataset import *\n",
    "from torch.utils.data import DataLoader\n",
    "import torch\n",
    "import torch.nn as nn\n",
    "import numpy as np"
   ]
  },
  {
   "cell_type": "code",
   "execution_count": 25,
   "id": "8062abaf",
   "metadata": {
    "scrolled": false
   },
   "outputs": [],
   "source": [
    "def epoch(net, train_loader, loss_func, batch_size, seq_len):\n",
    "    for d in train_loader:\n",
    "        d = d.reshape(seq_len, batch_size, 3)\n",
    "        inp = d[:, :, :-1]\n",
    "        predictions = net(inp.float())\n",
    "        \n",
    "        targets = d[:, :, -1].reshape(batch_size, seq_len)\n",
    "        print(predictions.shape)\n",
    "        print(targets.shape)\n",
    "        \n",
    "        loss = loss_func(predictions, targets)\n",
    "        print(loss)\n",
    "        break"
   ]
  },
  {
   "cell_type": "code",
   "execution_count": 23,
   "id": "1bcc489a",
   "metadata": {},
   "outputs": [],
   "source": [
    "def train(net, train_loader, batch_size, seq_len):\n",
    "    nr_epochs = 1\n",
    "    \n",
    "    loss_func = nn.CrossEntropyLoss()\n",
    "    \n",
    "    epoch(net, train_loader, loss_func, batch_size, seq_len)"
   ]
  },
  {
   "cell_type": "code",
   "execution_count": 21,
   "id": "df4dd515",
   "metadata": {
    "scrolled": false
   },
   "outputs": [],
   "source": [
    "seq_len = 5\n",
    "\n",
    "dc = DatasetCreator(r\"C:\\Users\\danie\\Documents\\Montanuni\\Masterarbeit\\4_Daten\\Elements.xlsx\", elements=None, \n",
    "                   splits=(0.6, 0.2, 0.2), validation=True, seq_len=seq_len)\n",
    "train_dataset, test_dataset, val_dataset = dc.get_datasets()\n",
    "\n",
    "batch_size = 16\n",
    "\n",
    "train_loader = DataLoader(train_dataset, batch_size=batch_size, shuffle=True)\n",
    "test_loader = DataLoader(test_dataset, batch_size=1, shuffle=True)\n",
    "\n",
    "if val_dataset:\n",
    "    val_loader = DataLoader(val_dataset)\n",
    "    \n",
    "net = ThermoClassifier()"
   ]
  },
  {
   "cell_type": "code",
   "execution_count": 26,
   "id": "b2226823",
   "metadata": {},
   "outputs": [
    {
     "name": "stdout",
     "output_type": "stream",
     "text": [
      "torch.float32\n",
      "torch.Size([16, 5])\n",
      "torch.Size([16, 5])\n",
      "tensor(1573.8039, dtype=torch.float64, grad_fn=<DivBackward1>)\n"
     ]
    }
   ],
   "source": [
    "train(net, train_loader, batch_size, seq_len)"
   ]
  },
  {
   "cell_type": "code",
   "execution_count": null,
   "id": "20b85515",
   "metadata": {},
   "outputs": [],
   "source": []
  }
 ],
 "metadata": {
  "kernelspec": {
   "display_name": "Python 3 (ipykernel)",
   "language": "python",
   "name": "python3"
  },
  "language_info": {
   "codemirror_mode": {
    "name": "ipython",
    "version": 3
   },
   "file_extension": ".py",
   "mimetype": "text/x-python",
   "name": "python",
   "nbconvert_exporter": "python",
   "pygments_lexer": "ipython3",
   "version": "3.8.12"
  }
 },
 "nbformat": 4,
 "nbformat_minor": 5
}
