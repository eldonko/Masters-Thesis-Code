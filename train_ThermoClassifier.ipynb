{
 "cells": [
  {
   "cell_type": "code",
   "execution_count": 6,
   "id": "922bd1bd",
   "metadata": {},
   "outputs": [],
   "source": [
    "from Neural_Nets.Classification.ThermoClassifier.Development.ThermoClassifier import ThermoClassifier\n",
    "from Neural_Nets.Classification.ClassificationDataset.Development.ClassificationDataset import *\n",
    "from torch.utils.data import DataLoader\n",
    "import torch\n",
    "import numpy as np"
   ]
  },
  {
   "cell_type": "code",
   "execution_count": 2,
   "id": "1bccd66a",
   "metadata": {},
   "outputs": [
    {
     "name": "stdout",
     "output_type": "stream",
     "text": [
      "torch.Size([3, 1, 2])\n",
      "torch.Size([1, 5])\n",
      "tensor([[0.2244, 0.2026, 0.1710, 0.1913, 0.2107]], grad_fn=<SoftmaxBackward0>)\n"
     ]
    },
    {
     "name": "stderr",
     "output_type": "stream",
     "text": [
      "C:\\Users\\danie\\anaconda3\\envs\\5_Programmcodes\\lib\\site-packages\\torch\\nn\\modules\\container.py:141: UserWarning: Implicit dimension choice for softmax has been deprecated. Change the call to include dim=X as an argument.\n",
      "  input = module(input)\n"
     ]
    }
   ],
   "source": [
    "net = ThermoClassifier()\n",
    "\n",
    "inp = torch.tensor([[[200., 5.]], [[250., 7.]], [[400., 50.]]])\n",
    "\n",
    "print(inp.shape)\n",
    "\n",
    "out = net(inp)\n",
    "print(out.shape)\n",
    "print(out)"
   ]
  },
  {
   "cell_type": "code",
   "execution_count": 4,
   "id": "344b355a",
   "metadata": {},
   "outputs": [
    {
     "name": "stdout",
     "output_type": "stream",
     "text": [
      "Fe successfully selected!\n",
      "\n",
      "(302, 5, 3)\n",
      "[[[ 4.40000000e+02 -1.27620938e+04  0.00000000e+00]\n",
      "  [ 1.38700000e+03 -7.13308125e+04  0.00000000e+00]\n",
      "  [ 1.21900000e+03 -5.80629766e+04  0.00000000e+00]\n",
      "  [ 1.33300000e+03 -6.69729453e+04  0.00000000e+00]\n",
      "  [ 1.73200000e+03 -1.01013125e+05  0.00000000e+00]]\n",
      "\n",
      " [[ 7.85000000e+02 -2.90583008e+04  0.00000000e+00]\n",
      "  [ 6.35000000e+02 -2.11977734e+04  0.00000000e+00]\n",
      "  [ 1.80800000e+03 -1.07944602e+05  0.00000000e+00]\n",
      "  [ 1.34500000e+03 -6.79340078e+04  0.00000000e+00]\n",
      "  [ 9.04000000e+02 -3.60851328e+04  0.00000000e+00]]\n",
      "\n",
      " [[ 6.40000000e+02 -2.14414727e+04  0.00000000e+00]\n",
      "  [ 5.12000000e+02 -1.56241309e+04  0.00000000e+00]\n",
      "  [ 9.43000000e+02 -3.85411055e+04  0.00000000e+00]\n",
      "  [ 5.72000000e+02 -1.82399668e+04  0.00000000e+00]\n",
      "  [ 7.59000000e+02 -2.76156016e+04  0.00000000e+00]]\n",
      "\n",
      " ...\n",
      "\n",
      " [[ 8.03000000e+02 -2.31538203e+04  4.00000000e+00]\n",
      "  [ 6.23000000e+02 -1.22979922e+04  4.00000000e+00]\n",
      "  [ 6.27000000e+02 -1.25240781e+04  4.00000000e+00]\n",
      "  [ 1.08400000e+03 -4.25152188e+04  4.00000000e+00]\n",
      "  [ 1.51900000e+03 -7.71818594e+04  4.00000000e+00]]\n",
      "\n",
      " [[ 1.06500000e+03 -4.11240156e+04  4.00000000e+00]\n",
      "  [ 6.91000000e+02 -1.62391172e+04  4.00000000e+00]\n",
      "  [ 1.65800000e+03 -8.92934531e+04  4.00000000e+00]\n",
      "  [ 4.27000000e+02 -2.20807812e+03  4.00000000e+00]\n",
      "  [ 8.72000000e+02 -2.76550469e+04  4.00000000e+00]]\n",
      "\n",
      " [[ 1.11700000e+03 -4.49578594e+04  4.00000000e+00]\n",
      "  [ 4.68000000e+02 -4.14550000e+03  4.00000000e+00]\n",
      "  [ 1.33400000e+03 -6.18097656e+04  4.00000000e+00]\n",
      "  [ 1.20200000e+03 -5.13990625e+04  4.00000000e+00]\n",
      "  [ 5.48000000e+02 -8.19962500e+03  4.00000000e+00]]]\n"
     ]
    }
   ],
   "source": [
    "phase_dataset = ElementDataset((0, 5), 'Fe')"
   ]
  },
  {
   "cell_type": "code",
   "execution_count": null,
   "id": "0031c15f",
   "metadata": {},
   "outputs": [],
   "source": []
  }
 ],
 "metadata": {
  "kernelspec": {
   "display_name": "Python 3 (ipykernel)",
   "language": "python",
   "name": "python3"
  },
  "language_info": {
   "codemirror_mode": {
    "name": "ipython",
    "version": 3
   },
   "file_extension": ".py",
   "mimetype": "text/x-python",
   "name": "python",
   "nbconvert_exporter": "python",
   "pygments_lexer": "ipython3",
   "version": "3.8.12"
  }
 },
 "nbformat": 4,
 "nbformat_minor": 5
}
