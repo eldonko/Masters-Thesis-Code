{
 "cells": [
  {
   "cell_type": "code",
   "execution_count": 1,
   "id": "598158d0",
   "metadata": {},
   "outputs": [],
   "source": [
    "from Neural_Nets.ThermoNet.Development.ThermoNet import ThermoRegressionNet\n",
    "from Neural_Nets.ThermoDataset.Development.ThermoDataset import ThermoDataset\n",
    "from Neural_Nets.ThermoNetActFuncs.Development.ThermoNetActFuncs import Sigmoid, Softplus, ChenSundman, ELUFlipped, Log\n",
    "from Utils.PlotHandler.Development.PlotHandler import PlotHandler \n",
    "import torch\n",
    "from torch.utils.data import DataLoader, Dataset\n",
    "import torch.nn as nn\n",
    "from torch.optim import Rprop, Adam\n",
    "from Data_Handling.SGTEHandler.Development.SGTEHandler import SGTEHandler\n",
    "import numpy as np\n",
    "import matplotlib.pyplot as plt"
   ]
  },
  {
   "cell_type": "code",
   "execution_count": 2,
   "id": "51a1bb84",
   "metadata": {},
   "outputs": [],
   "source": [
    "def epoch(net: ThermoRegressionNet, dataloader, loss_func, optimizer):\n",
    "    epoch_losses = np.zeros([len(dataloader), ])\n",
    "\n",
    "    for i, (temp, g, _, _, _) in enumerate(dataloader):\n",
    "        temp = temp.unsqueeze(-1)\n",
    "        \n",
    "        # Forward pass\n",
    "        gibbs_energy = net(temp)\n",
    "        \n",
    "        # Get the loss\n",
    "        loss = loss_func(gibbs_energy, g.float())\n",
    "\n",
    "        # Backward pass\n",
    "        net.zero_grad()\n",
    "        loss.backward()\n",
    "        optimizer.step()\n",
    "        epoch_losses[i] = loss\n",
    "\n",
    "    print(gibbs_energy.min(), g.min())\n",
    "    mean_epoch_loss = epoch_losses.mean()\n",
    "    #print('Mean epoch loss: ', mean_epoch_loss)\n",
    "    return mean_epoch_loss"
   ]
  },
  {
   "cell_type": "code",
   "execution_count": 3,
   "id": "6ada5d07",
   "metadata": {},
   "outputs": [],
   "source": [
    "def train(net, dataset):\n",
    "    # Hyperparameters\n",
    "    n_epochs = 100\n",
    "    lr = 0.1\n",
    "    batch_size = 16\n",
    "    std_thresh = 0.05\n",
    "\n",
    "    # Data\n",
    "    dataloader = DataLoader(dataset, batch_size=batch_size, shuffle=False)\n",
    "\n",
    "    # Optimizer\n",
    "    optimizer = Adam(net.parameters(), lr=lr)\n",
    "    loss_func = nn.MSELoss()\n",
    "\n",
    "    losses = []\n",
    "    \n",
    "    # Keep track of epoch where learning rate was reduced last\n",
    "    lr_reduced_last = 0\n",
    "\n",
    "    for i in range(n_epochs):\n",
    "        #print('-----\\nEpoch %i:\\n' % i)\n",
    "        loss = epoch(net, dataloader, loss_func, optimizer)\n",
    "        losses.append(loss)\n",
    "        \n",
    "        # Adapt learning rate if standard deviation over the last 10 epochs is below a threshold\n",
    "        if np.array(losses[-10:]).std() < std_thresh and (i - lr_reduced_last) >= 10:\n",
    "            print('Learning rate halfed! \\n')\n",
    "            lr_reduced_last = i\n",
    "            lr /= 2"
   ]
  },
  {
   "cell_type": "code",
   "execution_count": 4,
   "id": "aa160953",
   "metadata": {
    "scrolled": false
   },
   "outputs": [
    {
     "name": "stdout",
     "output_type": "stream",
     "text": [
      "Fe successfully selected!\n",
      "\n"
     ]
    },
    {
     "name": "stderr",
     "output_type": "stream",
     "text": [
      "C:\\Users\\danie\\anaconda3\\envs\\5_Programmcodes\\lib\\site-packages\\torch\\nn\\modules\\loss.py:520: UserWarning: Using a target size (torch.Size([16])) that is different to the input size (torch.Size([16, 1])). This will likely lead to incorrect results due to broadcasting. Please ensure they have the same size.\n",
      "  return F.mse_loss(input, target, reduction=self.reduction)\n",
      "C:\\Users\\danie\\anaconda3\\envs\\5_Programmcodes\\lib\\site-packages\\torch\\nn\\modules\\loss.py:520: UserWarning: Using a target size (torch.Size([1])) that is different to the input size (torch.Size([1, 1])). This will likely lead to incorrect results due to broadcasting. Please ensure they have the same size.\n",
      "  return F.mse_loss(input, target, reduction=self.reduction)\n"
     ]
    },
    {
     "name": "stdout",
     "output_type": "stream",
     "text": [
      "tensor(-1.9289, grad_fn=<MinBackward1>) tensor(-1., dtype=torch.float64)\n",
      "tensor(0.7090, grad_fn=<MinBackward1>) tensor(-1., dtype=torch.float64)\n",
      "tensor(-0.6568, grad_fn=<MinBackward1>) tensor(-1., dtype=torch.float64)\n",
      "tensor(-1.3950, grad_fn=<MinBackward1>) tensor(-1., dtype=torch.float64)\n",
      "tensor(-0.8207, grad_fn=<MinBackward1>) tensor(-1., dtype=torch.float64)\n",
      "tensor(-0.0733, grad_fn=<MinBackward1>) tensor(-1., dtype=torch.float64)\n",
      "tensor(-0.6188, grad_fn=<MinBackward1>) tensor(-1., dtype=torch.float64)\n",
      "tensor(-1.0823, grad_fn=<MinBackward1>) tensor(-1., dtype=torch.float64)\n",
      "tensor(-0.9819, grad_fn=<MinBackward1>) tensor(-1., dtype=torch.float64)\n",
      "tensor(-0.5717, grad_fn=<MinBackward1>) tensor(-1., dtype=torch.float64)\n",
      "tensor(-0.4123, grad_fn=<MinBackward1>) tensor(-1., dtype=torch.float64)\n",
      "tensor(-0.6716, grad_fn=<MinBackward1>) tensor(-1., dtype=torch.float64)\n",
      "tensor(-0.9012, grad_fn=<MinBackward1>) tensor(-1., dtype=torch.float64)\n",
      "tensor(-0.9065, grad_fn=<MinBackward1>) tensor(-1., dtype=torch.float64)\n",
      "tensor(-0.7468, grad_fn=<MinBackward1>) tensor(-1., dtype=torch.float64)\n",
      "tensor(-0.6114, grad_fn=<MinBackward1>) tensor(-1., dtype=torch.float64)\n",
      "tensor(-0.6436, grad_fn=<MinBackward1>) tensor(-1., dtype=torch.float64)\n",
      "tensor(-0.7831, grad_fn=<MinBackward1>) tensor(-1., dtype=torch.float64)\n",
      "tensor(-0.8818, grad_fn=<MinBackward1>) tensor(-1., dtype=torch.float64)\n",
      "Learning rate halfed! \n",
      "\n",
      "tensor(-0.8711, grad_fn=<MinBackward1>) tensor(-1., dtype=torch.float64)\n",
      "tensor(-0.7909, grad_fn=<MinBackward1>) tensor(-1., dtype=torch.float64)\n",
      "tensor(-0.7377, grad_fn=<MinBackward1>) tensor(-1., dtype=torch.float64)\n",
      "tensor(-0.7724, grad_fn=<MinBackward1>) tensor(-1., dtype=torch.float64)\n",
      "tensor(-0.8545, grad_fn=<MinBackward1>) tensor(-1., dtype=torch.float64)\n",
      "tensor(-0.8622, grad_fn=<MinBackward1>) tensor(-1., dtype=torch.float64)\n",
      "tensor(-0.8692, grad_fn=<MinBackward1>) tensor(-1., dtype=torch.float64)\n",
      "tensor(-0.8147, grad_fn=<MinBackward1>) tensor(-1., dtype=torch.float64)\n",
      "tensor(-0.7983, grad_fn=<MinBackward1>) tensor(-1., dtype=torch.float64)\n",
      "tensor(-0.8658, grad_fn=<MinBackward1>) tensor(-1., dtype=torch.float64)\n",
      "Learning rate halfed! \n",
      "\n",
      "tensor(-0.9221, grad_fn=<MinBackward1>) tensor(-1., dtype=torch.float64)\n",
      "tensor(-0.8911, grad_fn=<MinBackward1>) tensor(-1., dtype=torch.float64)\n",
      "tensor(-0.8377, grad_fn=<MinBackward1>) tensor(-1., dtype=torch.float64)\n",
      "tensor(-0.8379, grad_fn=<MinBackward1>) tensor(-1., dtype=torch.float64)\n",
      "tensor(-0.8842, grad_fn=<MinBackward1>) tensor(-1., dtype=torch.float64)\n",
      "tensor(-0.9067, grad_fn=<MinBackward1>) tensor(-1., dtype=torch.float64)\n",
      "tensor(-0.8826, grad_fn=<MinBackward1>) tensor(-1., dtype=torch.float64)\n",
      "tensor(-0.8650, grad_fn=<MinBackward1>) tensor(-1., dtype=torch.float64)\n",
      "tensor(-0.8909, grad_fn=<MinBackward1>) tensor(-1., dtype=torch.float64)\n",
      "tensor(-0.9203, grad_fn=<MinBackward1>) tensor(-1., dtype=torch.float64)\n",
      "Learning rate halfed! \n",
      "\n",
      "tensor(-0.9129, grad_fn=<MinBackward1>) tensor(-1., dtype=torch.float64)\n",
      "tensor(-0.8917, grad_fn=<MinBackward1>) tensor(-1., dtype=torch.float64)\n",
      "tensor(-0.8964, grad_fn=<MinBackward1>) tensor(-1., dtype=torch.float64)\n",
      "tensor(-0.9132, grad_fn=<MinBackward1>) tensor(-1., dtype=torch.float64)\n",
      "tensor(-0.9090, grad_fn=<MinBackward1>) tensor(-1., dtype=torch.float64)\n",
      "tensor(-0.8995, grad_fn=<MinBackward1>) tensor(-1., dtype=torch.float64)\n",
      "tensor(-0.9120, grad_fn=<MinBackward1>) tensor(-1., dtype=torch.float64)\n",
      "tensor(-0.9263, grad_fn=<MinBackward1>) tensor(-1., dtype=torch.float64)\n",
      "tensor(-0.9186, grad_fn=<MinBackward1>) tensor(-1., dtype=torch.float64)\n",
      "tensor(-0.9108, grad_fn=<MinBackward1>) tensor(-1., dtype=torch.float64)\n",
      "Learning rate halfed! \n",
      "\n",
      "tensor(-0.9218, grad_fn=<MinBackward1>) tensor(-1., dtype=torch.float64)\n",
      "tensor(-0.9288, grad_fn=<MinBackward1>) tensor(-1., dtype=torch.float64)\n",
      "tensor(-0.9236, grad_fn=<MinBackward1>) tensor(-1., dtype=torch.float64)\n",
      "tensor(-0.9265, grad_fn=<MinBackward1>) tensor(-1., dtype=torch.float64)\n",
      "tensor(-0.9330, grad_fn=<MinBackward1>) tensor(-1., dtype=torch.float64)\n",
      "tensor(-0.9273, grad_fn=<MinBackward1>) tensor(-1., dtype=torch.float64)\n",
      "tensor(-0.9254, grad_fn=<MinBackward1>) tensor(-1., dtype=torch.float64)\n",
      "tensor(-0.9300, grad_fn=<MinBackward1>) tensor(-1., dtype=torch.float64)\n",
      "tensor(-0.8867, grad_fn=<MinBackward1>) tensor(-1., dtype=torch.float64)\n",
      "tensor(-0.9301, grad_fn=<MinBackward1>) tensor(-1., dtype=torch.float64)\n",
      "Learning rate halfed! \n",
      "\n",
      "tensor(-0.9520, grad_fn=<MinBackward1>) tensor(-1., dtype=torch.float64)\n",
      "tensor(-0.9120, grad_fn=<MinBackward1>) tensor(-1., dtype=torch.float64)\n",
      "tensor(-0.9566, grad_fn=<MinBackward1>) tensor(-1., dtype=torch.float64)\n",
      "tensor(-0.9407, grad_fn=<MinBackward1>) tensor(-1., dtype=torch.float64)\n",
      "tensor(-0.9167, grad_fn=<MinBackward1>) tensor(-1., dtype=torch.float64)\n",
      "tensor(-0.9669, grad_fn=<MinBackward1>) tensor(-1., dtype=torch.float64)\n",
      "tensor(-0.9405, grad_fn=<MinBackward1>) tensor(-1., dtype=torch.float64)\n",
      "tensor(-0.9374, grad_fn=<MinBackward1>) tensor(-1., dtype=torch.float64)\n",
      "tensor(-0.9633, grad_fn=<MinBackward1>) tensor(-1., dtype=torch.float64)\n",
      "tensor(-0.9311, grad_fn=<MinBackward1>) tensor(-1., dtype=torch.float64)\n",
      "Learning rate halfed! \n",
      "\n",
      "tensor(-0.9661, grad_fn=<MinBackward1>) tensor(-1., dtype=torch.float64)\n",
      "tensor(-0.9424, grad_fn=<MinBackward1>) tensor(-1., dtype=torch.float64)\n",
      "tensor(-0.9539, grad_fn=<MinBackward1>) tensor(-1., dtype=torch.float64)\n",
      "tensor(-0.9532, grad_fn=<MinBackward1>) tensor(-1., dtype=torch.float64)\n",
      "tensor(-0.8385, grad_fn=<MinBackward1>) tensor(-1., dtype=torch.float64)\n",
      "tensor(-1.0842, grad_fn=<MinBackward1>) tensor(-1., dtype=torch.float64)\n",
      "tensor(-0.9950, grad_fn=<MinBackward1>) tensor(-1., dtype=torch.float64)\n",
      "tensor(-0.9038, grad_fn=<MinBackward1>) tensor(-1., dtype=torch.float64)\n",
      "tensor(-0.8621, grad_fn=<MinBackward1>) tensor(-1., dtype=torch.float64)\n",
      "tensor(-0.8852, grad_fn=<MinBackward1>) tensor(-1., dtype=torch.float64)\n",
      "Learning rate halfed! \n",
      "\n",
      "tensor(-1.0866, grad_fn=<MinBackward1>) tensor(-1., dtype=torch.float64)\n",
      "tensor(-0.8291, grad_fn=<MinBackward1>) tensor(-1., dtype=torch.float64)\n",
      "tensor(-1.0441, grad_fn=<MinBackward1>) tensor(-1., dtype=torch.float64)\n",
      "tensor(-0.8543, grad_fn=<MinBackward1>) tensor(-1., dtype=torch.float64)\n",
      "tensor(-1.0662, grad_fn=<MinBackward1>) tensor(-1., dtype=torch.float64)\n",
      "tensor(-0.9100, grad_fn=<MinBackward1>) tensor(-1., dtype=torch.float64)\n",
      "tensor(-0.8873, grad_fn=<MinBackward1>) tensor(-1., dtype=torch.float64)\n",
      "tensor(-1.0157, grad_fn=<MinBackward1>) tensor(-1., dtype=torch.float64)\n",
      "tensor(-0.9222, grad_fn=<MinBackward1>) tensor(-1., dtype=torch.float64)\n",
      "tensor(-0.9924, grad_fn=<MinBackward1>) tensor(-1., dtype=torch.float64)\n",
      "Learning rate halfed! \n",
      "\n",
      "tensor(-0.9010, grad_fn=<MinBackward1>) tensor(-1., dtype=torch.float64)\n",
      "tensor(-0.9747, grad_fn=<MinBackward1>) tensor(-1., dtype=torch.float64)\n",
      "tensor(-0.9772, grad_fn=<MinBackward1>) tensor(-1., dtype=torch.float64)\n",
      "tensor(-0.8998, grad_fn=<MinBackward1>) tensor(-1., dtype=torch.float64)\n",
      "tensor(-1.0239, grad_fn=<MinBackward1>) tensor(-1., dtype=torch.float64)\n",
      "tensor(-0.8827, grad_fn=<MinBackward1>) tensor(-1., dtype=torch.float64)\n",
      "tensor(-1.0977, grad_fn=<MinBackward1>) tensor(-1., dtype=torch.float64)\n",
      "tensor(-0.7592, grad_fn=<MinBackward1>) tensor(-1., dtype=torch.float64)\n",
      "tensor(-1.2060, grad_fn=<MinBackward1>) tensor(-1., dtype=torch.float64)\n",
      "tensor(-0.8036, grad_fn=<MinBackward1>) tensor(-1., dtype=torch.float64)\n",
      "Learning rate halfed! \n",
      "\n",
      "tensor(-0.9543, grad_fn=<MinBackward1>) tensor(-1., dtype=torch.float64)\n"
     ]
    }
   ],
   "source": [
    "net = ThermoRegressionNet(hidden_layers=1, hidden_dim=16, act_func=ELUFlipped())\n",
    "\n",
    "element = 'Fe'\n",
    "phase = ['BCC_A2']\n",
    "dataset = ThermoDataset(element, phase, step=100, scaling=True)\n",
    "\n",
    "train(net, dataset)"
   ]
  },
  {
   "cell_type": "code",
   "execution_count": 5,
   "id": "56ae29a5",
   "metadata": {},
   "outputs": [
    {
     "name": "stdout",
     "output_type": "stream",
     "text": [
      "Fe successfully selected!\n",
      "\n",
      "tensor(1999., dtype=torch.float64)\n",
      "tensor([[ 322.3390],\n",
      "        [ 323.4339],\n",
      "        [ 324.5288],\n",
      "        ...,\n",
      "        [2181.4517],\n",
      "        [2182.5469],\n",
      "        [2183.6416]])\n",
      "tensor(125947.5078, dtype=torch.float64)\n"
     ]
    },
    {
     "data": {
      "image/png": "[encoded data removed]",
      "text/plain": [
       "<Figure size 432x288 with 1 Axes>"
      ]
     },
     "metadata": {
      "needs_background": "light"
     },
     "output_type": "display_data"
    }
   ],
   "source": [
    "ph = PlotHandler()\n",
    "\n",
    "ph.properties_temp(net, element, phase, scaling=True)"
   ]
  },
  {
   "cell_type": "code",
   "execution_count": null,
   "id": "18a159ba",
   "metadata": {},
   "outputs": [],
   "source": []
  }
 ],
 "metadata": {
  "kernelspec": {
   "display_name": "Python 3 (ipykernel)",
   "language": "python",
   "name": "python3"
  },
  "language_info": {
   "codemirror_mode": {
    "name": "ipython",
    "version": 3
   },
   "file_extension": ".py",
   "mimetype": "text/x-python",
   "name": "python",
   "nbconvert_exporter": "python",
   "pygments_lexer": "ipython3",
   "version": "3.8.12"
  }
 },
 "nbformat": 4,
 "nbformat_minor": 5
}
