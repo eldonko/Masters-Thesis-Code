{
 "cells": [
  {
   "cell_type": "code",
   "execution_count": 1,
   "id": "598158d0",
   "metadata": {},
   "outputs": [],
   "source": [
    "from Neural_Nets.ThermoNet.Development.ThermoNet import ThermoRegressionNet, ThermoDataset\n",
    "from Neural_Nets.ThermoNetActFuncs.Development.ThermoNetActFuncs import Sigmoid, Softplus, ChenSundman, ELUFlipped, Log\n",
    "from Utils.PlotHandler.Development.PlotHandler import PlotHandler \n",
    "import torch\n",
    "from torch.utils.data import DataLoader, Dataset\n",
    "import torch.nn as nn\n",
    "from torch.optim import Rprop, Adam\n",
    "from Data_Handling.SGTEHandler.Development.SGTEHandler import SGTEHandler\n",
    "import numpy as np\n",
    "import matplotlib.pyplot as plt"
   ]
  },
  {
   "cell_type": "code",
   "execution_count": 2,
   "id": "51a1bb84",
   "metadata": {},
   "outputs": [],
   "source": [
    "def epoch(net: ThermoRegressionNet, dataloader, loss_func, optimizer):\n",
    "    epoch_losses = np.zeros([len(dataloader), ])\n",
    "\n",
    "    for i, (temp, g) in enumerate(dataloader):\n",
    "        temp = temp.unsqueeze(-1)\n",
    "        \n",
    "        # Forward pass\n",
    "        gibbs_energy = net(temp)\n",
    "        \n",
    "        # Get the loss\n",
    "        loss = loss_func(gibbs_energy, g.float())\n",
    "\n",
    "        # Backward pass\n",
    "        net.zero_grad()\n",
    "        loss.backward()\n",
    "        optimizer.step()\n",
    "        epoch_losses[i] = loss\n",
    "\n",
    "    #print(gibbs_energy.mean(), g.mean())\n",
    "    mean_epoch_loss = epoch_losses.mean()\n",
    "    #print('Mean epoch loss: ', mean_epoch_loss)\n",
    "    return mean_epoch_loss"
   ]
  },
  {
   "cell_type": "code",
   "execution_count": 3,
   "id": "6ada5d07",
   "metadata": {},
   "outputs": [],
   "source": [
    "def train(net, dataset):\n",
    "    # Hyperparameters\n",
    "    n_epochs = 100\n",
    "    lr = 0.1\n",
    "    batch_size = 16\n",
    "    std_thresh = 0.05\n",
    "\n",
    "    # Data\n",
    "    dataloader = DataLoader(dataset, batch_size=batch_size, shuffle=True)\n",
    "\n",
    "    # Optimizer\n",
    "    optimizer = Adam(net.parameters(), lr=lr)\n",
    "    loss_func = nn.MSELoss()\n",
    "\n",
    "    losses = []\n",
    "    \n",
    "    # Keep track of epoch where learning rate was reduced last\n",
    "    lr_reduced_last = 0\n",
    "\n",
    "    for i in range(n_epochs):\n",
    "        #print('-----\\nEpoch %i:\\n' % i)\n",
    "        loss = epoch(net, dataloader, loss_func, optimizer)\n",
    "        losses.append(loss)\n",
    "        \n",
    "        # Adapt learning rate if standard deviation over the last 10 epochs is below a threshold\n",
    "        if np.array(losses[-10:]).std() < std_thresh and (i - lr_reduced_last) >= 10:\n",
    "            print('Learning rate halfed! \\n')\n",
    "            lr_reduced_last = i\n",
    "            lr /= 2"
   ]
  },
  {
   "cell_type": "code",
   "execution_count": 4,
   "id": "aa160953",
   "metadata": {
    "scrolled": false
   },
   "outputs": [
    {
     "name": "stdout",
     "output_type": "stream",
     "text": [
      "Fe successfully selected!\n",
      "\n"
     ]
    },
    {
     "name": "stderr",
     "output_type": "stream",
     "text": [
      "C:\\Users\\danie\\anaconda3\\envs\\5_Programmcodes\\lib\\site-packages\\torch\\nn\\modules\\loss.py:520: UserWarning: Using a target size (torch.Size([16])) that is different to the input size (torch.Size([16, 1])). This will likely lead to incorrect results due to broadcasting. Please ensure they have the same size.\n",
      "  return F.mse_loss(input, target, reduction=self.reduction)\n",
      "C:\\Users\\danie\\anaconda3\\envs\\5_Programmcodes\\lib\\site-packages\\torch\\nn\\modules\\loss.py:520: UserWarning: Using a target size (torch.Size([10])) that is different to the input size (torch.Size([10, 1])). This will likely lead to incorrect results due to broadcasting. Please ensure they have the same size.\n",
      "  return F.mse_loss(input, target, reduction=self.reduction)\n"
     ]
    },
    {
     "name": "stdout",
     "output_type": "stream",
     "text": [
      "Learning rate halfed! \n",
      "\n",
      "Learning rate halfed! \n",
      "\n",
      "Learning rate halfed! \n",
      "\n",
      "Learning rate halfed! \n",
      "\n",
      "Learning rate halfed! \n",
      "\n",
      "Learning rate halfed! \n",
      "\n",
      "Learning rate halfed! \n",
      "\n",
      "Learning rate halfed! \n",
      "\n",
      "Learning rate halfed! \n",
      "\n"
     ]
    }
   ],
   "source": [
    "net = ThermoRegressionNet(hidden_layers=2, hidden_dim=128, act_func=nn.LeakyReLU())\n",
    "\n",
    "element = 'Fe'\n",
    "phase = ['BCC_A2']\n",
    "dataset = ThermoDataset(element, phase, step=10)\n",
    "\n",
    "train(net, dataset)"
   ]
  },
  {
   "cell_type": "code",
   "execution_count": 5,
   "id": "56ae29a5",
   "metadata": {},
   "outputs": [
    {
     "name": "stdout",
     "output_type": "stream",
     "text": [
      "tensor([[0.4903],\n",
      "        [0.4903],\n",
      "        [0.4904],\n",
      "        ...,\n",
      "        [0.5245],\n",
      "        [0.5245],\n",
      "        [0.5245]], grad_fn=<AddmmBackward0>)\n",
      "tensor([0.1502, 0.1551, 0.1601, 0.1651, 0.1700, 0.1750, 0.1799, 0.1849, 0.1898,\n",
      "        0.1947, 0.1997, 0.2046, 0.2095, 0.2144, 0.2193, 0.2242, 0.2291, 0.2340,\n",
      "        0.2389, 0.2438, 0.2486, 0.2535, 0.2583, 0.2632, 0.2680, 0.2729, 0.2777,\n",
      "        0.2825, 0.2873, 0.2922, 0.2970, 0.3018, 0.3065, 0.3113, 0.3161, 0.3209,\n",
      "        0.3256, 0.3304, 0.3351, 0.3398, 0.3445, 0.3493, 0.3540, 0.3587, 0.3633,\n",
      "        0.3680, 0.3727, 0.3774, 0.3820, 0.3866, 0.3913, 0.3959, 0.4005, 0.4051,\n",
      "        0.4097, 0.4143, 0.4188, 0.4234, 0.4279, 0.4325, 0.4370, 0.4415, 0.4460,\n",
      "        0.4505, 0.4550, 0.4595, 0.4639, 0.4684, 0.4728, 0.4772, 0.4816, 0.4860,\n",
      "        0.4904, 0.4948, 0.4991, 0.5035, 0.5078, 0.5122, 0.5165, 0.5208, 0.5250,\n",
      "        0.5293, 0.5336, 0.5378, 0.5420, 0.5463, 0.5505, 0.5546, 0.5588, 0.5630,\n",
      "        0.5671, 0.5713, 0.5754, 0.5795, 0.5836, 0.5876, 0.5917, 0.5957, 0.5998,\n",
      "        0.6038, 0.6078, 0.6118, 0.6157, 0.6197, 0.6236, 0.6275, 0.6314, 0.6353,\n",
      "        0.6392, 0.6431, 0.6469, 0.6507, 0.6545, 0.6583, 0.6621, 0.6659, 0.6696,\n",
      "        0.6733, 0.6770, 0.6807, 0.6844, 0.6880, 0.6917, 0.6953, 0.6989, 0.7025,\n",
      "        0.7061, 0.7096, 0.7131, 0.7167, 0.7202, 0.7236, 0.7271, 0.7305, 0.7340,\n",
      "        0.7374, 0.7407, 0.7441, 0.7475, 0.7508, 0.7541, 0.7574, 0.7607, 0.7639,\n",
      "        0.7671, 0.7704, 0.7735, 0.7767, 0.7799, 0.7830, 0.7861, 0.7892, 0.7923,\n",
      "        0.7954, 0.7984, 0.8014, 0.8044, 0.8074, 0.8103, 0.8133, 0.8162, 0.8191,\n",
      "        0.8219, 0.8248, 0.8276, 0.8304, 0.8332, 0.8360, 0.8387, 0.8415],\n",
      "       dtype=torch.float64)\n",
      "tensor([[0.1001],\n",
      "        [0.1006],\n",
      "        [0.1011],\n",
      "        ...,\n",
      "        [0.9990],\n",
      "        [0.9995],\n",
      "        [1.0000]], dtype=torch.float64)\n"
     ]
    },
    {
     "data": {
      "image/png": "[encoded data removed]",
      "text/plain": [
       "<Figure size 432x288 with 1 Axes>"
      ]
     },
     "metadata": {
      "needs_background": "light"
     },
     "output_type": "display_data"
    }
   ],
   "source": [
    "ph = PlotHandler()\n",
    "\n",
    "ph.properties_temp(net, dataset, input_scaling=True)"
   ]
  },
  {
   "cell_type": "code",
   "execution_count": 6,
   "id": "08d515e9",
   "metadata": {},
   "outputs": [
    {
     "data": {
      "image/png": "[encoded data removed]",
      "text/plain": [
       "<Figure size 432x288 with 1 Axes>"
      ]
     },
     "metadata": {
      "needs_background": "light"
     },
     "output_type": "display_data"
    },
    {
     "data": {
      "text/plain": [
       "([<matplotlib.lines.Line2D at 0x151894753d0>], None)"
      ]
     },
     "execution_count": 6,
     "metadata": {},
     "output_type": "execute_result"
    }
   ],
   "source": [
    "x = torch.tensor(list(range(-10, 10, 1)), dtype=torch.float32)\n",
    "y = torch.sin(x)\n",
    "\n",
    "plt.plot(x, y), plt.show()"
   ]
  },
  {
   "cell_type": "code",
   "execution_count": null,
   "id": "18a159ba",
   "metadata": {},
   "outputs": [],
   "source": []
  }
 ],
 "metadata": {
  "kernelspec": {
   "display_name": "Python 3 (ipykernel)",
   "language": "python",
   "name": "python3"
  },
  "language_info": {
   "codemirror_mode": {
    "name": "ipython",
    "version": 3
   },
   "file_extension": ".py",
   "mimetype": "text/x-python",
   "name": "python",
   "nbconvert_exporter": "python",
   "pygments_lexer": "ipython3",
   "version": "3.8.12"
  }
 },
 "nbformat": 4,
 "nbformat_minor": 5
}
