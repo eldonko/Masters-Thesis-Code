{
 "cells": [
  {
   "cell_type": "code",
   "execution_count": 1,
   "id": "598158d0",
   "metadata": {},
   "outputs": [],
   "source": [
    "from Neural_Nets.ThermoNet.Development.ThermoNet import ThermoRegressionNet\n",
    "from Neural_Nets.ThermoDataset.Development.ThermoDataset import ThermoDataset\n",
    "from Neural_Nets.ThermoNetActFuncs.Development.ThermoNetActFuncs import Softplus, ChenSundman\n",
    "from Utils.PlotHandler.Development.PlotHandler import PlotHandler \n",
    "import torch\n",
    "from torch.utils.data import DataLoader, Dataset\n",
    "import torch.nn as nn\n",
    "from torch.optim import Rprop, Adam\n",
    "import torch.autograd as autograd\n",
    "from Data_Handling.SGTEHandler.Development.SGTEHandler import SGTEHandler\n",
    "import numpy as np\n",
    "import matplotlib.pyplot as plt"
   ]
  },
  {
   "cell_type": "code",
   "execution_count": 2,
   "id": "51a1bb84",
   "metadata": {},
   "outputs": [],
   "source": [
    "def epoch(net: ThermoRegressionNet, dataloader, loss_func, optimizer):\n",
    "    epoch_losses = np.zeros([len(dataloader), ])\n",
    "\n",
    "    for i, (temp, g, _, _, _) in enumerate(dataloader):\n",
    "        temp = temp.unsqueeze(-1)\n",
    "        \n",
    "        # Forward pass\n",
    "        gibbs_energy = net(temp)\n",
    "        \n",
    "        # Get the loss\n",
    "        loss = loss_func(gibbs_energy, g.float())\n",
    "\n",
    "        # Backward pass\n",
    "        net.zero_grad()\n",
    "        loss.backward()\n",
    "        optimizer.step()\n",
    "        epoch_losses[i] = loss\n",
    "\n",
    "    #print(gibbs_energy.min(), g.min())\n",
    "    mean_epoch_loss = epoch_losses.mean()\n",
    "    #print('Mean epoch loss: ', mean_epoch_loss)\n",
    "    return mean_epoch_loss"
   ]
  },
  {
   "cell_type": "code",
   "execution_count": 3,
   "id": "6ada5d07",
   "metadata": {},
   "outputs": [],
   "source": [
    "def train(net, dataset):\n",
    "    # Hyperparameters\n",
    "    n_epochs = 100\n",
    "    lr = 0.1\n",
    "    batch_size = 32\n",
    "    std_thresh = 0.05\n",
    "\n",
    "    # Data\n",
    "    dataloader = DataLoader(dataset, batch_size=batch_size, shuffle=False)\n",
    "\n",
    "    # Optimizer\n",
    "    optimizer = Adam(net.parameters(), lr=lr)\n",
    "    loss_func = nn.MSELoss()\n",
    "\n",
    "    losses = []\n",
    "    \n",
    "    # Keep track of epoch where learning rate was reduced last\n",
    "    lr_reduced_last = 0\n",
    "    \n",
    "    # Minimum loss to find best net\n",
    "    min_loss = epoch(net, dataloader, loss_func, optimizer)\n",
    "    best_net = net\n",
    "\n",
    "    for i in range(n_epochs):\n",
    "        #print('-----\\nEpoch %i:\\n' % i)\n",
    "        loss = epoch(net, dataloader, loss_func, optimizer)\n",
    "        losses.append(loss)\n",
    "        \n",
    "        if loss < min_loss:\n",
    "            min_loss = loss\n",
    "            best_net = net\n",
    "        \n",
    "        # Adapt learning rate if standard deviation over the last 10 epochs is below a threshold\n",
    "        #if np.array(losses[-10:]).std() < std_thresh and (i - lr_reduced_last) >= 10:\n",
    "            #print('Learning rate halfed! \\n')\n",
    "            #lr_reduced_last = i\n",
    "            #lr /= 2\n",
    "    \n",
    "    return best_net"
   ]
  },
  {
   "cell_type": "code",
   "execution_count": 4,
   "id": "aa160953",
   "metadata": {
    "scrolled": false
   },
   "outputs": [
    {
     "name": "stdout",
     "output_type": "stream",
     "text": [
      "Fe successfully selected!\n",
      "\n"
     ]
    },
    {
     "name": "stderr",
     "output_type": "stream",
     "text": [
      "C:\\Users\\danie\\anaconda3\\envs\\5_Programmcodes\\lib\\site-packages\\torch\\nn\\modules\\loss.py:520: UserWarning: Using a target size (torch.Size([32])) that is different to the input size (torch.Size([32, 1])). This will likely lead to incorrect results due to broadcasting. Please ensure they have the same size.\n",
      "  return F.mse_loss(input, target, reduction=self.reduction)\n",
      "C:\\Users\\danie\\anaconda3\\envs\\5_Programmcodes\\lib\\site-packages\\torch\\nn\\modules\\loss.py:520: UserWarning: Using a target size (torch.Size([10])) that is different to the input size (torch.Size([10, 1])). This will likely lead to incorrect results due to broadcasting. Please ensure they have the same size.\n",
      "  return F.mse_loss(input, target, reduction=self.reduction)\n"
     ]
    }
   ],
   "source": [
    "net = ThermoRegressionNet(hidden_layers=1, hidden_dim=16, act_funcs=None)\n",
    "\n",
    "element = 'Fe'\n",
    "phase = ['BCC_A2']\n",
    "scaling = True\n",
    "dataset = ThermoDataset(element, phase, step=10, scaling=scaling)\n",
    "\n",
    "best_net = train(net, dataset)"
   ]
  },
  {
   "cell_type": "code",
   "execution_count": 5,
   "id": "56ae29a5",
   "metadata": {},
   "outputs": [
    {
     "name": "stdout",
     "output_type": "stream",
     "text": [
      "Fe successfully selected!\n",
      "\n"
     ]
    },
    {
     "data": {
      "image/png": "[encoded data removed]",
      "text/plain": [
       "<Figure size 432x288 with 1 Axes>"
      ]
     },
     "metadata": {
      "needs_background": "light"
     },
     "output_type": "display_data"
    },
    {
     "data": {
      "image/png": "[encoded data removed]",
      "text/plain": [
       "<Figure size 432x288 with 1 Axes>"
      ]
     },
     "metadata": {
      "needs_background": "light"
     },
     "output_type": "display_data"
    },
    {
     "data": {
      "image/png": "[encoded data removed]",
      "text/plain": [
       "<Figure size 432x288 with 1 Axes>"
      ]
     },
     "metadata": {
      "needs_background": "light"
     },
     "output_type": "display_data"
    }
   ],
   "source": [
    "ph = PlotHandler()\n",
    "\n",
    "ph.properties_temp(best_net, element, phase, scaling=scaling, unscale_output=False)"
   ]
  },
  {
   "cell_type": "code",
   "execution_count": 6,
   "id": "ecde43e4",
   "metadata": {},
   "outputs": [
    {
     "name": "stdout",
     "output_type": "stream",
     "text": [
      "tensor([[0.3640],\n",
      "        [0.3647],\n",
      "        [0.3653],\n",
      "        ...,\n",
      "        [1.4567],\n",
      "        [1.4568],\n",
      "        [1.4569]], requires_grad=True)\n",
      "\n",
      "tensor([[-0.0518],\n",
      "        [-0.0517],\n",
      "        [-0.0517],\n",
      "        ...,\n",
      "        [ 0.4516],\n",
      "        [ 0.4517],\n",
      "        [ 0.4518]], grad_fn=<AddBackward0>)\n",
      "\n",
      "None\n"
     ]
    }
   ],
   "source": [
    "temp = torch.tensor(list(range(200, 2000)), dtype=torch.float32).unsqueeze(-1)/2000\n",
    "\n",
    "s, h, c = best_net.output_all(temp)\n",
    "\n",
    "print(s)\n",
    "print()\n",
    "print(h)\n",
    "print()\n",
    "print(c)"
   ]
  },
  {
   "cell_type": "code",
   "execution_count": null,
   "id": "2a178324",
   "metadata": {},
   "outputs": [],
   "source": []
  }
 ],
 "metadata": {
  "kernelspec": {
   "display_name": "Python 3 (ipykernel)",
   "language": "python",
   "name": "python3"
  },
  "language_info": {
   "codemirror_mode": {
    "name": "ipython",
    "version": 3
   },
   "file_extension": ".py",
   "mimetype": "text/x-python",
   "name": "python",
   "nbconvert_exporter": "python",
   "pygments_lexer": "ipython3",
   "version": "3.8.12"
  }
 },
 "nbformat": 4,
 "nbformat_minor": 5
}
